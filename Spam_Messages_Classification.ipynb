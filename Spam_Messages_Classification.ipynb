{
  "nbformat": 4,
  "nbformat_minor": 0,
  "metadata": {
    "colab": {
      "provenance": [],
      "collapsed_sections": [],
      "authorship_tag": "ABX9TyMXiO8EKLTVvpm9jEFFoYcG",
      "include_colab_link": true
    },
    "kernelspec": {
      "name": "python3",
      "display_name": "Python 3"
    },
    "language_info": {
      "name": "python"
    },
    "accelerator": "GPU",
    "gpuClass": "standard"
  },
  "cells": [
    {
      "cell_type": "markdown",
      "metadata": {
        "id": "view-in-github",
        "colab_type": "text"
      },
      "source": [
        "<a href=\"https://colab.research.google.com/github/datascientist-hist/Spam_Messages_Classification/blob/main/Spam_Messages_Classification.ipynb\" target=\"_parent\"><img src=\"https://colab.research.google.com/assets/colab-badge.svg\" alt=\"Open In Colab\"/></a>"
      ]
    },
    {
      "cell_type": "markdown",
      "source": [
        "# Email Spam Classification\n",
        "\n",
        "## Goal\n",
        "\n",
        "The aim of this project is to classify emails into spam and non-spam email \n",
        "\n",
        "To do this I will use the frequencies method ,that will count the how many different words there are in a sentence after that I will choose a number of relevant words.Below I will expalin better the method\n",
        "\n"
      ],
      "metadata": {
        "id": "iwRaFDPfTr_x"
      }
    },
    {
      "cell_type": "markdown",
      "source": [
        "##Preparing environment and dataset"
      ],
      "metadata": {
        "id": "FvAJT9vnekou"
      }
    },
    {
      "cell_type": "code",
      "source": [
        "! pip install plotly_express"
      ],
      "metadata": {
        "colab": {
          "base_uri": "https://localhost:8080/"
        },
        "id": "rDRsC5AiYIpp",
        "outputId": "e4f4ad64-49eb-4903-e052-f00c9cdd1794"
      },
      "execution_count": 120,
      "outputs": [
        {
          "output_type": "stream",
          "name": "stdout",
          "text": [
            "Looking in indexes: https://pypi.org/simple, https://us-python.pkg.dev/colab-wheels/public/simple/\n",
            "Requirement already satisfied: plotly_express in /usr/local/lib/python3.7/dist-packages (0.4.1)\n",
            "Requirement already satisfied: plotly>=4.1.0 in /usr/local/lib/python3.7/dist-packages (from plotly_express) (5.5.0)\n",
            "Requirement already satisfied: statsmodels>=0.9.0 in /usr/local/lib/python3.7/dist-packages (from plotly_express) (0.12.2)\n",
            "Requirement already satisfied: scipy>=0.18 in /usr/local/lib/python3.7/dist-packages (from plotly_express) (1.7.3)\n",
            "Requirement already satisfied: pandas>=0.20.0 in /usr/local/lib/python3.7/dist-packages (from plotly_express) (1.3.5)\n",
            "Requirement already satisfied: patsy>=0.5 in /usr/local/lib/python3.7/dist-packages (from plotly_express) (0.5.2)\n",
            "Requirement already satisfied: numpy>=1.11 in /usr/local/lib/python3.7/dist-packages (from plotly_express) (1.21.6)\n",
            "Requirement already satisfied: pytz>=2017.3 in /usr/local/lib/python3.7/dist-packages (from pandas>=0.20.0->plotly_express) (2022.2.1)\n",
            "Requirement already satisfied: python-dateutil>=2.7.3 in /usr/local/lib/python3.7/dist-packages (from pandas>=0.20.0->plotly_express) (2.8.2)\n",
            "Requirement already satisfied: six in /usr/local/lib/python3.7/dist-packages (from patsy>=0.5->plotly_express) (1.15.0)\n",
            "Requirement already satisfied: tenacity>=6.2.0 in /usr/local/lib/python3.7/dist-packages (from plotly>=4.1.0->plotly_express) (8.0.1)\n"
          ]
        }
      ]
    },
    {
      "cell_type": "markdown",
      "source": [
        "\n",
        "\n",
        "#Loading Library"
      ],
      "metadata": {
        "id": "ov0sY2tdVT-J"
      }
    },
    {
      "cell_type": "code",
      "execution_count": 121,
      "metadata": {
        "id": "5fL8kciiLoI3"
      },
      "outputs": [],
      "source": [
        "import numpy as np # linear algebra\n",
        "import pandas as pd # data processing, CSV file I/O (e.g. pd.read_csv)\n",
        "import matplotlib.pyplot as plt\n",
        "import plotly_express as px\n",
        "import plotly.figure_factory as ff\n",
        "from wordcloud import WordCloud\n",
        "import nltk\n",
        "import warnings\n",
        "from sklearn.model_selection import train_test_split\n",
        "warnings.filterwarnings('ignore')"
      ]
    },
    {
      "cell_type": "markdown",
      "source": [
        "#Loading Dataset\n",
        "\n",
        "Dataset has been downloaded from kaggle.\n",
        "\n",
        "You can see more info in the link below\n",
        "\n",
        "https://www.kaggle.com/datasets/uciml/sms-spam-collection-dataset"
      ],
      "metadata": {
        "id": "05TfZLolVcDh"
      }
    },
    {
      "cell_type": "code",
      "source": [
        "data=pd.read_csv('Spam_Classification.csv')"
      ],
      "metadata": {
        "id": "p4K-xO0QMZpU"
      },
      "execution_count": 122,
      "outputs": []
    },
    {
      "cell_type": "code",
      "source": [
        "print(data.shape)\n",
        "print(data.columns)"
      ],
      "metadata": {
        "colab": {
          "base_uri": "https://localhost:8080/"
        },
        "id": "ZGSfJB727L2p",
        "outputId": "478c4a0c-6fce-4fb9-b1a1-06eef8e9e853"
      },
      "execution_count": 123,
      "outputs": [
        {
          "output_type": "stream",
          "name": "stdout",
          "text": [
            "(5572, 2)\n",
            "Index(['Category', 'Message'], dtype='object')\n"
          ]
        }
      ]
    },
    {
      "cell_type": "code",
      "source": [
        "data.head(10)"
      ],
      "metadata": {
        "colab": {
          "base_uri": "https://localhost:8080/",
          "height": 363
        },
        "id": "JY9lI13GODAe",
        "outputId": "ab0f6535-a1c9-4672-941e-9229ddf0236b"
      },
      "execution_count": 124,
      "outputs": [
        {
          "output_type": "execute_result",
          "data": {
            "text/plain": [
              "  Category                                            Message\n",
              "0      ham  Go until jurong point, crazy.. Available only ...\n",
              "1      ham                      Ok lar... Joking wif u oni...\n",
              "2     spam  Free entry in 2 a wkly comp to win FA Cup fina...\n",
              "3      ham  U dun say so early hor... U c already then say...\n",
              "4      ham  Nah I don't think he goes to usf, he lives aro...\n",
              "5     spam  FreeMsg Hey there darling it's been 3 week's n...\n",
              "6      ham  Even my brother is not like to speak with me. ...\n",
              "7      ham  As per your request 'Melle Melle (Oru Minnamin...\n",
              "8     spam  WINNER!! As a valued network customer you have...\n",
              "9     spam  Had your mobile 11 months or more? U R entitle..."
            ],
            "text/html": [
              "\n",
              "  <div id=\"df-36ac0b2f-dc35-4bea-8bbe-ee128837d3ed\">\n",
              "    <div class=\"colab-df-container\">\n",
              "      <div>\n",
              "<style scoped>\n",
              "    .dataframe tbody tr th:only-of-type {\n",
              "        vertical-align: middle;\n",
              "    }\n",
              "\n",
              "    .dataframe tbody tr th {\n",
              "        vertical-align: top;\n",
              "    }\n",
              "\n",
              "    .dataframe thead th {\n",
              "        text-align: right;\n",
              "    }\n",
              "</style>\n",
              "<table border=\"1\" class=\"dataframe\">\n",
              "  <thead>\n",
              "    <tr style=\"text-align: right;\">\n",
              "      <th></th>\n",
              "      <th>Category</th>\n",
              "      <th>Message</th>\n",
              "    </tr>\n",
              "  </thead>\n",
              "  <tbody>\n",
              "    <tr>\n",
              "      <th>0</th>\n",
              "      <td>ham</td>\n",
              "      <td>Go until jurong point, crazy.. Available only ...</td>\n",
              "    </tr>\n",
              "    <tr>\n",
              "      <th>1</th>\n",
              "      <td>ham</td>\n",
              "      <td>Ok lar... Joking wif u oni...</td>\n",
              "    </tr>\n",
              "    <tr>\n",
              "      <th>2</th>\n",
              "      <td>spam</td>\n",
              "      <td>Free entry in 2 a wkly comp to win FA Cup fina...</td>\n",
              "    </tr>\n",
              "    <tr>\n",
              "      <th>3</th>\n",
              "      <td>ham</td>\n",
              "      <td>U dun say so early hor... U c already then say...</td>\n",
              "    </tr>\n",
              "    <tr>\n",
              "      <th>4</th>\n",
              "      <td>ham</td>\n",
              "      <td>Nah I don't think he goes to usf, he lives aro...</td>\n",
              "    </tr>\n",
              "    <tr>\n",
              "      <th>5</th>\n",
              "      <td>spam</td>\n",
              "      <td>FreeMsg Hey there darling it's been 3 week's n...</td>\n",
              "    </tr>\n",
              "    <tr>\n",
              "      <th>6</th>\n",
              "      <td>ham</td>\n",
              "      <td>Even my brother is not like to speak with me. ...</td>\n",
              "    </tr>\n",
              "    <tr>\n",
              "      <th>7</th>\n",
              "      <td>ham</td>\n",
              "      <td>As per your request 'Melle Melle (Oru Minnamin...</td>\n",
              "    </tr>\n",
              "    <tr>\n",
              "      <th>8</th>\n",
              "      <td>spam</td>\n",
              "      <td>WINNER!! As a valued network customer you have...</td>\n",
              "    </tr>\n",
              "    <tr>\n",
              "      <th>9</th>\n",
              "      <td>spam</td>\n",
              "      <td>Had your mobile 11 months or more? U R entitle...</td>\n",
              "    </tr>\n",
              "  </tbody>\n",
              "</table>\n",
              "</div>\n",
              "      <button class=\"colab-df-convert\" onclick=\"convertToInteractive('df-36ac0b2f-dc35-4bea-8bbe-ee128837d3ed')\"\n",
              "              title=\"Convert this dataframe to an interactive table.\"\n",
              "              style=\"display:none;\">\n",
              "        \n",
              "  <svg xmlns=\"http://www.w3.org/2000/svg\" height=\"24px\"viewBox=\"0 0 24 24\"\n",
              "       width=\"24px\">\n",
              "    <path d=\"M0 0h24v24H0V0z\" fill=\"none\"/>\n",
              "    <path d=\"M18.56 5.44l.94 2.06.94-2.06 2.06-.94-2.06-.94-.94-2.06-.94 2.06-2.06.94zm-11 1L8.5 8.5l.94-2.06 2.06-.94-2.06-.94L8.5 2.5l-.94 2.06-2.06.94zm10 10l.94 2.06.94-2.06 2.06-.94-2.06-.94-.94-2.06-.94 2.06-2.06.94z\"/><path d=\"M17.41 7.96l-1.37-1.37c-.4-.4-.92-.59-1.43-.59-.52 0-1.04.2-1.43.59L10.3 9.45l-7.72 7.72c-.78.78-.78 2.05 0 2.83L4 21.41c.39.39.9.59 1.41.59.51 0 1.02-.2 1.41-.59l7.78-7.78 2.81-2.81c.8-.78.8-2.07 0-2.86zM5.41 20L4 18.59l7.72-7.72 1.47 1.35L5.41 20z\"/>\n",
              "  </svg>\n",
              "      </button>\n",
              "      \n",
              "  <style>\n",
              "    .colab-df-container {\n",
              "      display:flex;\n",
              "      flex-wrap:wrap;\n",
              "      gap: 12px;\n",
              "    }\n",
              "\n",
              "    .colab-df-convert {\n",
              "      background-color: #E8F0FE;\n",
              "      border: none;\n",
              "      border-radius: 50%;\n",
              "      cursor: pointer;\n",
              "      display: none;\n",
              "      fill: #1967D2;\n",
              "      height: 32px;\n",
              "      padding: 0 0 0 0;\n",
              "      width: 32px;\n",
              "    }\n",
              "\n",
              "    .colab-df-convert:hover {\n",
              "      background-color: #E2EBFA;\n",
              "      box-shadow: 0px 1px 2px rgba(60, 64, 67, 0.3), 0px 1px 3px 1px rgba(60, 64, 67, 0.15);\n",
              "      fill: #174EA6;\n",
              "    }\n",
              "\n",
              "    [theme=dark] .colab-df-convert {\n",
              "      background-color: #3B4455;\n",
              "      fill: #D2E3FC;\n",
              "    }\n",
              "\n",
              "    [theme=dark] .colab-df-convert:hover {\n",
              "      background-color: #434B5C;\n",
              "      box-shadow: 0px 1px 3px 1px rgba(0, 0, 0, 0.15);\n",
              "      filter: drop-shadow(0px 1px 2px rgba(0, 0, 0, 0.3));\n",
              "      fill: #FFFFFF;\n",
              "    }\n",
              "  </style>\n",
              "\n",
              "      <script>\n",
              "        const buttonEl =\n",
              "          document.querySelector('#df-36ac0b2f-dc35-4bea-8bbe-ee128837d3ed button.colab-df-convert');\n",
              "        buttonEl.style.display =\n",
              "          google.colab.kernel.accessAllowed ? 'block' : 'none';\n",
              "\n",
              "        async function convertToInteractive(key) {\n",
              "          const element = document.querySelector('#df-36ac0b2f-dc35-4bea-8bbe-ee128837d3ed');\n",
              "          const dataTable =\n",
              "            await google.colab.kernel.invokeFunction('convertToInteractive',\n",
              "                                                     [key], {});\n",
              "          if (!dataTable) return;\n",
              "\n",
              "          const docLinkHtml = 'Like what you see? Visit the ' +\n",
              "            '<a target=\"_blank\" href=https://colab.research.google.com/notebooks/data_table.ipynb>data table notebook</a>'\n",
              "            + ' to learn more about interactive tables.';\n",
              "          element.innerHTML = '';\n",
              "          dataTable['output_type'] = 'display_data';\n",
              "          await google.colab.output.renderOutput(dataTable, element);\n",
              "          const docLink = document.createElement('div');\n",
              "          docLink.innerHTML = docLinkHtml;\n",
              "          element.appendChild(docLink);\n",
              "        }\n",
              "      </script>\n",
              "    </div>\n",
              "  </div>\n",
              "  "
            ]
          },
          "metadata": {},
          "execution_count": 124
        }
      ]
    },
    {
      "cell_type": "markdown",
      "source": [
        "#EDA \n",
        "I am going to obtain a general overview of the dataset using graphs and adding also a new feature *length* that describes the  number of characters of each email\n"
      ],
      "metadata": {
        "id": "xGipi-xQV9yL"
      }
    },
    {
      "cell_type": "code",
      "source": [
        "data['Category'].value_counts().to_dict()"
      ],
      "metadata": {
        "colab": {
          "base_uri": "https://localhost:8080/"
        },
        "id": "x5cXXDki2eRd",
        "outputId": "68fa93e4-afa6-4a2c-8195-3409197d4f5b"
      },
      "execution_count": 125,
      "outputs": [
        {
          "output_type": "execute_result",
          "data": {
            "text/plain": [
              "{'ham': 4825, 'spam': 747}"
            ]
          },
          "metadata": {},
          "execution_count": 125
        }
      ]
    },
    {
      "cell_type": "code",
      "source": [
        "fig = px.histogram(data, x=\"Category\", color=\"Category\",\n",
        "                   color_discrete_sequence=['#003f5c', '#ffa600'])\n",
        "fig.show()"
      ],
      "metadata": {
        "colab": {
          "base_uri": "https://localhost:8080/",
          "height": 542
        },
        "id": "SsXgrBLHX2gJ",
        "outputId": "3adb0484-f1c3-4815-bd34-87f7e96b9718"
      },
      "execution_count": 126,
      "outputs": [
        {
          "output_type": "display_data",
          "data": {
            "text/html": [
              "<html>\n",
              "<head><meta charset=\"utf-8\" /></head>\n",
              "<body>\n",
              "    <div>            <script src=\"https://cdnjs.cloudflare.com/ajax/libs/mathjax/2.7.5/MathJax.js?config=TeX-AMS-MML_SVG\"></script><script type=\"text/javascript\">if (window.MathJax) {MathJax.Hub.Config({SVG: {font: \"STIX-Web\"}});}</script>                <script type=\"text/javascript\">window.PlotlyConfig = {MathJaxConfig: 'local'};</script>\n",
              "        <script src=\"https://cdn.plot.ly/plotly-2.8.3.min.js\"></script>                <div id=\"2e9a1830-46a1-4628-b64e-82fbf74ff2e2\" class=\"plotly-graph-div\" style=\"height:525px; width:100%;\"></div>            <script type=\"text/javascript\">                                    window.PLOTLYENV=window.PLOTLYENV || {};                                    if (document.getElementById(\"2e9a1830-46a1-4628-b64e-82fbf74ff2e2\")) {                    Plotly.newPlot(                        \"2e9a1830-46a1-4628-b64e-82fbf74ff2e2\",                        [{\"alignmentgroup\":\"True\",\"bingroup\":\"x\",\"hovertemplate\":\"Category=%{x}<br>count=%{y}<extra></extra>\",\"legendgroup\":\"ham\",\"marker\":{\"color\":\"#003f5c\",\"pattern\":{\"shape\":\"\"}},\"name\":\"ham\",\"offsetgroup\":\"ham\",\"orientation\":\"v\",\"showlegend\":true,\"x\":[\"ham\",\"ham\",\"ham\",\"ham\",\"ham\",\"ham\",\"ham\",\"ham\",\"ham\",\"ham\",\"ham\",\"ham\",\"ham\",\"ham\",\"ham\",\"ham\",\"ham\",\"ham\",\"ham\",\"ham\",\"ham\",\"ham\",\"ham\",\"ham\",\"ham\",\"ham\",\"ham\",\"ham\",\"ham\",\"ham\",\"ham\",\"ham\",\"ham\",\"ham\",\"ham\",\"ham\",\"ham\",\"ham\",\"ham\",\"ham\",\"ham\",\"ham\",\"ham\",\"ham\",\"ham\",\"ham\",\"ham\",\"ham\",\"ham\",\"ham\",\"ham\",\"ham\",\"ham\",\"ham\",\"ham\",\"ham\",\"ham\",\"ham\",\"ham\",\"ham\",\"ham\",\"ham\",\"ham\",\"ham\",\"ham\",\"ham\",\"ham\",\"ham\",\"ham\",\"ham\",\"ham\",\"ham\",\"ham\",\"ham\",\"ham\",\"ham\",\"ham\",\"ham\",\"ham\",\"ham\",\"ham\",\"ham\",\"ham\",\"ham\",\"ham\",\"ham\",\"ham\",\"ham\",\"ham\",\"ham\",\"ham\",\"ham\",\"ham\",\"ham\",\"ham\",\"ham\",\"ham\",\"ham\",\"ham\",\"ham\",\"ham\",\"ham\",\"ham\",\"ham\",\"ham\",\"ham\",\"ham\",\"ham\",\"ham\",\"ham\",\"ham\",\"ham\",\"ham\",\"ham\",\"ham\",\"ham\",\"ham\",\"ham\",\"ham\",\"ham\",\"ham\",\"ham\",\"ham\",\"ham\",\"ham\",\"ham\",\"ham\",\"ham\",\"ham\",\"ham\",\"ham\",\"ham\",\"ham\",\"ham\",\"ham\",\"ham\",\"ham\",\"ham\",\"ham\",\"ham\",\"ham\",\"ham\",\"ham\",\"ham\",\"ham\",\"ham\",\"ham\",\"ham\",\"ham\",\"ham\",\"ham\",\"ham\",\"ham\",\"ham\",\"ham\",\"ham\",\"ham\",\"ham\",\"ham\",\"ham\",\"ham\",\"ham\",\"ham\",\"ham\",\"ham\",\"ham\",\"ham\",\"ham\",\"ham\",\"ham\",\"ham\",\"ham\",\"ham\",\"ham\",\"ham\",\"ham\",\"ham\",\"ham\",\"ham\",\"ham\",\"ham\",\"ham\",\"ham\",\"ham\",\"ham\",\"ham\",\"ham\",\"ham\",\"ham\",\"ham\",\"ham\",\"ham\",\"ham\",\"ham\",\"ham\",\"ham\",\"ham\",\"ham\",\"ham\",\"ham\",\"ham\",\"ham\",\"ham\",\"ham\",\"ham\",\"ham\",\"ham\",\"ham\",\"ham\",\"ham\",\"ham\",\"ham\",\"ham\",\"ham\",\"ham\",\"ham\",\"ham\",\"ham\",\"ham\",\"ham\",\"ham\",\"ham\",\"ham\",\"ham\",\"ham\",\"ham\",\"ham\",\"ham\",\"ham\",\"ham\",\"ham\",\"ham\",\"ham\",\"ham\",\"ham\",\"ham\",\"ham\",\"ham\",\"ham\",\"ham\",\"ham\",\"ham\",\"ham\",\"ham\",\"ham\",\"ham\",\"ham\",\"ham\",\"ham\",\"ham\",\"ham\",\"ham\",\"ham\",\"ham\",\"ham\",\"ham\",\"ham\",\"ham\",\"ham\",\"ham\",\"ham\",\"ham\",\"ham\",\"ham\",\"ham\",\"ham\",\"ham\",\"ham\",\"ham\",\"ham\",\"ham\",\"ham\",\"ham\",\"ham\",\"ham\",\"ham\",\"ham\",\"ham\",\"ham\",\"ham\",\"ham\",\"ham\",\"ham\",\"ham\",\"ham\",\"ham\",\"ham\",\"ham\",\"ham\",\"ham\",\"ham\",\"ham\",\"ham\",\"ham\",\"ham\",\"ham\",\"ham\",\"ham\",\"ham\",\"ham\",\"ham\",\"ham\",\"ham\",\"ham\",\"ham\",\"ham\",\"ham\",\"ham\",\"ham\",\"ham\",\"ham\",\"ham\",\"ham\",\"ham\",\"ham\",\"ham\",\"ham\",\"ham\",\"ham\",\"ham\",\"ham\",\"ham\",\"ham\",\"ham\",\"ham\",\"ham\",\"ham\",\"ham\",\"ham\",\"ham\",\"ham\",\"ham\",\"ham\",\"ham\",\"ham\",\"ham\",\"ham\",\"ham\",\"ham\",\"ham\",\"ham\",\"ham\",\"ham\",\"ham\",\"ham\",\"ham\",\"ham\",\"ham\",\"ham\",\"ham\",\"ham\",\"ham\",\"ham\",\"ham\",\"ham\",\"ham\",\"ham\",\"ham\",\"ham\",\"ham\",\"ham\",\"ham\",\"ham\",\"ham\",\"ham\",\"ham\",\"ham\",\"ham\",\"ham\",\"ham\",\"ham\",\"ham\",\"ham\",\"ham\",\"ham\",\"ham\",\"ham\",\"ham\",\"ham\",\"ham\",\"ham\",\"ham\",\"ham\",\"ham\",\"ham\",\"ham\",\"ham\",\"ham\",\"ham\",\"ham\",\"ham\",\"ham\",\"ham\",\"ham\",\"ham\",\"ham\",\"ham\",\"ham\",\"ham\",\"ham\",\"ham\",\"ham\",\"ham\",\"ham\",\"ham\",\"ham\",\"ham\",\"ham\",\"ham\",\"ham\",\"ham\",\"ham\",\"ham\",\"ham\",\"ham\",\"ham\",\"ham\",\"ham\",\"ham\",\"ham\",\"ham\",\"ham\",\"ham\",\"ham\",\"ham\",\"ham\",\"ham\",\"ham\",\"ham\",\"ham\",\"ham\",\"ham\",\"ham\",\"ham\",\"ham\",\"ham\",\"ham\",\"ham\",\"ham\",\"ham\",\"ham\",\"ham\",\"ham\",\"ham\",\"ham\",\"ham\",\"ham\",\"ham\",\"ham\",\"ham\",\"ham\",\"ham\",\"ham\",\"ham\",\"ham\",\"ham\",\"ham\",\"ham\",\"ham\",\"ham\",\"ham\",\"ham\",\"ham\",\"ham\",\"ham\",\"ham\",\"ham\",\"ham\",\"ham\",\"ham\",\"ham\",\"ham\",\"ham\",\"ham\",\"ham\",\"ham\",\"ham\",\"ham\",\"ham\",\"ham\",\"ham\",\"ham\",\"ham\",\"ham\",\"ham\",\"ham\",\"ham\",\"ham\",\"ham\",\"ham\",\"ham\",\"ham\",\"ham\",\"ham\",\"ham\",\"ham\",\"ham\",\"ham\",\"ham\",\"ham\",\"ham\",\"ham\",\"ham\",\"ham\",\"ham\",\"ham\",\"ham\",\"ham\",\"ham\",\"ham\",\"ham\",\"ham\",\"ham\",\"ham\",\"ham\",\"ham\",\"ham\",\"ham\",\"ham\",\"ham\",\"ham\",\"ham\",\"ham\",\"ham\",\"ham\",\"ham\",\"ham\",\"ham\",\"ham\",\"ham\",\"ham\",\"ham\",\"ham\",\"ham\",\"ham\",\"ham\",\"ham\",\"ham\",\"ham\",\"ham\",\"ham\",\"ham\",\"ham\",\"ham\",\"ham\",\"ham\",\"ham\",\"ham\",\"ham\",\"ham\",\"ham\",\"ham\",\"ham\",\"ham\",\"ham\",\"ham\",\"ham\",\"ham\",\"ham\",\"ham\",\"ham\",\"ham\",\"ham\",\"ham\",\"ham\",\"ham\",\"ham\",\"ham\",\"ham\",\"ham\",\"ham\",\"ham\",\"ham\",\"ham\",\"ham\",\"ham\",\"ham\",\"ham\",\"ham\",\"ham\",\"ham\",\"ham\",\"ham\",\"ham\",\"ham\",\"ham\",\"ham\",\"ham\",\"ham\",\"ham\",\"ham\",\"ham\",\"ham\",\"ham\",\"ham\",\"ham\",\"ham\",\"ham\",\"ham\",\"ham\",\"ham\",\"ham\",\"ham\",\"ham\",\"ham\",\"ham\",\"ham\",\"ham\",\"ham\",\"ham\",\"ham\",\"ham\",\"ham\",\"ham\",\"ham\",\"ham\",\"ham\",\"ham\",\"ham\",\"ham\",\"ham\",\"ham\",\"ham\",\"ham\",\"ham\",\"ham\",\"ham\",\"ham\",\"ham\",\"ham\",\"ham\",\"ham\",\"ham\",\"ham\",\"ham\",\"ham\",\"ham\",\"ham\",\"ham\",\"ham\",\"ham\",\"ham\",\"ham\",\"ham\",\"ham\",\"ham\",\"ham\",\"ham\",\"ham\",\"ham\",\"ham\",\"ham\",\"ham\",\"ham\",\"ham\",\"ham\",\"ham\",\"ham\",\"ham\",\"ham\",\"ham\",\"ham\",\"ham\",\"ham\",\"ham\",\"ham\",\"ham\",\"ham\",\"ham\",\"ham\",\"ham\",\"ham\",\"ham\",\"ham\",\"ham\",\"ham\",\"ham\",\"ham\",\"ham\",\"ham\",\"ham\",\"ham\",\"ham\",\"ham\",\"ham\",\"ham\",\"ham\",\"ham\",\"ham\",\"ham\",\"ham\",\"ham\",\"ham\",\"ham\",\"ham\",\"ham\",\"ham\",\"ham\",\"ham\",\"ham\",\"ham\",\"ham\",\"ham\",\"ham\",\"ham\",\"ham\",\"ham\",\"ham\",\"ham\",\"ham\",\"ham\",\"ham\",\"ham\",\"ham\",\"ham\",\"ham\",\"ham\",\"ham\",\"ham\",\"ham\",\"ham\",\"ham\",\"ham\",\"ham\",\"ham\",\"ham\",\"ham\",\"ham\",\"ham\",\"ham\",\"ham\",\"ham\",\"ham\",\"ham\",\"ham\",\"ham\",\"ham\",\"ham\",\"ham\",\"ham\",\"ham\",\"ham\",\"ham\",\"ham\",\"ham\",\"ham\",\"ham\",\"ham\",\"ham\",\"ham\",\"ham\",\"ham\",\"ham\",\"ham\",\"ham\",\"ham\",\"ham\",\"ham\",\"ham\",\"ham\",\"ham\",\"ham\",\"ham\",\"ham\",\"ham\",\"ham\",\"ham\",\"ham\",\"ham\",\"ham\",\"ham\",\"ham\",\"ham\",\"ham\",\"ham\",\"ham\",\"ham\",\"ham\",\"ham\",\"ham\",\"ham\",\"ham\",\"ham\",\"ham\",\"ham\",\"ham\",\"ham\",\"ham\",\"ham\",\"ham\",\"ham\",\"ham\",\"ham\",\"ham\",\"ham\",\"ham\",\"ham\",\"ham\",\"ham\",\"ham\",\"ham\",\"ham\",\"ham\",\"ham\",\"ham\",\"ham\",\"ham\",\"ham\",\"ham\",\"ham\",\"ham\",\"ham\",\"ham\",\"ham\",\"ham\",\"ham\",\"ham\",\"ham\",\"ham\",\"ham\",\"ham\",\"ham\",\"ham\",\"ham\",\"ham\",\"ham\",\"ham\",\"ham\",\"ham\",\"ham\",\"ham\",\"ham\",\"ham\",\"ham\",\"ham\",\"ham\",\"ham\",\"ham\",\"ham\",\"ham\",\"ham\",\"ham\",\"ham\",\"ham\",\"ham\",\"ham\",\"ham\",\"ham\",\"ham\",\"ham\",\"ham\",\"ham\",\"ham\",\"ham\",\"ham\",\"ham\",\"ham\",\"ham\",\"ham\",\"ham\",\"ham\",\"ham\",\"ham\",\"ham\",\"ham\",\"ham\",\"ham\",\"ham\",\"ham\",\"ham\",\"ham\",\"ham\",\"ham\",\"ham\",\"ham\",\"ham\",\"ham\",\"ham\",\"ham\",\"ham\",\"ham\",\"ham\",\"ham\",\"ham\",\"ham\",\"ham\",\"ham\",\"ham\",\"ham\",\"ham\",\"ham\",\"ham\",\"ham\",\"ham\",\"ham\",\"ham\",\"ham\",\"ham\",\"ham\",\"ham\",\"ham\",\"ham\",\"ham\",\"ham\",\"ham\",\"ham\",\"ham\",\"ham\",\"ham\",\"ham\",\"ham\",\"ham\",\"ham\",\"ham\",\"ham\",\"ham\",\"ham\",\"ham\",\"ham\",\"ham\",\"ham\",\"ham\",\"ham\",\"ham\",\"ham\",\"ham\",\"ham\",\"ham\",\"ham\",\"ham\",\"ham\",\"ham\",\"ham\",\"ham\",\"ham\",\"ham\",\"ham\",\"ham\",\"ham\",\"ham\",\"ham\",\"ham\",\"ham\",\"ham\",\"ham\",\"ham\",\"ham\",\"ham\",\"ham\",\"ham\",\"ham\",\"ham\",\"ham\",\"ham\",\"ham\",\"ham\",\"ham\",\"ham\",\"ham\",\"ham\",\"ham\",\"ham\",\"ham\",\"ham\",\"ham\",\"ham\",\"ham\",\"ham\",\"ham\",\"ham\",\"ham\",\"ham\",\"ham\",\"ham\",\"ham\",\"ham\",\"ham\",\"ham\",\"ham\",\"ham\",\"ham\",\"ham\",\"ham\",\"ham\",\"ham\",\"ham\",\"ham\",\"ham\",\"ham\",\"ham\",\"ham\",\"ham\",\"ham\",\"ham\",\"ham\",\"ham\",\"ham\",\"ham\",\"ham\",\"ham\",\"ham\",\"ham\",\"ham\",\"ham\",\"ham\",\"ham\",\"ham\",\"ham\",\"ham\",\"ham\",\"ham\",\"ham\",\"ham\",\"ham\",\"ham\",\"ham\",\"ham\",\"ham\",\"ham\",\"ham\",\"ham\",\"ham\",\"ham\",\"ham\",\"ham\",\"ham\",\"ham\",\"ham\",\"ham\",\"ham\",\"ham\",\"ham\",\"ham\",\"ham\",\"ham\",\"ham\",\"ham\",\"ham\",\"ham\",\"ham\",\"ham\",\"ham\",\"ham\",\"ham\",\"ham\",\"ham\",\"ham\",\"ham\",\"ham\",\"ham\",\"ham\",\"ham\",\"ham\",\"ham\",\"ham\",\"ham\",\"ham\",\"ham\",\"ham\",\"ham\",\"ham\",\"ham\",\"ham\",\"ham\",\"ham\",\"ham\",\"ham\",\"ham\",\"ham\",\"ham\",\"ham\",\"ham\",\"ham\",\"ham\",\"ham\",\"ham\",\"ham\",\"ham\",\"ham\",\"ham\",\"ham\",\"ham\",\"ham\",\"ham\",\"ham\",\"ham\",\"ham\",\"ham\",\"ham\",\"ham\",\"ham\",\"ham\",\"ham\",\"ham\",\"ham\",\"ham\",\"ham\",\"ham\",\"ham\",\"ham\",\"ham\",\"ham\",\"ham\",\"ham\",\"ham\",\"ham\",\"ham\",\"ham\",\"ham\",\"ham\",\"ham\",\"ham\",\"ham\",\"ham\",\"ham\",\"ham\",\"ham\",\"ham\",\"ham\",\"ham\",\"ham\",\"ham\",\"ham\",\"ham\",\"ham\",\"ham\",\"ham\",\"ham\",\"ham\",\"ham\",\"ham\",\"ham\",\"ham\",\"ham\",\"ham\",\"ham\",\"ham\",\"ham\",\"ham\",\"ham\",\"ham\",\"ham\",\"ham\",\"ham\",\"ham\",\"ham\",\"ham\",\"ham\",\"ham\",\"ham\",\"ham\",\"ham\",\"ham\",\"ham\",\"ham\",\"ham\",\"ham\",\"ham\",\"ham\",\"ham\",\"ham\",\"ham\",\"ham\",\"ham\",\"ham\",\"ham\",\"ham\",\"ham\",\"ham\",\"ham\",\"ham\",\"ham\",\"ham\",\"ham\",\"ham\",\"ham\",\"ham\",\"ham\",\"ham\",\"ham\",\"ham\",\"ham\",\"ham\",\"ham\",\"ham\",\"ham\",\"ham\",\"ham\",\"ham\",\"ham\",\"ham\",\"ham\",\"ham\",\"ham\",\"ham\",\"ham\",\"ham\",\"ham\",\"ham\",\"ham\",\"ham\",\"ham\",\"ham\",\"ham\",\"ham\",\"ham\",\"ham\",\"ham\",\"ham\",\"ham\",\"ham\",\"ham\",\"ham\",\"ham\",\"ham\",\"ham\",\"ham\",\"ham\",\"ham\",\"ham\",\"ham\",\"ham\",\"ham\",\"ham\",\"ham\",\"ham\",\"ham\",\"ham\",\"ham\",\"ham\",\"ham\",\"ham\",\"ham\",\"ham\",\"ham\",\"ham\",\"ham\",\"ham\",\"ham\",\"ham\",\"ham\",\"ham\",\"ham\",\"ham\",\"ham\",\"ham\",\"ham\",\"ham\",\"ham\",\"ham\",\"ham\",\"ham\",\"ham\",\"ham\",\"ham\",\"ham\",\"ham\",\"ham\",\"ham\",\"ham\",\"ham\",\"ham\",\"ham\",\"ham\",\"ham\",\"ham\",\"ham\",\"ham\",\"ham\",\"ham\",\"ham\",\"ham\",\"ham\",\"ham\",\"ham\",\"ham\",\"ham\",\"ham\",\"ham\",\"ham\",\"ham\",\"ham\",\"ham\",\"ham\",\"ham\",\"ham\",\"ham\",\"ham\",\"ham\",\"ham\",\"ham\",\"ham\",\"ham\",\"ham\",\"ham\",\"ham\",\"ham\",\"ham\",\"ham\",\"ham\",\"ham\",\"ham\",\"ham\",\"ham\",\"ham\",\"ham\",\"ham\",\"ham\",\"ham\",\"ham\",\"ham\",\"ham\",\"ham\",\"ham\",\"ham\",\"ham\",\"ham\",\"ham\",\"ham\",\"ham\",\"ham\",\"ham\",\"ham\",\"ham\",\"ham\",\"ham\",\"ham\",\"ham\",\"ham\",\"ham\",\"ham\",\"ham\",\"ham\",\"ham\",\"ham\",\"ham\",\"ham\",\"ham\",\"ham\",\"ham\",\"ham\",\"ham\",\"ham\",\"ham\",\"ham\",\"ham\",\"ham\",\"ham\",\"ham\",\"ham\",\"ham\",\"ham\",\"ham\",\"ham\",\"ham\",\"ham\",\"ham\",\"ham\",\"ham\",\"ham\",\"ham\",\"ham\",\"ham\",\"ham\",\"ham\",\"ham\",\"ham\",\"ham\",\"ham\",\"ham\",\"ham\",\"ham\",\"ham\",\"ham\",\"ham\",\"ham\",\"ham\",\"ham\",\"ham\",\"ham\",\"ham\",\"ham\",\"ham\",\"ham\",\"ham\",\"ham\",\"ham\",\"ham\",\"ham\",\"ham\",\"ham\",\"ham\",\"ham\",\"ham\",\"ham\",\"ham\",\"ham\",\"ham\",\"ham\",\"ham\",\"ham\",\"ham\",\"ham\",\"ham\",\"ham\",\"ham\",\"ham\",\"ham\",\"ham\",\"ham\",\"ham\",\"ham\",\"ham\",\"ham\",\"ham\",\"ham\",\"ham\",\"ham\",\"ham\",\"ham\",\"ham\",\"ham\",\"ham\",\"ham\",\"ham\",\"ham\",\"ham\",\"ham\",\"ham\",\"ham\",\"ham\",\"ham\",\"ham\",\"ham\",\"ham\",\"ham\",\"ham\",\"ham\",\"ham\",\"ham\",\"ham\",\"ham\",\"ham\",\"ham\",\"ham\",\"ham\",\"ham\",\"ham\",\"ham\",\"ham\",\"ham\",\"ham\",\"ham\",\"ham\",\"ham\",\"ham\",\"ham\",\"ham\",\"ham\",\"ham\",\"ham\",\"ham\",\"ham\",\"ham\",\"ham\",\"ham\",\"ham\",\"ham\",\"ham\",\"ham\",\"ham\",\"ham\",\"ham\",\"ham\",\"ham\",\"ham\",\"ham\",\"ham\",\"ham\",\"ham\",\"ham\",\"ham\",\"ham\",\"ham\",\"ham\",\"ham\",\"ham\",\"ham\",\"ham\",\"ham\",\"ham\",\"ham\",\"ham\",\"ham\",\"ham\",\"ham\",\"ham\",\"ham\",\"ham\",\"ham\",\"ham\",\"ham\",\"ham\",\"ham\",\"ham\",\"ham\",\"ham\",\"ham\",\"ham\",\"ham\",\"ham\",\"ham\",\"ham\",\"ham\",\"ham\",\"ham\",\"ham\",\"ham\",\"ham\",\"ham\",\"ham\",\"ham\",\"ham\",\"ham\",\"ham\",\"ham\",\"ham\",\"ham\",\"ham\",\"ham\",\"ham\",\"ham\",\"ham\",\"ham\",\"ham\",\"ham\",\"ham\",\"ham\",\"ham\",\"ham\",\"ham\",\"ham\",\"ham\",\"ham\",\"ham\",\"ham\",\"ham\",\"ham\",\"ham\",\"ham\",\"ham\",\"ham\",\"ham\",\"ham\",\"ham\",\"ham\",\"ham\",\"ham\",\"ham\",\"ham\",\"ham\",\"ham\",\"ham\",\"ham\",\"ham\",\"ham\",\"ham\",\"ham\",\"ham\",\"ham\",\"ham\",\"ham\",\"ham\",\"ham\",\"ham\",\"ham\",\"ham\",\"ham\",\"ham\",\"ham\",\"ham\",\"ham\",\"ham\",\"ham\",\"ham\",\"ham\",\"ham\",\"ham\",\"ham\",\"ham\",\"ham\",\"ham\",\"ham\",\"ham\",\"ham\",\"ham\",\"ham\",\"ham\",\"ham\",\"ham\",\"ham\",\"ham\",\"ham\",\"ham\",\"ham\",\"ham\",\"ham\",\"ham\",\"ham\",\"ham\",\"ham\",\"ham\",\"ham\",\"ham\",\"ham\",\"ham\",\"ham\",\"ham\",\"ham\",\"ham\",\"ham\",\"ham\",\"ham\",\"ham\",\"ham\",\"ham\",\"ham\",\"ham\",\"ham\",\"ham\",\"ham\",\"ham\",\"ham\",\"ham\",\"ham\",\"ham\",\"ham\",\"ham\",\"ham\",\"ham\",\"ham\",\"ham\",\"ham\",\"ham\",\"ham\",\"ham\",\"ham\",\"ham\",\"ham\",\"ham\",\"ham\",\"ham\",\"ham\",\"ham\",\"ham\",\"ham\",\"ham\",\"ham\",\"ham\",\"ham\",\"ham\",\"ham\",\"ham\",\"ham\",\"ham\",\"ham\",\"ham\",\"ham\",\"ham\",\"ham\",\"ham\",\"ham\",\"ham\",\"ham\",\"ham\",\"ham\",\"ham\",\"ham\",\"ham\",\"ham\",\"ham\",\"ham\",\"ham\",\"ham\",\"ham\",\"ham\",\"ham\",\"ham\",\"ham\",\"ham\",\"ham\",\"ham\",\"ham\",\"ham\",\"ham\",\"ham\",\"ham\",\"ham\",\"ham\",\"ham\",\"ham\",\"ham\",\"ham\",\"ham\",\"ham\",\"ham\",\"ham\",\"ham\",\"ham\",\"ham\",\"ham\",\"ham\",\"ham\",\"ham\",\"ham\",\"ham\",\"ham\",\"ham\",\"ham\",\"ham\",\"ham\",\"ham\",\"ham\",\"ham\",\"ham\",\"ham\",\"ham\",\"ham\",\"ham\",\"ham\",\"ham\",\"ham\",\"ham\",\"ham\",\"ham\",\"ham\",\"ham\",\"ham\",\"ham\",\"ham\",\"ham\",\"ham\",\"ham\",\"ham\",\"ham\",\"ham\",\"ham\",\"ham\",\"ham\",\"ham\",\"ham\",\"ham\",\"ham\",\"ham\",\"ham\",\"ham\",\"ham\",\"ham\",\"ham\",\"ham\",\"ham\",\"ham\",\"ham\",\"ham\",\"ham\",\"ham\",\"ham\",\"ham\",\"ham\",\"ham\",\"ham\",\"ham\",\"ham\",\"ham\",\"ham\",\"ham\",\"ham\",\"ham\",\"ham\",\"ham\",\"ham\",\"ham\",\"ham\",\"ham\",\"ham\",\"ham\",\"ham\",\"ham\",\"ham\",\"ham\",\"ham\",\"ham\",\"ham\",\"ham\",\"ham\",\"ham\",\"ham\",\"ham\",\"ham\",\"ham\",\"ham\",\"ham\",\"ham\",\"ham\",\"ham\",\"ham\",\"ham\",\"ham\",\"ham\",\"ham\",\"ham\",\"ham\",\"ham\",\"ham\",\"ham\",\"ham\",\"ham\",\"ham\",\"ham\",\"ham\",\"ham\",\"ham\",\"ham\",\"ham\",\"ham\",\"ham\",\"ham\",\"ham\",\"ham\",\"ham\",\"ham\",\"ham\",\"ham\",\"ham\",\"ham\",\"ham\",\"ham\",\"ham\",\"ham\",\"ham\",\"ham\",\"ham\",\"ham\",\"ham\",\"ham\",\"ham\",\"ham\",\"ham\",\"ham\",\"ham\",\"ham\",\"ham\",\"ham\",\"ham\",\"ham\",\"ham\",\"ham\",\"ham\",\"ham\",\"ham\",\"ham\",\"ham\",\"ham\",\"ham\",\"ham\",\"ham\",\"ham\",\"ham\",\"ham\",\"ham\",\"ham\",\"ham\",\"ham\",\"ham\",\"ham\",\"ham\",\"ham\",\"ham\",\"ham\",\"ham\",\"ham\",\"ham\",\"ham\",\"ham\",\"ham\",\"ham\",\"ham\",\"ham\",\"ham\",\"ham\",\"ham\",\"ham\",\"ham\",\"ham\",\"ham\",\"ham\",\"ham\",\"ham\",\"ham\",\"ham\",\"ham\",\"ham\",\"ham\",\"ham\",\"ham\",\"ham\",\"ham\",\"ham\",\"ham\",\"ham\",\"ham\",\"ham\",\"ham\",\"ham\",\"ham\",\"ham\",\"ham\",\"ham\",\"ham\",\"ham\",\"ham\",\"ham\",\"ham\",\"ham\",\"ham\",\"ham\",\"ham\",\"ham\",\"ham\",\"ham\",\"ham\",\"ham\",\"ham\",\"ham\",\"ham\",\"ham\",\"ham\",\"ham\",\"ham\",\"ham\",\"ham\",\"ham\",\"ham\",\"ham\",\"ham\",\"ham\",\"ham\",\"ham\",\"ham\",\"ham\",\"ham\",\"ham\",\"ham\",\"ham\",\"ham\",\"ham\",\"ham\",\"ham\",\"ham\",\"ham\",\"ham\",\"ham\",\"ham\",\"ham\",\"ham\",\"ham\",\"ham\",\"ham\",\"ham\",\"ham\",\"ham\",\"ham\",\"ham\",\"ham\",\"ham\",\"ham\",\"ham\",\"ham\",\"ham\",\"ham\",\"ham\",\"ham\",\"ham\",\"ham\",\"ham\",\"ham\",\"ham\",\"ham\",\"ham\",\"ham\",\"ham\",\"ham\",\"ham\",\"ham\",\"ham\",\"ham\",\"ham\",\"ham\",\"ham\",\"ham\",\"ham\",\"ham\",\"ham\",\"ham\",\"ham\",\"ham\",\"ham\",\"ham\",\"ham\",\"ham\",\"ham\",\"ham\",\"ham\",\"ham\",\"ham\",\"ham\",\"ham\",\"ham\",\"ham\",\"ham\",\"ham\",\"ham\",\"ham\",\"ham\",\"ham\",\"ham\",\"ham\",\"ham\",\"ham\",\"ham\",\"ham\",\"ham\",\"ham\",\"ham\",\"ham\",\"ham\",\"ham\",\"ham\",\"ham\",\"ham\",\"ham\",\"ham\",\"ham\",\"ham\",\"ham\",\"ham\",\"ham\",\"ham\",\"ham\",\"ham\",\"ham\",\"ham\",\"ham\",\"ham\",\"ham\",\"ham\",\"ham\",\"ham\",\"ham\",\"ham\",\"ham\",\"ham\",\"ham\",\"ham\",\"ham\",\"ham\",\"ham\",\"ham\",\"ham\",\"ham\",\"ham\",\"ham\",\"ham\",\"ham\",\"ham\",\"ham\",\"ham\",\"ham\",\"ham\",\"ham\",\"ham\",\"ham\",\"ham\",\"ham\",\"ham\",\"ham\",\"ham\",\"ham\",\"ham\",\"ham\",\"ham\",\"ham\",\"ham\",\"ham\",\"ham\",\"ham\",\"ham\",\"ham\",\"ham\",\"ham\",\"ham\",\"ham\",\"ham\",\"ham\",\"ham\",\"ham\",\"ham\",\"ham\",\"ham\",\"ham\",\"ham\",\"ham\",\"ham\",\"ham\",\"ham\",\"ham\",\"ham\",\"ham\",\"ham\",\"ham\",\"ham\",\"ham\",\"ham\",\"ham\",\"ham\",\"ham\",\"ham\",\"ham\",\"ham\",\"ham\",\"ham\",\"ham\",\"ham\",\"ham\",\"ham\",\"ham\",\"ham\",\"ham\",\"ham\",\"ham\",\"ham\",\"ham\",\"ham\",\"ham\",\"ham\",\"ham\",\"ham\",\"ham\",\"ham\",\"ham\",\"ham\",\"ham\",\"ham\",\"ham\",\"ham\",\"ham\",\"ham\",\"ham\",\"ham\",\"ham\",\"ham\",\"ham\",\"ham\",\"ham\",\"ham\",\"ham\",\"ham\",\"ham\",\"ham\",\"ham\",\"ham\",\"ham\",\"ham\",\"ham\",\"ham\",\"ham\",\"ham\",\"ham\",\"ham\",\"ham\",\"ham\",\"ham\",\"ham\",\"ham\",\"ham\",\"ham\",\"ham\",\"ham\",\"ham\",\"ham\",\"ham\",\"ham\",\"ham\",\"ham\",\"ham\",\"ham\",\"ham\",\"ham\",\"ham\",\"ham\",\"ham\",\"ham\",\"ham\",\"ham\",\"ham\",\"ham\",\"ham\",\"ham\",\"ham\",\"ham\",\"ham\",\"ham\",\"ham\",\"ham\",\"ham\",\"ham\",\"ham\",\"ham\",\"ham\",\"ham\",\"ham\",\"ham\",\"ham\",\"ham\",\"ham\",\"ham\",\"ham\",\"ham\",\"ham\",\"ham\",\"ham\",\"ham\",\"ham\",\"ham\",\"ham\",\"ham\",\"ham\",\"ham\",\"ham\",\"ham\",\"ham\",\"ham\",\"ham\",\"ham\",\"ham\",\"ham\",\"ham\",\"ham\",\"ham\",\"ham\",\"ham\",\"ham\",\"ham\",\"ham\",\"ham\",\"ham\",\"ham\",\"ham\",\"ham\",\"ham\",\"ham\",\"ham\",\"ham\",\"ham\",\"ham\",\"ham\",\"ham\",\"ham\",\"ham\",\"ham\",\"ham\",\"ham\",\"ham\",\"ham\",\"ham\",\"ham\",\"ham\",\"ham\",\"ham\",\"ham\",\"ham\",\"ham\",\"ham\",\"ham\",\"ham\",\"ham\",\"ham\",\"ham\",\"ham\",\"ham\",\"ham\",\"ham\",\"ham\",\"ham\",\"ham\",\"ham\",\"ham\",\"ham\",\"ham\",\"ham\",\"ham\",\"ham\",\"ham\",\"ham\",\"ham\",\"ham\",\"ham\",\"ham\",\"ham\",\"ham\",\"ham\",\"ham\",\"ham\",\"ham\",\"ham\",\"ham\",\"ham\",\"ham\",\"ham\",\"ham\",\"ham\",\"ham\",\"ham\",\"ham\",\"ham\",\"ham\",\"ham\",\"ham\",\"ham\",\"ham\",\"ham\",\"ham\",\"ham\",\"ham\",\"ham\",\"ham\",\"ham\",\"ham\",\"ham\",\"ham\",\"ham\",\"ham\",\"ham\",\"ham\",\"ham\",\"ham\",\"ham\",\"ham\",\"ham\",\"ham\",\"ham\",\"ham\",\"ham\",\"ham\",\"ham\",\"ham\",\"ham\",\"ham\",\"ham\",\"ham\",\"ham\",\"ham\",\"ham\",\"ham\",\"ham\",\"ham\",\"ham\",\"ham\",\"ham\",\"ham\",\"ham\",\"ham\",\"ham\",\"ham\",\"ham\",\"ham\",\"ham\",\"ham\",\"ham\",\"ham\",\"ham\",\"ham\",\"ham\",\"ham\",\"ham\",\"ham\",\"ham\",\"ham\",\"ham\",\"ham\",\"ham\",\"ham\",\"ham\",\"ham\",\"ham\",\"ham\",\"ham\",\"ham\",\"ham\",\"ham\",\"ham\",\"ham\",\"ham\",\"ham\",\"ham\",\"ham\",\"ham\",\"ham\",\"ham\",\"ham\",\"ham\",\"ham\",\"ham\",\"ham\",\"ham\",\"ham\",\"ham\",\"ham\",\"ham\",\"ham\",\"ham\",\"ham\",\"ham\",\"ham\",\"ham\",\"ham\",\"ham\",\"ham\",\"ham\",\"ham\",\"ham\",\"ham\",\"ham\",\"ham\",\"ham\",\"ham\",\"ham\",\"ham\",\"ham\",\"ham\",\"ham\",\"ham\",\"ham\",\"ham\",\"ham\",\"ham\",\"ham\",\"ham\",\"ham\",\"ham\",\"ham\",\"ham\",\"ham\",\"ham\",\"ham\",\"ham\",\"ham\",\"ham\",\"ham\",\"ham\",\"ham\",\"ham\",\"ham\",\"ham\",\"ham\",\"ham\",\"ham\",\"ham\",\"ham\",\"ham\",\"ham\",\"ham\",\"ham\",\"ham\",\"ham\",\"ham\",\"ham\",\"ham\",\"ham\",\"ham\",\"ham\",\"ham\",\"ham\",\"ham\",\"ham\",\"ham\",\"ham\",\"ham\",\"ham\",\"ham\",\"ham\",\"ham\",\"ham\",\"ham\",\"ham\",\"ham\",\"ham\",\"ham\",\"ham\",\"ham\",\"ham\",\"ham\",\"ham\",\"ham\",\"ham\",\"ham\",\"ham\",\"ham\",\"ham\",\"ham\",\"ham\",\"ham\",\"ham\",\"ham\",\"ham\",\"ham\",\"ham\",\"ham\",\"ham\",\"ham\",\"ham\",\"ham\",\"ham\",\"ham\",\"ham\",\"ham\",\"ham\",\"ham\",\"ham\",\"ham\",\"ham\",\"ham\",\"ham\",\"ham\",\"ham\",\"ham\",\"ham\",\"ham\",\"ham\",\"ham\",\"ham\",\"ham\",\"ham\",\"ham\",\"ham\",\"ham\",\"ham\",\"ham\",\"ham\",\"ham\",\"ham\",\"ham\",\"ham\",\"ham\",\"ham\",\"ham\",\"ham\",\"ham\",\"ham\",\"ham\",\"ham\",\"ham\",\"ham\",\"ham\",\"ham\",\"ham\",\"ham\",\"ham\",\"ham\",\"ham\",\"ham\",\"ham\",\"ham\",\"ham\",\"ham\",\"ham\",\"ham\",\"ham\",\"ham\",\"ham\",\"ham\",\"ham\",\"ham\",\"ham\",\"ham\",\"ham\",\"ham\",\"ham\",\"ham\",\"ham\",\"ham\",\"ham\",\"ham\",\"ham\",\"ham\",\"ham\",\"ham\",\"ham\",\"ham\",\"ham\",\"ham\",\"ham\",\"ham\",\"ham\",\"ham\",\"ham\",\"ham\",\"ham\",\"ham\",\"ham\",\"ham\",\"ham\",\"ham\",\"ham\",\"ham\",\"ham\",\"ham\",\"ham\",\"ham\",\"ham\",\"ham\",\"ham\",\"ham\",\"ham\",\"ham\",\"ham\",\"ham\",\"ham\",\"ham\",\"ham\",\"ham\",\"ham\",\"ham\",\"ham\",\"ham\",\"ham\",\"ham\",\"ham\",\"ham\",\"ham\",\"ham\",\"ham\",\"ham\",\"ham\",\"ham\",\"ham\",\"ham\",\"ham\",\"ham\",\"ham\",\"ham\",\"ham\",\"ham\",\"ham\",\"ham\",\"ham\",\"ham\",\"ham\",\"ham\",\"ham\",\"ham\",\"ham\",\"ham\",\"ham\",\"ham\",\"ham\",\"ham\",\"ham\",\"ham\",\"ham\",\"ham\",\"ham\",\"ham\",\"ham\",\"ham\",\"ham\",\"ham\",\"ham\",\"ham\",\"ham\",\"ham\",\"ham\",\"ham\",\"ham\",\"ham\",\"ham\",\"ham\",\"ham\",\"ham\",\"ham\",\"ham\",\"ham\",\"ham\",\"ham\",\"ham\",\"ham\",\"ham\",\"ham\",\"ham\",\"ham\",\"ham\",\"ham\",\"ham\",\"ham\",\"ham\",\"ham\",\"ham\",\"ham\",\"ham\",\"ham\",\"ham\",\"ham\",\"ham\",\"ham\",\"ham\",\"ham\",\"ham\",\"ham\",\"ham\",\"ham\",\"ham\",\"ham\",\"ham\",\"ham\",\"ham\",\"ham\",\"ham\",\"ham\",\"ham\",\"ham\",\"ham\",\"ham\",\"ham\",\"ham\",\"ham\",\"ham\",\"ham\",\"ham\",\"ham\",\"ham\",\"ham\",\"ham\",\"ham\",\"ham\",\"ham\",\"ham\",\"ham\",\"ham\",\"ham\",\"ham\",\"ham\",\"ham\",\"ham\",\"ham\",\"ham\",\"ham\",\"ham\",\"ham\",\"ham\",\"ham\",\"ham\",\"ham\",\"ham\",\"ham\",\"ham\",\"ham\",\"ham\",\"ham\",\"ham\",\"ham\",\"ham\",\"ham\",\"ham\",\"ham\",\"ham\",\"ham\",\"ham\",\"ham\",\"ham\",\"ham\",\"ham\",\"ham\",\"ham\",\"ham\",\"ham\",\"ham\",\"ham\",\"ham\",\"ham\",\"ham\",\"ham\",\"ham\",\"ham\",\"ham\",\"ham\",\"ham\",\"ham\",\"ham\",\"ham\",\"ham\",\"ham\",\"ham\",\"ham\",\"ham\",\"ham\",\"ham\",\"ham\",\"ham\",\"ham\",\"ham\",\"ham\",\"ham\",\"ham\",\"ham\",\"ham\",\"ham\",\"ham\",\"ham\",\"ham\",\"ham\",\"ham\",\"ham\",\"ham\",\"ham\",\"ham\",\"ham\",\"ham\",\"ham\",\"ham\",\"ham\",\"ham\",\"ham\",\"ham\",\"ham\",\"ham\",\"ham\",\"ham\",\"ham\",\"ham\",\"ham\",\"ham\",\"ham\",\"ham\",\"ham\",\"ham\",\"ham\",\"ham\",\"ham\",\"ham\",\"ham\",\"ham\",\"ham\",\"ham\",\"ham\",\"ham\",\"ham\",\"ham\",\"ham\",\"ham\",\"ham\",\"ham\",\"ham\",\"ham\",\"ham\",\"ham\",\"ham\",\"ham\",\"ham\",\"ham\",\"ham\",\"ham\",\"ham\",\"ham\",\"ham\",\"ham\",\"ham\",\"ham\",\"ham\",\"ham\",\"ham\",\"ham\",\"ham\",\"ham\",\"ham\",\"ham\",\"ham\",\"ham\",\"ham\",\"ham\",\"ham\",\"ham\",\"ham\",\"ham\",\"ham\",\"ham\",\"ham\",\"ham\",\"ham\",\"ham\",\"ham\",\"ham\",\"ham\",\"ham\",\"ham\",\"ham\",\"ham\",\"ham\",\"ham\",\"ham\",\"ham\",\"ham\",\"ham\",\"ham\",\"ham\",\"ham\",\"ham\",\"ham\",\"ham\",\"ham\",\"ham\",\"ham\",\"ham\",\"ham\",\"ham\",\"ham\",\"ham\",\"ham\",\"ham\",\"ham\",\"ham\",\"ham\",\"ham\",\"ham\",\"ham\",\"ham\",\"ham\",\"ham\",\"ham\",\"ham\",\"ham\",\"ham\",\"ham\",\"ham\",\"ham\",\"ham\",\"ham\",\"ham\",\"ham\",\"ham\",\"ham\",\"ham\",\"ham\",\"ham\",\"ham\",\"ham\",\"ham\",\"ham\",\"ham\",\"ham\",\"ham\",\"ham\",\"ham\",\"ham\",\"ham\",\"ham\",\"ham\",\"ham\",\"ham\",\"ham\",\"ham\",\"ham\",\"ham\",\"ham\",\"ham\",\"ham\",\"ham\",\"ham\",\"ham\",\"ham\",\"ham\",\"ham\",\"ham\",\"ham\",\"ham\",\"ham\",\"ham\",\"ham\",\"ham\",\"ham\",\"ham\",\"ham\",\"ham\",\"ham\",\"ham\",\"ham\",\"ham\",\"ham\",\"ham\",\"ham\",\"ham\",\"ham\",\"ham\",\"ham\",\"ham\",\"ham\",\"ham\",\"ham\",\"ham\",\"ham\",\"ham\",\"ham\",\"ham\",\"ham\",\"ham\",\"ham\",\"ham\",\"ham\",\"ham\",\"ham\",\"ham\",\"ham\",\"ham\",\"ham\",\"ham\",\"ham\",\"ham\",\"ham\",\"ham\",\"ham\",\"ham\",\"ham\",\"ham\",\"ham\",\"ham\",\"ham\",\"ham\",\"ham\",\"ham\",\"ham\",\"ham\",\"ham\",\"ham\",\"ham\",\"ham\",\"ham\",\"ham\",\"ham\",\"ham\",\"ham\",\"ham\",\"ham\",\"ham\",\"ham\",\"ham\",\"ham\",\"ham\",\"ham\",\"ham\",\"ham\",\"ham\",\"ham\",\"ham\",\"ham\",\"ham\",\"ham\",\"ham\",\"ham\",\"ham\",\"ham\",\"ham\",\"ham\",\"ham\",\"ham\",\"ham\",\"ham\",\"ham\",\"ham\",\"ham\",\"ham\",\"ham\",\"ham\",\"ham\",\"ham\",\"ham\",\"ham\",\"ham\",\"ham\",\"ham\",\"ham\",\"ham\",\"ham\",\"ham\",\"ham\",\"ham\",\"ham\",\"ham\",\"ham\",\"ham\",\"ham\",\"ham\",\"ham\",\"ham\",\"ham\",\"ham\",\"ham\",\"ham\",\"ham\",\"ham\",\"ham\",\"ham\",\"ham\",\"ham\",\"ham\",\"ham\",\"ham\",\"ham\",\"ham\",\"ham\",\"ham\",\"ham\",\"ham\",\"ham\",\"ham\",\"ham\",\"ham\",\"ham\",\"ham\",\"ham\",\"ham\",\"ham\",\"ham\",\"ham\",\"ham\",\"ham\",\"ham\",\"ham\",\"ham\",\"ham\",\"ham\",\"ham\",\"ham\",\"ham\",\"ham\",\"ham\",\"ham\",\"ham\",\"ham\",\"ham\",\"ham\",\"ham\",\"ham\",\"ham\",\"ham\",\"ham\",\"ham\",\"ham\",\"ham\",\"ham\",\"ham\",\"ham\",\"ham\",\"ham\",\"ham\",\"ham\",\"ham\",\"ham\",\"ham\",\"ham\",\"ham\",\"ham\",\"ham\",\"ham\",\"ham\",\"ham\",\"ham\",\"ham\",\"ham\",\"ham\",\"ham\",\"ham\",\"ham\",\"ham\",\"ham\",\"ham\",\"ham\",\"ham\",\"ham\",\"ham\",\"ham\",\"ham\",\"ham\",\"ham\",\"ham\",\"ham\",\"ham\",\"ham\",\"ham\",\"ham\",\"ham\",\"ham\",\"ham\",\"ham\",\"ham\",\"ham\",\"ham\",\"ham\",\"ham\",\"ham\",\"ham\",\"ham\",\"ham\",\"ham\",\"ham\",\"ham\",\"ham\",\"ham\",\"ham\",\"ham\",\"ham\",\"ham\",\"ham\",\"ham\",\"ham\",\"ham\",\"ham\",\"ham\",\"ham\",\"ham\",\"ham\",\"ham\",\"ham\",\"ham\",\"ham\",\"ham\",\"ham\",\"ham\",\"ham\",\"ham\",\"ham\",\"ham\",\"ham\",\"ham\",\"ham\",\"ham\",\"ham\",\"ham\",\"ham\",\"ham\",\"ham\",\"ham\",\"ham\",\"ham\",\"ham\",\"ham\",\"ham\",\"ham\",\"ham\",\"ham\",\"ham\",\"ham\",\"ham\",\"ham\",\"ham\",\"ham\",\"ham\",\"ham\",\"ham\",\"ham\",\"ham\",\"ham\",\"ham\",\"ham\",\"ham\",\"ham\",\"ham\",\"ham\",\"ham\",\"ham\",\"ham\",\"ham\",\"ham\",\"ham\",\"ham\",\"ham\",\"ham\",\"ham\",\"ham\",\"ham\",\"ham\",\"ham\",\"ham\",\"ham\",\"ham\",\"ham\",\"ham\",\"ham\",\"ham\",\"ham\",\"ham\",\"ham\",\"ham\",\"ham\",\"ham\",\"ham\",\"ham\",\"ham\",\"ham\",\"ham\",\"ham\",\"ham\",\"ham\",\"ham\",\"ham\",\"ham\",\"ham\",\"ham\",\"ham\",\"ham\",\"ham\",\"ham\",\"ham\",\"ham\",\"ham\",\"ham\",\"ham\",\"ham\",\"ham\",\"ham\",\"ham\",\"ham\",\"ham\",\"ham\",\"ham\",\"ham\",\"ham\",\"ham\",\"ham\",\"ham\",\"ham\",\"ham\",\"ham\",\"ham\",\"ham\",\"ham\",\"ham\",\"ham\",\"ham\",\"ham\",\"ham\",\"ham\",\"ham\",\"ham\",\"ham\",\"ham\",\"ham\",\"ham\",\"ham\",\"ham\",\"ham\",\"ham\",\"ham\",\"ham\",\"ham\",\"ham\",\"ham\",\"ham\",\"ham\",\"ham\",\"ham\",\"ham\",\"ham\",\"ham\",\"ham\",\"ham\",\"ham\",\"ham\",\"ham\",\"ham\",\"ham\",\"ham\",\"ham\",\"ham\",\"ham\",\"ham\",\"ham\",\"ham\",\"ham\",\"ham\",\"ham\",\"ham\",\"ham\",\"ham\",\"ham\",\"ham\",\"ham\",\"ham\",\"ham\",\"ham\",\"ham\",\"ham\",\"ham\",\"ham\",\"ham\",\"ham\",\"ham\",\"ham\",\"ham\",\"ham\",\"ham\",\"ham\",\"ham\",\"ham\",\"ham\",\"ham\",\"ham\",\"ham\",\"ham\",\"ham\",\"ham\",\"ham\",\"ham\",\"ham\",\"ham\",\"ham\",\"ham\",\"ham\",\"ham\",\"ham\",\"ham\",\"ham\",\"ham\",\"ham\",\"ham\",\"ham\",\"ham\",\"ham\",\"ham\",\"ham\",\"ham\",\"ham\",\"ham\",\"ham\",\"ham\",\"ham\",\"ham\",\"ham\",\"ham\",\"ham\",\"ham\",\"ham\",\"ham\",\"ham\",\"ham\",\"ham\",\"ham\",\"ham\",\"ham\",\"ham\",\"ham\",\"ham\",\"ham\",\"ham\",\"ham\",\"ham\",\"ham\",\"ham\",\"ham\",\"ham\",\"ham\",\"ham\",\"ham\",\"ham\",\"ham\",\"ham\",\"ham\",\"ham\",\"ham\",\"ham\",\"ham\",\"ham\",\"ham\",\"ham\",\"ham\",\"ham\",\"ham\",\"ham\",\"ham\",\"ham\",\"ham\",\"ham\",\"ham\",\"ham\",\"ham\",\"ham\",\"ham\",\"ham\",\"ham\",\"ham\",\"ham\",\"ham\",\"ham\",\"ham\",\"ham\",\"ham\",\"ham\",\"ham\",\"ham\",\"ham\",\"ham\",\"ham\",\"ham\",\"ham\",\"ham\",\"ham\",\"ham\",\"ham\",\"ham\",\"ham\",\"ham\",\"ham\",\"ham\",\"ham\",\"ham\",\"ham\",\"ham\",\"ham\",\"ham\",\"ham\",\"ham\",\"ham\",\"ham\",\"ham\",\"ham\",\"ham\",\"ham\",\"ham\",\"ham\",\"ham\",\"ham\",\"ham\",\"ham\",\"ham\",\"ham\",\"ham\",\"ham\",\"ham\",\"ham\",\"ham\",\"ham\",\"ham\",\"ham\",\"ham\",\"ham\",\"ham\",\"ham\",\"ham\",\"ham\",\"ham\",\"ham\",\"ham\",\"ham\",\"ham\",\"ham\",\"ham\",\"ham\",\"ham\",\"ham\",\"ham\",\"ham\",\"ham\",\"ham\",\"ham\",\"ham\",\"ham\",\"ham\",\"ham\",\"ham\",\"ham\",\"ham\",\"ham\",\"ham\",\"ham\",\"ham\",\"ham\",\"ham\",\"ham\",\"ham\",\"ham\",\"ham\",\"ham\",\"ham\",\"ham\",\"ham\",\"ham\",\"ham\",\"ham\",\"ham\",\"ham\",\"ham\",\"ham\",\"ham\",\"ham\",\"ham\",\"ham\",\"ham\",\"ham\",\"ham\",\"ham\",\"ham\",\"ham\",\"ham\",\"ham\",\"ham\",\"ham\",\"ham\",\"ham\",\"ham\",\"ham\",\"ham\",\"ham\",\"ham\",\"ham\",\"ham\",\"ham\",\"ham\",\"ham\",\"ham\",\"ham\",\"ham\",\"ham\",\"ham\",\"ham\",\"ham\",\"ham\",\"ham\",\"ham\",\"ham\",\"ham\",\"ham\",\"ham\",\"ham\",\"ham\",\"ham\",\"ham\",\"ham\",\"ham\",\"ham\",\"ham\",\"ham\",\"ham\",\"ham\",\"ham\",\"ham\",\"ham\",\"ham\",\"ham\",\"ham\",\"ham\",\"ham\",\"ham\",\"ham\",\"ham\",\"ham\",\"ham\",\"ham\",\"ham\",\"ham\",\"ham\",\"ham\",\"ham\",\"ham\",\"ham\",\"ham\",\"ham\",\"ham\",\"ham\",\"ham\",\"ham\",\"ham\",\"ham\",\"ham\",\"ham\",\"ham\",\"ham\",\"ham\",\"ham\",\"ham\",\"ham\",\"ham\",\"ham\",\"ham\",\"ham\",\"ham\",\"ham\",\"ham\",\"ham\",\"ham\",\"ham\",\"ham\",\"ham\",\"ham\",\"ham\",\"ham\",\"ham\",\"ham\",\"ham\",\"ham\",\"ham\",\"ham\",\"ham\",\"ham\",\"ham\",\"ham\",\"ham\",\"ham\",\"ham\",\"ham\",\"ham\",\"ham\",\"ham\",\"ham\",\"ham\",\"ham\",\"ham\",\"ham\",\"ham\",\"ham\",\"ham\",\"ham\",\"ham\",\"ham\",\"ham\",\"ham\",\"ham\",\"ham\",\"ham\",\"ham\",\"ham\",\"ham\",\"ham\",\"ham\",\"ham\",\"ham\",\"ham\",\"ham\",\"ham\",\"ham\",\"ham\",\"ham\",\"ham\",\"ham\",\"ham\",\"ham\",\"ham\",\"ham\",\"ham\",\"ham\",\"ham\",\"ham\",\"ham\",\"ham\",\"ham\",\"ham\",\"ham\",\"ham\",\"ham\",\"ham\",\"ham\",\"ham\",\"ham\",\"ham\",\"ham\",\"ham\",\"ham\",\"ham\",\"ham\",\"ham\",\"ham\",\"ham\",\"ham\",\"ham\",\"ham\",\"ham\",\"ham\",\"ham\",\"ham\",\"ham\",\"ham\",\"ham\",\"ham\",\"ham\",\"ham\",\"ham\",\"ham\",\"ham\",\"ham\",\"ham\",\"ham\",\"ham\",\"ham\",\"ham\",\"ham\",\"ham\",\"ham\",\"ham\",\"ham\",\"ham\",\"ham\",\"ham\",\"ham\",\"ham\",\"ham\",\"ham\",\"ham\",\"ham\",\"ham\",\"ham\",\"ham\",\"ham\",\"ham\",\"ham\",\"ham\",\"ham\",\"ham\",\"ham\",\"ham\",\"ham\",\"ham\",\"ham\",\"ham\",\"ham\",\"ham\",\"ham\",\"ham\",\"ham\",\"ham\",\"ham\",\"ham\",\"ham\",\"ham\",\"ham\",\"ham\",\"ham\",\"ham\",\"ham\",\"ham\",\"ham\",\"ham\",\"ham\",\"ham\",\"ham\",\"ham\",\"ham\",\"ham\",\"ham\",\"ham\",\"ham\",\"ham\",\"ham\",\"ham\",\"ham\",\"ham\",\"ham\",\"ham\",\"ham\",\"ham\",\"ham\",\"ham\",\"ham\",\"ham\",\"ham\",\"ham\",\"ham\",\"ham\",\"ham\",\"ham\",\"ham\",\"ham\",\"ham\",\"ham\",\"ham\",\"ham\",\"ham\",\"ham\",\"ham\",\"ham\",\"ham\",\"ham\",\"ham\",\"ham\",\"ham\",\"ham\",\"ham\",\"ham\",\"ham\",\"ham\",\"ham\",\"ham\",\"ham\",\"ham\",\"ham\",\"ham\",\"ham\",\"ham\",\"ham\",\"ham\",\"ham\",\"ham\",\"ham\",\"ham\",\"ham\",\"ham\",\"ham\",\"ham\",\"ham\",\"ham\",\"ham\",\"ham\",\"ham\",\"ham\",\"ham\",\"ham\",\"ham\",\"ham\",\"ham\",\"ham\",\"ham\",\"ham\",\"ham\",\"ham\",\"ham\",\"ham\",\"ham\",\"ham\",\"ham\",\"ham\",\"ham\",\"ham\",\"ham\",\"ham\",\"ham\",\"ham\",\"ham\",\"ham\",\"ham\",\"ham\",\"ham\",\"ham\",\"ham\",\"ham\",\"ham\",\"ham\",\"ham\",\"ham\",\"ham\",\"ham\",\"ham\",\"ham\",\"ham\",\"ham\",\"ham\",\"ham\",\"ham\",\"ham\",\"ham\",\"ham\",\"ham\",\"ham\",\"ham\",\"ham\",\"ham\",\"ham\",\"ham\",\"ham\",\"ham\",\"ham\",\"ham\",\"ham\",\"ham\",\"ham\",\"ham\",\"ham\",\"ham\",\"ham\",\"ham\",\"ham\",\"ham\",\"ham\",\"ham\",\"ham\",\"ham\",\"ham\",\"ham\",\"ham\",\"ham\",\"ham\",\"ham\",\"ham\",\"ham\",\"ham\",\"ham\",\"ham\",\"ham\",\"ham\",\"ham\",\"ham\",\"ham\",\"ham\",\"ham\",\"ham\",\"ham\",\"ham\",\"ham\",\"ham\",\"ham\",\"ham\",\"ham\",\"ham\",\"ham\",\"ham\",\"ham\",\"ham\",\"ham\",\"ham\",\"ham\",\"ham\",\"ham\",\"ham\",\"ham\",\"ham\",\"ham\",\"ham\",\"ham\",\"ham\",\"ham\",\"ham\",\"ham\",\"ham\",\"ham\",\"ham\",\"ham\",\"ham\",\"ham\",\"ham\",\"ham\",\"ham\",\"ham\",\"ham\",\"ham\",\"ham\",\"ham\",\"ham\",\"ham\",\"ham\",\"ham\",\"ham\",\"ham\",\"ham\",\"ham\",\"ham\",\"ham\",\"ham\",\"ham\",\"ham\",\"ham\",\"ham\",\"ham\",\"ham\",\"ham\",\"ham\",\"ham\",\"ham\",\"ham\",\"ham\",\"ham\",\"ham\",\"ham\",\"ham\",\"ham\",\"ham\",\"ham\",\"ham\",\"ham\",\"ham\",\"ham\",\"ham\",\"ham\",\"ham\",\"ham\",\"ham\",\"ham\",\"ham\",\"ham\",\"ham\",\"ham\",\"ham\",\"ham\",\"ham\",\"ham\",\"ham\",\"ham\",\"ham\",\"ham\",\"ham\",\"ham\",\"ham\",\"ham\",\"ham\",\"ham\",\"ham\",\"ham\",\"ham\",\"ham\",\"ham\",\"ham\",\"ham\",\"ham\",\"ham\",\"ham\",\"ham\",\"ham\",\"ham\",\"ham\",\"ham\",\"ham\",\"ham\",\"ham\",\"ham\",\"ham\",\"ham\",\"ham\",\"ham\",\"ham\",\"ham\",\"ham\",\"ham\",\"ham\",\"ham\",\"ham\",\"ham\",\"ham\",\"ham\",\"ham\",\"ham\",\"ham\",\"ham\",\"ham\",\"ham\",\"ham\",\"ham\",\"ham\",\"ham\",\"ham\",\"ham\",\"ham\",\"ham\",\"ham\",\"ham\",\"ham\",\"ham\",\"ham\",\"ham\",\"ham\",\"ham\",\"ham\",\"ham\",\"ham\",\"ham\",\"ham\",\"ham\",\"ham\",\"ham\",\"ham\",\"ham\",\"ham\",\"ham\",\"ham\",\"ham\",\"ham\",\"ham\",\"ham\",\"ham\",\"ham\",\"ham\",\"ham\",\"ham\",\"ham\",\"ham\",\"ham\",\"ham\",\"ham\",\"ham\",\"ham\",\"ham\",\"ham\",\"ham\",\"ham\",\"ham\",\"ham\",\"ham\",\"ham\",\"ham\",\"ham\",\"ham\",\"ham\",\"ham\",\"ham\",\"ham\",\"ham\",\"ham\",\"ham\",\"ham\",\"ham\",\"ham\",\"ham\",\"ham\",\"ham\",\"ham\",\"ham\",\"ham\",\"ham\",\"ham\",\"ham\",\"ham\",\"ham\",\"ham\",\"ham\",\"ham\",\"ham\",\"ham\",\"ham\",\"ham\",\"ham\",\"ham\",\"ham\",\"ham\",\"ham\",\"ham\",\"ham\",\"ham\",\"ham\",\"ham\",\"ham\",\"ham\",\"ham\",\"ham\",\"ham\",\"ham\",\"ham\",\"ham\",\"ham\",\"ham\",\"ham\",\"ham\",\"ham\",\"ham\",\"ham\",\"ham\",\"ham\",\"ham\",\"ham\",\"ham\",\"ham\",\"ham\",\"ham\",\"ham\",\"ham\",\"ham\",\"ham\",\"ham\",\"ham\",\"ham\",\"ham\",\"ham\",\"ham\",\"ham\",\"ham\",\"ham\",\"ham\",\"ham\",\"ham\",\"ham\",\"ham\",\"ham\",\"ham\",\"ham\",\"ham\",\"ham\",\"ham\",\"ham\",\"ham\",\"ham\",\"ham\",\"ham\",\"ham\",\"ham\",\"ham\",\"ham\",\"ham\",\"ham\",\"ham\",\"ham\",\"ham\",\"ham\",\"ham\",\"ham\",\"ham\",\"ham\",\"ham\",\"ham\",\"ham\",\"ham\",\"ham\",\"ham\",\"ham\",\"ham\",\"ham\",\"ham\",\"ham\",\"ham\",\"ham\",\"ham\",\"ham\",\"ham\",\"ham\",\"ham\",\"ham\",\"ham\",\"ham\",\"ham\",\"ham\",\"ham\",\"ham\",\"ham\",\"ham\",\"ham\",\"ham\",\"ham\",\"ham\",\"ham\",\"ham\",\"ham\",\"ham\",\"ham\",\"ham\",\"ham\",\"ham\",\"ham\",\"ham\",\"ham\",\"ham\",\"ham\",\"ham\",\"ham\",\"ham\",\"ham\",\"ham\",\"ham\",\"ham\",\"ham\",\"ham\",\"ham\",\"ham\",\"ham\",\"ham\",\"ham\",\"ham\",\"ham\",\"ham\",\"ham\",\"ham\",\"ham\",\"ham\",\"ham\",\"ham\",\"ham\",\"ham\",\"ham\",\"ham\",\"ham\",\"ham\",\"ham\",\"ham\",\"ham\",\"ham\",\"ham\",\"ham\",\"ham\",\"ham\",\"ham\",\"ham\",\"ham\",\"ham\",\"ham\",\"ham\",\"ham\",\"ham\",\"ham\",\"ham\",\"ham\",\"ham\",\"ham\",\"ham\",\"ham\",\"ham\",\"ham\",\"ham\",\"ham\",\"ham\",\"ham\",\"ham\",\"ham\",\"ham\",\"ham\",\"ham\",\"ham\",\"ham\",\"ham\",\"ham\",\"ham\",\"ham\",\"ham\",\"ham\",\"ham\",\"ham\",\"ham\",\"ham\",\"ham\",\"ham\",\"ham\",\"ham\",\"ham\",\"ham\",\"ham\",\"ham\",\"ham\",\"ham\",\"ham\",\"ham\",\"ham\",\"ham\",\"ham\",\"ham\",\"ham\",\"ham\",\"ham\",\"ham\",\"ham\",\"ham\",\"ham\",\"ham\",\"ham\",\"ham\",\"ham\",\"ham\",\"ham\",\"ham\",\"ham\",\"ham\",\"ham\",\"ham\",\"ham\",\"ham\",\"ham\",\"ham\",\"ham\",\"ham\",\"ham\",\"ham\",\"ham\",\"ham\",\"ham\",\"ham\",\"ham\",\"ham\",\"ham\",\"ham\",\"ham\",\"ham\",\"ham\",\"ham\",\"ham\",\"ham\",\"ham\",\"ham\",\"ham\",\"ham\",\"ham\",\"ham\",\"ham\",\"ham\",\"ham\",\"ham\",\"ham\",\"ham\",\"ham\",\"ham\",\"ham\",\"ham\",\"ham\",\"ham\",\"ham\",\"ham\",\"ham\",\"ham\",\"ham\",\"ham\",\"ham\",\"ham\",\"ham\",\"ham\",\"ham\",\"ham\",\"ham\",\"ham\",\"ham\",\"ham\",\"ham\",\"ham\",\"ham\",\"ham\",\"ham\",\"ham\",\"ham\",\"ham\",\"ham\",\"ham\",\"ham\",\"ham\",\"ham\",\"ham\",\"ham\",\"ham\",\"ham\",\"ham\",\"ham\",\"ham\",\"ham\",\"ham\",\"ham\",\"ham\",\"ham\",\"ham\",\"ham\",\"ham\",\"ham\",\"ham\",\"ham\",\"ham\",\"ham\",\"ham\",\"ham\",\"ham\",\"ham\",\"ham\",\"ham\",\"ham\",\"ham\",\"ham\",\"ham\",\"ham\",\"ham\",\"ham\",\"ham\",\"ham\",\"ham\",\"ham\",\"ham\",\"ham\",\"ham\",\"ham\",\"ham\",\"ham\",\"ham\",\"ham\",\"ham\",\"ham\",\"ham\",\"ham\",\"ham\",\"ham\",\"ham\",\"ham\",\"ham\",\"ham\",\"ham\",\"ham\",\"ham\",\"ham\",\"ham\",\"ham\",\"ham\",\"ham\",\"ham\",\"ham\",\"ham\",\"ham\",\"ham\",\"ham\",\"ham\",\"ham\",\"ham\",\"ham\",\"ham\",\"ham\",\"ham\",\"ham\",\"ham\",\"ham\",\"ham\",\"ham\",\"ham\",\"ham\",\"ham\",\"ham\",\"ham\",\"ham\",\"ham\",\"ham\",\"ham\",\"ham\",\"ham\",\"ham\",\"ham\",\"ham\",\"ham\",\"ham\",\"ham\",\"ham\",\"ham\",\"ham\",\"ham\",\"ham\",\"ham\",\"ham\",\"ham\",\"ham\",\"ham\",\"ham\",\"ham\",\"ham\",\"ham\",\"ham\",\"ham\",\"ham\",\"ham\",\"ham\",\"ham\",\"ham\",\"ham\",\"ham\",\"ham\",\"ham\",\"ham\",\"ham\",\"ham\",\"ham\",\"ham\",\"ham\",\"ham\",\"ham\",\"ham\",\"ham\",\"ham\",\"ham\",\"ham\",\"ham\",\"ham\",\"ham\",\"ham\",\"ham\",\"ham\",\"ham\",\"ham\",\"ham\",\"ham\",\"ham\",\"ham\",\"ham\",\"ham\",\"ham\",\"ham\",\"ham\",\"ham\",\"ham\",\"ham\",\"ham\",\"ham\",\"ham\",\"ham\",\"ham\",\"ham\",\"ham\",\"ham\",\"ham\",\"ham\",\"ham\",\"ham\",\"ham\",\"ham\",\"ham\",\"ham\",\"ham\",\"ham\",\"ham\",\"ham\",\"ham\",\"ham\",\"ham\",\"ham\",\"ham\",\"ham\",\"ham\",\"ham\",\"ham\",\"ham\",\"ham\",\"ham\",\"ham\",\"ham\",\"ham\",\"ham\",\"ham\",\"ham\",\"ham\",\"ham\",\"ham\",\"ham\",\"ham\",\"ham\",\"ham\",\"ham\",\"ham\",\"ham\",\"ham\",\"ham\",\"ham\",\"ham\",\"ham\",\"ham\",\"ham\",\"ham\",\"ham\",\"ham\",\"ham\",\"ham\",\"ham\",\"ham\",\"ham\",\"ham\",\"ham\",\"ham\",\"ham\",\"ham\",\"ham\",\"ham\",\"ham\",\"ham\",\"ham\",\"ham\",\"ham\",\"ham\",\"ham\",\"ham\",\"ham\",\"ham\",\"ham\",\"ham\",\"ham\",\"ham\",\"ham\",\"ham\",\"ham\",\"ham\",\"ham\",\"ham\",\"ham\",\"ham\",\"ham\",\"ham\",\"ham\",\"ham\",\"ham\",\"ham\",\"ham\",\"ham\",\"ham\",\"ham\",\"ham\",\"ham\",\"ham\",\"ham\",\"ham\",\"ham\",\"ham\",\"ham\",\"ham\",\"ham\",\"ham\",\"ham\",\"ham\",\"ham\",\"ham\",\"ham\",\"ham\",\"ham\",\"ham\",\"ham\",\"ham\",\"ham\",\"ham\",\"ham\",\"ham\",\"ham\",\"ham\",\"ham\",\"ham\",\"ham\",\"ham\",\"ham\",\"ham\",\"ham\",\"ham\",\"ham\",\"ham\"],\"xaxis\":\"x\",\"yaxis\":\"y\",\"type\":\"histogram\"},{\"alignmentgroup\":\"True\",\"bingroup\":\"x\",\"hovertemplate\":\"Category=%{x}<br>count=%{y}<extra></extra>\",\"legendgroup\":\"spam\",\"marker\":{\"color\":\"#ffa600\",\"pattern\":{\"shape\":\"\"}},\"name\":\"spam\",\"offsetgroup\":\"spam\",\"orientation\":\"v\",\"showlegend\":true,\"x\":[\"spam\",\"spam\",\"spam\",\"spam\",\"spam\",\"spam\",\"spam\",\"spam\",\"spam\",\"spam\",\"spam\",\"spam\",\"spam\",\"spam\",\"spam\",\"spam\",\"spam\",\"spam\",\"spam\",\"spam\",\"spam\",\"spam\",\"spam\",\"spam\",\"spam\",\"spam\",\"spam\",\"spam\",\"spam\",\"spam\",\"spam\",\"spam\",\"spam\",\"spam\",\"spam\",\"spam\",\"spam\",\"spam\",\"spam\",\"spam\",\"spam\",\"spam\",\"spam\",\"spam\",\"spam\",\"spam\",\"spam\",\"spam\",\"spam\",\"spam\",\"spam\",\"spam\",\"spam\",\"spam\",\"spam\",\"spam\",\"spam\",\"spam\",\"spam\",\"spam\",\"spam\",\"spam\",\"spam\",\"spam\",\"spam\",\"spam\",\"spam\",\"spam\",\"spam\",\"spam\",\"spam\",\"spam\",\"spam\",\"spam\",\"spam\",\"spam\",\"spam\",\"spam\",\"spam\",\"spam\",\"spam\",\"spam\",\"spam\",\"spam\",\"spam\",\"spam\",\"spam\",\"spam\",\"spam\",\"spam\",\"spam\",\"spam\",\"spam\",\"spam\",\"spam\",\"spam\",\"spam\",\"spam\",\"spam\",\"spam\",\"spam\",\"spam\",\"spam\",\"spam\",\"spam\",\"spam\",\"spam\",\"spam\",\"spam\",\"spam\",\"spam\",\"spam\",\"spam\",\"spam\",\"spam\",\"spam\",\"spam\",\"spam\",\"spam\",\"spam\",\"spam\",\"spam\",\"spam\",\"spam\",\"spam\",\"spam\",\"spam\",\"spam\",\"spam\",\"spam\",\"spam\",\"spam\",\"spam\",\"spam\",\"spam\",\"spam\",\"spam\",\"spam\",\"spam\",\"spam\",\"spam\",\"spam\",\"spam\",\"spam\",\"spam\",\"spam\",\"spam\",\"spam\",\"spam\",\"spam\",\"spam\",\"spam\",\"spam\",\"spam\",\"spam\",\"spam\",\"spam\",\"spam\",\"spam\",\"spam\",\"spam\",\"spam\",\"spam\",\"spam\",\"spam\",\"spam\",\"spam\",\"spam\",\"spam\",\"spam\",\"spam\",\"spam\",\"spam\",\"spam\",\"spam\",\"spam\",\"spam\",\"spam\",\"spam\",\"spam\",\"spam\",\"spam\",\"spam\",\"spam\",\"spam\",\"spam\",\"spam\",\"spam\",\"spam\",\"spam\",\"spam\",\"spam\",\"spam\",\"spam\",\"spam\",\"spam\",\"spam\",\"spam\",\"spam\",\"spam\",\"spam\",\"spam\",\"spam\",\"spam\",\"spam\",\"spam\",\"spam\",\"spam\",\"spam\",\"spam\",\"spam\",\"spam\",\"spam\",\"spam\",\"spam\",\"spam\",\"spam\",\"spam\",\"spam\",\"spam\",\"spam\",\"spam\",\"spam\",\"spam\",\"spam\",\"spam\",\"spam\",\"spam\",\"spam\",\"spam\",\"spam\",\"spam\",\"spam\",\"spam\",\"spam\",\"spam\",\"spam\",\"spam\",\"spam\",\"spam\",\"spam\",\"spam\",\"spam\",\"spam\",\"spam\",\"spam\",\"spam\",\"spam\",\"spam\",\"spam\",\"spam\",\"spam\",\"spam\",\"spam\",\"spam\",\"spam\",\"spam\",\"spam\",\"spam\",\"spam\",\"spam\",\"spam\",\"spam\",\"spam\",\"spam\",\"spam\",\"spam\",\"spam\",\"spam\",\"spam\",\"spam\",\"spam\",\"spam\",\"spam\",\"spam\",\"spam\",\"spam\",\"spam\",\"spam\",\"spam\",\"spam\",\"spam\",\"spam\",\"spam\",\"spam\",\"spam\",\"spam\",\"spam\",\"spam\",\"spam\",\"spam\",\"spam\",\"spam\",\"spam\",\"spam\",\"spam\",\"spam\",\"spam\",\"spam\",\"spam\",\"spam\",\"spam\",\"spam\",\"spam\",\"spam\",\"spam\",\"spam\",\"spam\",\"spam\",\"spam\",\"spam\",\"spam\",\"spam\",\"spam\",\"spam\",\"spam\",\"spam\",\"spam\",\"spam\",\"spam\",\"spam\",\"spam\",\"spam\",\"spam\",\"spam\",\"spam\",\"spam\",\"spam\",\"spam\",\"spam\",\"spam\",\"spam\",\"spam\",\"spam\",\"spam\",\"spam\",\"spam\",\"spam\",\"spam\",\"spam\",\"spam\",\"spam\",\"spam\",\"spam\",\"spam\",\"spam\",\"spam\",\"spam\",\"spam\",\"spam\",\"spam\",\"spam\",\"spam\",\"spam\",\"spam\",\"spam\",\"spam\",\"spam\",\"spam\",\"spam\",\"spam\",\"spam\",\"spam\",\"spam\",\"spam\",\"spam\",\"spam\",\"spam\",\"spam\",\"spam\",\"spam\",\"spam\",\"spam\",\"spam\",\"spam\",\"spam\",\"spam\",\"spam\",\"spam\",\"spam\",\"spam\",\"spam\",\"spam\",\"spam\",\"spam\",\"spam\",\"spam\",\"spam\",\"spam\",\"spam\",\"spam\",\"spam\",\"spam\",\"spam\",\"spam\",\"spam\",\"spam\",\"spam\",\"spam\",\"spam\",\"spam\",\"spam\",\"spam\",\"spam\",\"spam\",\"spam\",\"spam\",\"spam\",\"spam\",\"spam\",\"spam\",\"spam\",\"spam\",\"spam\",\"spam\",\"spam\",\"spam\",\"spam\",\"spam\",\"spam\",\"spam\",\"spam\",\"spam\",\"spam\",\"spam\",\"spam\",\"spam\",\"spam\",\"spam\",\"spam\",\"spam\",\"spam\",\"spam\",\"spam\",\"spam\",\"spam\",\"spam\",\"spam\",\"spam\",\"spam\",\"spam\",\"spam\",\"spam\",\"spam\",\"spam\",\"spam\",\"spam\",\"spam\",\"spam\",\"spam\",\"spam\",\"spam\",\"spam\",\"spam\",\"spam\",\"spam\",\"spam\",\"spam\",\"spam\",\"spam\",\"spam\",\"spam\",\"spam\",\"spam\",\"spam\",\"spam\",\"spam\",\"spam\",\"spam\",\"spam\",\"spam\",\"spam\",\"spam\",\"spam\",\"spam\",\"spam\",\"spam\",\"spam\",\"spam\",\"spam\",\"spam\",\"spam\",\"spam\",\"spam\",\"spam\",\"spam\",\"spam\",\"spam\",\"spam\",\"spam\",\"spam\",\"spam\",\"spam\",\"spam\",\"spam\",\"spam\",\"spam\",\"spam\",\"spam\",\"spam\",\"spam\",\"spam\",\"spam\",\"spam\",\"spam\",\"spam\",\"spam\",\"spam\",\"spam\",\"spam\",\"spam\",\"spam\",\"spam\",\"spam\",\"spam\",\"spam\",\"spam\",\"spam\",\"spam\",\"spam\",\"spam\",\"spam\",\"spam\",\"spam\",\"spam\",\"spam\",\"spam\",\"spam\",\"spam\",\"spam\",\"spam\",\"spam\",\"spam\",\"spam\",\"spam\",\"spam\",\"spam\",\"spam\",\"spam\",\"spam\",\"spam\",\"spam\",\"spam\",\"spam\",\"spam\",\"spam\",\"spam\",\"spam\",\"spam\",\"spam\",\"spam\",\"spam\",\"spam\",\"spam\",\"spam\",\"spam\",\"spam\",\"spam\",\"spam\",\"spam\",\"spam\",\"spam\",\"spam\",\"spam\",\"spam\",\"spam\",\"spam\",\"spam\",\"spam\",\"spam\",\"spam\",\"spam\",\"spam\",\"spam\",\"spam\",\"spam\",\"spam\",\"spam\",\"spam\",\"spam\",\"spam\",\"spam\",\"spam\",\"spam\",\"spam\",\"spam\",\"spam\",\"spam\",\"spam\",\"spam\",\"spam\",\"spam\",\"spam\",\"spam\",\"spam\",\"spam\",\"spam\",\"spam\",\"spam\",\"spam\",\"spam\",\"spam\",\"spam\",\"spam\",\"spam\",\"spam\",\"spam\",\"spam\",\"spam\",\"spam\",\"spam\",\"spam\",\"spam\",\"spam\",\"spam\",\"spam\",\"spam\",\"spam\",\"spam\",\"spam\",\"spam\",\"spam\",\"spam\",\"spam\",\"spam\",\"spam\",\"spam\",\"spam\",\"spam\",\"spam\",\"spam\",\"spam\",\"spam\",\"spam\",\"spam\",\"spam\",\"spam\",\"spam\",\"spam\",\"spam\",\"spam\",\"spam\",\"spam\",\"spam\",\"spam\",\"spam\",\"spam\",\"spam\",\"spam\",\"spam\",\"spam\",\"spam\",\"spam\",\"spam\",\"spam\",\"spam\",\"spam\",\"spam\",\"spam\",\"spam\",\"spam\",\"spam\",\"spam\",\"spam\",\"spam\",\"spam\",\"spam\",\"spam\",\"spam\",\"spam\",\"spam\",\"spam\",\"spam\",\"spam\",\"spam\",\"spam\",\"spam\",\"spam\",\"spam\",\"spam\",\"spam\",\"spam\",\"spam\",\"spam\",\"spam\",\"spam\",\"spam\",\"spam\",\"spam\",\"spam\",\"spam\",\"spam\",\"spam\",\"spam\",\"spam\",\"spam\",\"spam\",\"spam\",\"spam\",\"spam\",\"spam\",\"spam\",\"spam\",\"spam\",\"spam\",\"spam\",\"spam\",\"spam\",\"spam\",\"spam\",\"spam\",\"spam\",\"spam\",\"spam\",\"spam\",\"spam\",\"spam\",\"spam\",\"spam\",\"spam\",\"spam\",\"spam\",\"spam\",\"spam\",\"spam\",\"spam\",\"spam\",\"spam\",\"spam\",\"spam\",\"spam\",\"spam\",\"spam\",\"spam\",\"spam\",\"spam\",\"spam\",\"spam\",\"spam\",\"spam\",\"spam\",\"spam\",\"spam\",\"spam\",\"spam\",\"spam\",\"spam\"],\"xaxis\":\"x\",\"yaxis\":\"y\",\"type\":\"histogram\"}],                        {\"template\":{\"data\":{\"bar\":[{\"error_x\":{\"color\":\"#2a3f5f\"},\"error_y\":{\"color\":\"#2a3f5f\"},\"marker\":{\"line\":{\"color\":\"#E5ECF6\",\"width\":0.5},\"pattern\":{\"fillmode\":\"overlay\",\"size\":10,\"solidity\":0.2}},\"type\":\"bar\"}],\"barpolar\":[{\"marker\":{\"line\":{\"color\":\"#E5ECF6\",\"width\":0.5},\"pattern\":{\"fillmode\":\"overlay\",\"size\":10,\"solidity\":0.2}},\"type\":\"barpolar\"}],\"carpet\":[{\"aaxis\":{\"endlinecolor\":\"#2a3f5f\",\"gridcolor\":\"white\",\"linecolor\":\"white\",\"minorgridcolor\":\"white\",\"startlinecolor\":\"#2a3f5f\"},\"baxis\":{\"endlinecolor\":\"#2a3f5f\",\"gridcolor\":\"white\",\"linecolor\":\"white\",\"minorgridcolor\":\"white\",\"startlinecolor\":\"#2a3f5f\"},\"type\":\"carpet\"}],\"choropleth\":[{\"colorbar\":{\"outlinewidth\":0,\"ticks\":\"\"},\"type\":\"choropleth\"}],\"contour\":[{\"colorbar\":{\"outlinewidth\":0,\"ticks\":\"\"},\"colorscale\":[[0.0,\"#0d0887\"],[0.1111111111111111,\"#46039f\"],[0.2222222222222222,\"#7201a8\"],[0.3333333333333333,\"#9c179e\"],[0.4444444444444444,\"#bd3786\"],[0.5555555555555556,\"#d8576b\"],[0.6666666666666666,\"#ed7953\"],[0.7777777777777778,\"#fb9f3a\"],[0.8888888888888888,\"#fdca26\"],[1.0,\"#f0f921\"]],\"type\":\"contour\"}],\"contourcarpet\":[{\"colorbar\":{\"outlinewidth\":0,\"ticks\":\"\"},\"type\":\"contourcarpet\"}],\"heatmap\":[{\"colorbar\":{\"outlinewidth\":0,\"ticks\":\"\"},\"colorscale\":[[0.0,\"#0d0887\"],[0.1111111111111111,\"#46039f\"],[0.2222222222222222,\"#7201a8\"],[0.3333333333333333,\"#9c179e\"],[0.4444444444444444,\"#bd3786\"],[0.5555555555555556,\"#d8576b\"],[0.6666666666666666,\"#ed7953\"],[0.7777777777777778,\"#fb9f3a\"],[0.8888888888888888,\"#fdca26\"],[1.0,\"#f0f921\"]],\"type\":\"heatmap\"}],\"heatmapgl\":[{\"colorbar\":{\"outlinewidth\":0,\"ticks\":\"\"},\"colorscale\":[[0.0,\"#0d0887\"],[0.1111111111111111,\"#46039f\"],[0.2222222222222222,\"#7201a8\"],[0.3333333333333333,\"#9c179e\"],[0.4444444444444444,\"#bd3786\"],[0.5555555555555556,\"#d8576b\"],[0.6666666666666666,\"#ed7953\"],[0.7777777777777778,\"#fb9f3a\"],[0.8888888888888888,\"#fdca26\"],[1.0,\"#f0f921\"]],\"type\":\"heatmapgl\"}],\"histogram\":[{\"marker\":{\"pattern\":{\"fillmode\":\"overlay\",\"size\":10,\"solidity\":0.2}},\"type\":\"histogram\"}],\"histogram2d\":[{\"colorbar\":{\"outlinewidth\":0,\"ticks\":\"\"},\"colorscale\":[[0.0,\"#0d0887\"],[0.1111111111111111,\"#46039f\"],[0.2222222222222222,\"#7201a8\"],[0.3333333333333333,\"#9c179e\"],[0.4444444444444444,\"#bd3786\"],[0.5555555555555556,\"#d8576b\"],[0.6666666666666666,\"#ed7953\"],[0.7777777777777778,\"#fb9f3a\"],[0.8888888888888888,\"#fdca26\"],[1.0,\"#f0f921\"]],\"type\":\"histogram2d\"}],\"histogram2dcontour\":[{\"colorbar\":{\"outlinewidth\":0,\"ticks\":\"\"},\"colorscale\":[[0.0,\"#0d0887\"],[0.1111111111111111,\"#46039f\"],[0.2222222222222222,\"#7201a8\"],[0.3333333333333333,\"#9c179e\"],[0.4444444444444444,\"#bd3786\"],[0.5555555555555556,\"#d8576b\"],[0.6666666666666666,\"#ed7953\"],[0.7777777777777778,\"#fb9f3a\"],[0.8888888888888888,\"#fdca26\"],[1.0,\"#f0f921\"]],\"type\":\"histogram2dcontour\"}],\"mesh3d\":[{\"colorbar\":{\"outlinewidth\":0,\"ticks\":\"\"},\"type\":\"mesh3d\"}],\"parcoords\":[{\"line\":{\"colorbar\":{\"outlinewidth\":0,\"ticks\":\"\"}},\"type\":\"parcoords\"}],\"pie\":[{\"automargin\":true,\"type\":\"pie\"}],\"scatter\":[{\"marker\":{\"colorbar\":{\"outlinewidth\":0,\"ticks\":\"\"}},\"type\":\"scatter\"}],\"scatter3d\":[{\"line\":{\"colorbar\":{\"outlinewidth\":0,\"ticks\":\"\"}},\"marker\":{\"colorbar\":{\"outlinewidth\":0,\"ticks\":\"\"}},\"type\":\"scatter3d\"}],\"scattercarpet\":[{\"marker\":{\"colorbar\":{\"outlinewidth\":0,\"ticks\":\"\"}},\"type\":\"scattercarpet\"}],\"scattergeo\":[{\"marker\":{\"colorbar\":{\"outlinewidth\":0,\"ticks\":\"\"}},\"type\":\"scattergeo\"}],\"scattergl\":[{\"marker\":{\"colorbar\":{\"outlinewidth\":0,\"ticks\":\"\"}},\"type\":\"scattergl\"}],\"scattermapbox\":[{\"marker\":{\"colorbar\":{\"outlinewidth\":0,\"ticks\":\"\"}},\"type\":\"scattermapbox\"}],\"scatterpolar\":[{\"marker\":{\"colorbar\":{\"outlinewidth\":0,\"ticks\":\"\"}},\"type\":\"scatterpolar\"}],\"scatterpolargl\":[{\"marker\":{\"colorbar\":{\"outlinewidth\":0,\"ticks\":\"\"}},\"type\":\"scatterpolargl\"}],\"scatterternary\":[{\"marker\":{\"colorbar\":{\"outlinewidth\":0,\"ticks\":\"\"}},\"type\":\"scatterternary\"}],\"surface\":[{\"colorbar\":{\"outlinewidth\":0,\"ticks\":\"\"},\"colorscale\":[[0.0,\"#0d0887\"],[0.1111111111111111,\"#46039f\"],[0.2222222222222222,\"#7201a8\"],[0.3333333333333333,\"#9c179e\"],[0.4444444444444444,\"#bd3786\"],[0.5555555555555556,\"#d8576b\"],[0.6666666666666666,\"#ed7953\"],[0.7777777777777778,\"#fb9f3a\"],[0.8888888888888888,\"#fdca26\"],[1.0,\"#f0f921\"]],\"type\":\"surface\"}],\"table\":[{\"cells\":{\"fill\":{\"color\":\"#EBF0F8\"},\"line\":{\"color\":\"white\"}},\"header\":{\"fill\":{\"color\":\"#C8D4E3\"},\"line\":{\"color\":\"white\"}},\"type\":\"table\"}]},\"layout\":{\"annotationdefaults\":{\"arrowcolor\":\"#2a3f5f\",\"arrowhead\":0,\"arrowwidth\":1},\"autotypenumbers\":\"strict\",\"coloraxis\":{\"colorbar\":{\"outlinewidth\":0,\"ticks\":\"\"}},\"colorscale\":{\"diverging\":[[0,\"#8e0152\"],[0.1,\"#c51b7d\"],[0.2,\"#de77ae\"],[0.3,\"#f1b6da\"],[0.4,\"#fde0ef\"],[0.5,\"#f7f7f7\"],[0.6,\"#e6f5d0\"],[0.7,\"#b8e186\"],[0.8,\"#7fbc41\"],[0.9,\"#4d9221\"],[1,\"#276419\"]],\"sequential\":[[0.0,\"#0d0887\"],[0.1111111111111111,\"#46039f\"],[0.2222222222222222,\"#7201a8\"],[0.3333333333333333,\"#9c179e\"],[0.4444444444444444,\"#bd3786\"],[0.5555555555555556,\"#d8576b\"],[0.6666666666666666,\"#ed7953\"],[0.7777777777777778,\"#fb9f3a\"],[0.8888888888888888,\"#fdca26\"],[1.0,\"#f0f921\"]],\"sequentialminus\":[[0.0,\"#0d0887\"],[0.1111111111111111,\"#46039f\"],[0.2222222222222222,\"#7201a8\"],[0.3333333333333333,\"#9c179e\"],[0.4444444444444444,\"#bd3786\"],[0.5555555555555556,\"#d8576b\"],[0.6666666666666666,\"#ed7953\"],[0.7777777777777778,\"#fb9f3a\"],[0.8888888888888888,\"#fdca26\"],[1.0,\"#f0f921\"]]},\"colorway\":[\"#636efa\",\"#EF553B\",\"#00cc96\",\"#ab63fa\",\"#FFA15A\",\"#19d3f3\",\"#FF6692\",\"#B6E880\",\"#FF97FF\",\"#FECB52\"],\"font\":{\"color\":\"#2a3f5f\"},\"geo\":{\"bgcolor\":\"white\",\"lakecolor\":\"white\",\"landcolor\":\"#E5ECF6\",\"showlakes\":true,\"showland\":true,\"subunitcolor\":\"white\"},\"hoverlabel\":{\"align\":\"left\"},\"hovermode\":\"closest\",\"mapbox\":{\"style\":\"light\"},\"paper_bgcolor\":\"white\",\"plot_bgcolor\":\"#E5ECF6\",\"polar\":{\"angularaxis\":{\"gridcolor\":\"white\",\"linecolor\":\"white\",\"ticks\":\"\"},\"bgcolor\":\"#E5ECF6\",\"radialaxis\":{\"gridcolor\":\"white\",\"linecolor\":\"white\",\"ticks\":\"\"}},\"scene\":{\"xaxis\":{\"backgroundcolor\":\"#E5ECF6\",\"gridcolor\":\"white\",\"gridwidth\":2,\"linecolor\":\"white\",\"showbackground\":true,\"ticks\":\"\",\"zerolinecolor\":\"white\"},\"yaxis\":{\"backgroundcolor\":\"#E5ECF6\",\"gridcolor\":\"white\",\"gridwidth\":2,\"linecolor\":\"white\",\"showbackground\":true,\"ticks\":\"\",\"zerolinecolor\":\"white\"},\"zaxis\":{\"backgroundcolor\":\"#E5ECF6\",\"gridcolor\":\"white\",\"gridwidth\":2,\"linecolor\":\"white\",\"showbackground\":true,\"ticks\":\"\",\"zerolinecolor\":\"white\"}},\"shapedefaults\":{\"line\":{\"color\":\"#2a3f5f\"}},\"ternary\":{\"aaxis\":{\"gridcolor\":\"white\",\"linecolor\":\"white\",\"ticks\":\"\"},\"baxis\":{\"gridcolor\":\"white\",\"linecolor\":\"white\",\"ticks\":\"\"},\"bgcolor\":\"#E5ECF6\",\"caxis\":{\"gridcolor\":\"white\",\"linecolor\":\"white\",\"ticks\":\"\"}},\"title\":{\"x\":0.05},\"xaxis\":{\"automargin\":true,\"gridcolor\":\"white\",\"linecolor\":\"white\",\"ticks\":\"\",\"title\":{\"standoff\":15},\"zerolinecolor\":\"white\",\"zerolinewidth\":2},\"yaxis\":{\"automargin\":true,\"gridcolor\":\"white\",\"linecolor\":\"white\",\"ticks\":\"\",\"title\":{\"standoff\":15},\"zerolinecolor\":\"white\",\"zerolinewidth\":2}}},\"xaxis\":{\"anchor\":\"y\",\"domain\":[0.0,1.0],\"title\":{\"text\":\"Category\"},\"categoryorder\":\"array\",\"categoryarray\":[\"ham\",\"spam\"]},\"yaxis\":{\"anchor\":\"x\",\"domain\":[0.0,1.0],\"title\":{\"text\":\"count\"}},\"legend\":{\"title\":{\"text\":\"Category\"},\"tracegroupgap\":0},\"margin\":{\"t\":60},\"barmode\":\"relative\"},                        {\"responsive\": true}                    ).then(function(){\n",
              "                            \n",
              "var gd = document.getElementById('2e9a1830-46a1-4628-b64e-82fbf74ff2e2');\n",
              "var x = new MutationObserver(function (mutations, observer) {{\n",
              "        var display = window.getComputedStyle(gd).display;\n",
              "        if (!display || display === 'none') {{\n",
              "            console.log([gd, 'removed!']);\n",
              "            Plotly.purge(gd);\n",
              "            observer.disconnect();\n",
              "        }}\n",
              "}});\n",
              "\n",
              "// Listen for the removal of the full notebook cells\n",
              "var notebookContainer = gd.closest('#notebook-container');\n",
              "if (notebookContainer) {{\n",
              "    x.observe(notebookContainer, {childList: true});\n",
              "}}\n",
              "\n",
              "// Listen for the clearing of the current output cell\n",
              "var outputEl = gd.closest('.output');\n",
              "if (outputEl) {{\n",
              "    x.observe(outputEl, {childList: true});\n",
              "}}\n",
              "\n",
              "                        })                };                            </script>        </div>\n",
              "</body>\n",
              "</html>"
            ]
          },
          "metadata": {}
        }
      ]
    },
    {
      "cell_type": "code",
      "source": [
        "data['Category'].value_counts()"
      ],
      "metadata": {
        "colab": {
          "base_uri": "https://localhost:8080/"
        },
        "outputId": "93697bf3-9e10-46a5-c348-a2663cbd7290",
        "id": "aNX-9RGnznsz"
      },
      "execution_count": 127,
      "outputs": [
        {
          "output_type": "execute_result",
          "data": {
            "text/plain": [
              "ham     4825\n",
              "spam     747\n",
              "Name: Category, dtype: int64"
            ]
          },
          "metadata": {},
          "execution_count": 127
        }
      ]
    },
    {
      "cell_type": "markdown",
      "source": [
        "The dataset is unbalanced, we can observe that there are:\n",
        "- 747 observations as Spam\n",
        "- 4825 observations as ham"
      ],
      "metadata": {
        "id": "tbrRcO7zrP75"
      }
    },
    {
      "cell_type": "code",
      "source": [
        "#apply len columns to entire dataset and for train and test dataset\n",
        "data['length'] = data['Message'].apply(len)"
      ],
      "metadata": {
        "id": "0GiO4a7giAcV"
      },
      "execution_count": 128,
      "outputs": []
    },
    {
      "cell_type": "code",
      "source": [
        "data.head()"
      ],
      "metadata": {
        "colab": {
          "base_uri": "https://localhost:8080/",
          "height": 206
        },
        "id": "nG6k84ix0JWk",
        "outputId": "916c9397-1208-4d25-9fcb-0abe46861592"
      },
      "execution_count": 129,
      "outputs": [
        {
          "output_type": "execute_result",
          "data": {
            "text/plain": [
              "  Category                                            Message  length\n",
              "0      ham  Go until jurong point, crazy.. Available only ...     111\n",
              "1      ham                      Ok lar... Joking wif u oni...      29\n",
              "2     spam  Free entry in 2 a wkly comp to win FA Cup fina...     155\n",
              "3      ham  U dun say so early hor... U c already then say...      49\n",
              "4      ham  Nah I don't think he goes to usf, he lives aro...      61"
            ],
            "text/html": [
              "\n",
              "  <div id=\"df-96a1d758-6f41-4403-8121-6cb60ec744e5\">\n",
              "    <div class=\"colab-df-container\">\n",
              "      <div>\n",
              "<style scoped>\n",
              "    .dataframe tbody tr th:only-of-type {\n",
              "        vertical-align: middle;\n",
              "    }\n",
              "\n",
              "    .dataframe tbody tr th {\n",
              "        vertical-align: top;\n",
              "    }\n",
              "\n",
              "    .dataframe thead th {\n",
              "        text-align: right;\n",
              "    }\n",
              "</style>\n",
              "<table border=\"1\" class=\"dataframe\">\n",
              "  <thead>\n",
              "    <tr style=\"text-align: right;\">\n",
              "      <th></th>\n",
              "      <th>Category</th>\n",
              "      <th>Message</th>\n",
              "      <th>length</th>\n",
              "    </tr>\n",
              "  </thead>\n",
              "  <tbody>\n",
              "    <tr>\n",
              "      <th>0</th>\n",
              "      <td>ham</td>\n",
              "      <td>Go until jurong point, crazy.. Available only ...</td>\n",
              "      <td>111</td>\n",
              "    </tr>\n",
              "    <tr>\n",
              "      <th>1</th>\n",
              "      <td>ham</td>\n",
              "      <td>Ok lar... Joking wif u oni...</td>\n",
              "      <td>29</td>\n",
              "    </tr>\n",
              "    <tr>\n",
              "      <th>2</th>\n",
              "      <td>spam</td>\n",
              "      <td>Free entry in 2 a wkly comp to win FA Cup fina...</td>\n",
              "      <td>155</td>\n",
              "    </tr>\n",
              "    <tr>\n",
              "      <th>3</th>\n",
              "      <td>ham</td>\n",
              "      <td>U dun say so early hor... U c already then say...</td>\n",
              "      <td>49</td>\n",
              "    </tr>\n",
              "    <tr>\n",
              "      <th>4</th>\n",
              "      <td>ham</td>\n",
              "      <td>Nah I don't think he goes to usf, he lives aro...</td>\n",
              "      <td>61</td>\n",
              "    </tr>\n",
              "  </tbody>\n",
              "</table>\n",
              "</div>\n",
              "      <button class=\"colab-df-convert\" onclick=\"convertToInteractive('df-96a1d758-6f41-4403-8121-6cb60ec744e5')\"\n",
              "              title=\"Convert this dataframe to an interactive table.\"\n",
              "              style=\"display:none;\">\n",
              "        \n",
              "  <svg xmlns=\"http://www.w3.org/2000/svg\" height=\"24px\"viewBox=\"0 0 24 24\"\n",
              "       width=\"24px\">\n",
              "    <path d=\"M0 0h24v24H0V0z\" fill=\"none\"/>\n",
              "    <path d=\"M18.56 5.44l.94 2.06.94-2.06 2.06-.94-2.06-.94-.94-2.06-.94 2.06-2.06.94zm-11 1L8.5 8.5l.94-2.06 2.06-.94-2.06-.94L8.5 2.5l-.94 2.06-2.06.94zm10 10l.94 2.06.94-2.06 2.06-.94-2.06-.94-.94-2.06-.94 2.06-2.06.94z\"/><path d=\"M17.41 7.96l-1.37-1.37c-.4-.4-.92-.59-1.43-.59-.52 0-1.04.2-1.43.59L10.3 9.45l-7.72 7.72c-.78.78-.78 2.05 0 2.83L4 21.41c.39.39.9.59 1.41.59.51 0 1.02-.2 1.41-.59l7.78-7.78 2.81-2.81c.8-.78.8-2.07 0-2.86zM5.41 20L4 18.59l7.72-7.72 1.47 1.35L5.41 20z\"/>\n",
              "  </svg>\n",
              "      </button>\n",
              "      \n",
              "  <style>\n",
              "    .colab-df-container {\n",
              "      display:flex;\n",
              "      flex-wrap:wrap;\n",
              "      gap: 12px;\n",
              "    }\n",
              "\n",
              "    .colab-df-convert {\n",
              "      background-color: #E8F0FE;\n",
              "      border: none;\n",
              "      border-radius: 50%;\n",
              "      cursor: pointer;\n",
              "      display: none;\n",
              "      fill: #1967D2;\n",
              "      height: 32px;\n",
              "      padding: 0 0 0 0;\n",
              "      width: 32px;\n",
              "    }\n",
              "\n",
              "    .colab-df-convert:hover {\n",
              "      background-color: #E2EBFA;\n",
              "      box-shadow: 0px 1px 2px rgba(60, 64, 67, 0.3), 0px 1px 3px 1px rgba(60, 64, 67, 0.15);\n",
              "      fill: #174EA6;\n",
              "    }\n",
              "\n",
              "    [theme=dark] .colab-df-convert {\n",
              "      background-color: #3B4455;\n",
              "      fill: #D2E3FC;\n",
              "    }\n",
              "\n",
              "    [theme=dark] .colab-df-convert:hover {\n",
              "      background-color: #434B5C;\n",
              "      box-shadow: 0px 1px 3px 1px rgba(0, 0, 0, 0.15);\n",
              "      filter: drop-shadow(0px 1px 2px rgba(0, 0, 0, 0.3));\n",
              "      fill: #FFFFFF;\n",
              "    }\n",
              "  </style>\n",
              "\n",
              "      <script>\n",
              "        const buttonEl =\n",
              "          document.querySelector('#df-96a1d758-6f41-4403-8121-6cb60ec744e5 button.colab-df-convert');\n",
              "        buttonEl.style.display =\n",
              "          google.colab.kernel.accessAllowed ? 'block' : 'none';\n",
              "\n",
              "        async function convertToInteractive(key) {\n",
              "          const element = document.querySelector('#df-96a1d758-6f41-4403-8121-6cb60ec744e5');\n",
              "          const dataTable =\n",
              "            await google.colab.kernel.invokeFunction('convertToInteractive',\n",
              "                                                     [key], {});\n",
              "          if (!dataTable) return;\n",
              "\n",
              "          const docLinkHtml = 'Like what you see? Visit the ' +\n",
              "            '<a target=\"_blank\" href=https://colab.research.google.com/notebooks/data_table.ipynb>data table notebook</a>'\n",
              "            + ' to learn more about interactive tables.';\n",
              "          element.innerHTML = '';\n",
              "          dataTable['output_type'] = 'display_data';\n",
              "          await google.colab.output.renderOutput(dataTable, element);\n",
              "          const docLink = document.createElement('div');\n",
              "          docLink.innerHTML = docLinkHtml;\n",
              "          element.appendChild(docLink);\n",
              "        }\n",
              "      </script>\n",
              "    </div>\n",
              "  </div>\n",
              "  "
            ]
          },
          "metadata": {},
          "execution_count": 129
        }
      ]
    },
    {
      "cell_type": "markdown",
      "source": [
        "Here we will observe if there are difference in length between email spam and not"
      ],
      "metadata": {
        "id": "laifCw4RiNcF"
      }
    },
    {
      "cell_type": "code",
      "source": [
        "\n",
        "lis=[data.length[data['Category']=='ham'], data.length[data['Category']=='spam']]\n",
        "group_labels=['ham','spam']\n",
        "colors = ['#003f5c', '#ffa600']\n",
        "# Create distplot \n",
        "fig = ff.create_distplot(lis, group_labels, bin_size=20,show_rug=False,\n",
        "                         curve_type='kde', # override default 'kde'\n",
        "                         colors=colors)\n",
        "\n",
        "# Add title\n",
        "fig.update_layout(xaxis_range=[0,300])\n",
        "fig.update_layout(title_text='Distplot with Normal Distribution')\n",
        "fig.show()"
      ],
      "metadata": {
        "colab": {
          "base_uri": "https://localhost:8080/",
          "height": 542
        },
        "id": "PhIz-WZ3ifbR",
        "outputId": "15ccccc7-ca4b-4f37-d237-241e83e3e8ae"
      },
      "execution_count": 130,
      "outputs": [
        {
          "output_type": "display_data",
          "data": {
            "text/html": [
              "<html>\n",
              "<head><meta charset=\"utf-8\" /></head>\n",
              "<body>\n",
              "    <div>            <script src=\"https://cdnjs.cloudflare.com/ajax/libs/mathjax/2.7.5/MathJax.js?config=TeX-AMS-MML_SVG\"></script><script type=\"text/javascript\">if (window.MathJax) {MathJax.Hub.Config({SVG: {font: \"STIX-Web\"}});}</script>                <script type=\"text/javascript\">window.PlotlyConfig = {MathJaxConfig: 'local'};</script>\n",
              "        <script src=\"https://cdn.plot.ly/plotly-2.8.3.min.js\"></script>                <div id=\"73600984-6da5-4090-91df-b955d07f762d\" class=\"plotly-graph-div\" style=\"height:525px; width:100%;\"></div>            <script type=\"text/javascript\">                                    window.PLOTLYENV=window.PLOTLYENV || {};                                    if (document.getElementById(\"73600984-6da5-4090-91df-b955d07f762d\")) {                    Plotly.newPlot(                        \"73600984-6da5-4090-91df-b955d07f762d\",                        [{\"autobinx\":false,\"histnorm\":\"probability density\",\"legendgroup\":\"ham\",\"marker\":{\"color\":\"#003f5c\"},\"name\":\"ham\",\"opacity\":0.7,\"x\":[111,29,49,61,77,160,109,196,35,26,81,56,41,47,52,88,57,144,30,134,75,64,130,188,29,84,122,47,28,27,155,82,142,19,72,32,45,31,67,148,58,124,80,289,76,34,22,40,108,48,25,56,110,122,34,46,29,45,42,20,43,73,50,42,76,22,31,32,36,14,55,121,144,42,41,58,194,141,107,33,51,178,31,57,81,76,160,183,44,95,43,82,115,30,40,31,96,143,156,71,86,53,51,38,20,244,22,107,28,9,39,25,38,34,46,85,33,27,156,42,25,48,84,33,30,45,59,25,160,384,28,27,157,115,64,85,51,74,66,59,50,93,32,104,61,65,26,146,66,126,159,23,65,24,26,152,34,55,88,185,37,111,92,28,28,63,131,40,28,84,174,24,25,63,156,28,86,39,73,26,23,23,31,58,48,41,32,159,25,161,22,119,69,30,165,34,109,37,33,48,50,65,38,145,51,45,83,155,37,78,30,31,146,44,179,27,179,38,97,43,36,72,3,85,51,26,35,47,47,53,147,37,31,8,38,30,47,56,22,141,29,7,121,58,4,148,160,152,37,55,21,22,50,67,153,51,67,88,157,90,24,56,26,71,55,156,119,142,41,26,119,46,23,51,61,107,157,30,32,31,79,32,86,22,76,232,45,57,26,22,41,28,151,29,34,52,33,85,31,78,50,63,148,129,45,202,168,85,38,15,31,88,160,50,26,31,129,34,54,162,23,53,131,36,143,300,59,42,41,22,31,30,47,25,79,22,115,56,102,118,221,204,114,39,36,48,77,60,168,51,22,152,75,30,94,24,35,29,66,48,24,248,25,27,37,68,150,24,80,25,73,89,58,36,76,47,104,38,69,22,119,94,69,73,42,17,13,45,57,105,47,115,158,79,142,62,71,29,29,148,83,37,44,45,50,298,125,51,28,34,46,81,28,90,18,54,55,45,40,107,50,120,32,34,32,16,67,55,43,23,149,20,23,40,117,62,166,24,136,99,45,23,25,26,167,117,46,26,28,32,57,42,36,50,33,15,177,160,63,84,84,57,169,76,47,130,23,149,32,22,101,281,54,120,138,127,66,40,40,70,159,26,32,51,146,103,45,142,92,26,134,37,22,22,32,109,35,140,50,46,63,95,69,109,51,27,34,24,147,24,29,87,38,104,59,38,38,22,25,87,19,66,156,22,107,65,145,137,25,59,103,37,58,87,58,123,67,66,102,35,8,62,56,20,100,49,36,53,88,131,36,37,123,92,80,35,66,119,65,26,28,45,157,36,94,140,22,56,43,61,56,54,37,25,21,36,153,46,34,79,69,24,108,46,29,22,86,30,143,169,42,18,109,76,73,92,36,54,76,29,40,28,22,77,109,75,76,30,49,316,195,125,48,39,121,162,29,38,25,40,226,70,140,47,63,17,41,80,137,103,29,51,25,149,38,62,179,34,47,40,110,101,42,27,31,81,23,59,133,33,95,135,151,73,103,22,51,137,58,88,81,57,26,32,145,118,143,23,136,94,8,65,71,117,28,150,31,71,70,94,48,94,31,39,71,25,22,48,33,44,47,26,112,19,48,107,38,27,124,131,23,25,42,27,22,98,89,129,215,26,66,372,81,73,76,24,231,87,72,105,54,58,54,114,88,29,136,23,39,35,24,95,73,45,159,92,102,31,77,139,44,276,78,27,79,24,52,68,24,44,24,55,62,104,87,148,49,154,56,126,43,77,48,84,49,79,31,146,23,160,62,39,67,73,148,87,37,23,56,53,73,80,44,92,35,23,106,103,34,77,26,47,24,133,126,78,116,221,59,142,24,38,42,24,157,47,122,126,26,114,7,34,92,90,22,85,63,220,41,60,88,31,37,28,24,117,22,210,50,49,87,61,54,28,49,53,145,160,53,12,142,71,129,33,47,72,147,104,41,23,104,45,26,37,132,63,108,93,43,45,56,37,124,38,53,31,224,24,24,52,48,28,43,49,26,58,17,26,127,103,157,34,128,155,51,60,30,41,102,18,112,77,41,46,136,46,157,24,17,20,84,63,155,122,50,25,44,65,21,47,135,39,83,44,28,24,67,67,33,24,119,910,158,35,24,53,72,19,188,71,23,160,73,106,80,105,42,68,32,159,140,101,31,23,58,37,61,60,54,69,72,40,36,35,34,78,121,64,25,22,35,156,58,31,24,17,152,41,80,85,115,25,45,70,22,43,22,22,72,91,70,140,31,52,40,23,145,54,43,30,39,71,146,73,23,25,59,150,166,26,66,35,26,26,49,38,36,18,48,68,73,49,13,63,133,13,74,48,138,164,40,20,61,61,130,37,31,27,41,49,52,124,63,83,70,55,119,22,43,46,75,42,31,76,51,27,34,125,136,24,33,63,96,53,59,52,45,34,53,110,60,152,55,84,87,83,26,58,46,43,24,97,70,179,54,26,154,123,48,40,81,116,5,81,20,13,37,64,69,55,45,159,25,28,40,156,138,24,70,60,86,174,48,48,25,54,38,44,64,133,36,132,51,48,62,46,39,103,83,84,39,122,154,36,5,30,57,54,34,84,139,35,31,48,94,27,28,41,42,150,162,82,44,56,41,23,112,38,159,32,47,82,25,51,21,30,121,53,84,24,81,152,131,327,49,65,29,207,114,49,106,36,32,50,78,141,23,40,25,22,153,72,203,324,115,27,139,46,115,155,35,82,7,36,73,24,49,48,155,93,99,155,48,42,24,30,44,24,34,144,179,52,82,39,80,35,78,41,27,32,33,41,5,126,166,141,122,38,62,47,21,115,71,33,72,132,26,38,25,27,159,103,12,25,62,33,23,52,104,149,144,51,111,131,174,42,151,37,61,72,93,141,85,78,33,90,147,33,32,5,149,22,132,154,31,51,18,172,76,78,112,58,158,59,154,34,26,31,26,64,179,56,148,90,110,458,36,28,33,51,45,37,39,96,15,29,32,152,29,36,54,29,47,172,32,22,91,53,24,121,36,212,25,59,155,37,79,24,50,75,41,8,36,31,73,127,14,97,123,92,63,58,46,26,143,29,31,156,37,63,33,104,58,62,184,611,61,62,64,47,92,22,338,86,159,30,105,148,30,52,152,43,35,47,25,127,25,142,128,24,43,99,152,37,32,3,28,55,28,121,29,115,39,154,148,42,156,25,41,83,45,73,158,47,159,165,37,41,136,24,35,25,31,36,130,156,30,118,82,144,73,22,90,61,28,42,75,27,13,129,73,88,27,147,11,23,25,144,49,40,156,122,18,6,126,46,30,35,32,23,42,99,96,71,72,76,60,5,31,77,33,25,126,68,75,68,144,59,60,49,66,24,58,107,53,73,149,136,62,157,39,67,127,24,136,34,26,55,27,39,36,23,51,34,34,74,142,32,159,86,32,166,22,26,92,37,46,62,39,50,35,21,107,38,205,158,67,121,26,68,123,61,33,156,41,50,41,151,22,53,62,159,34,151,26,27,52,100,161,39,32,158,120,42,46,44,123,24,28,34,28,47,47,114,37,64,82,120,24,89,67,44,33,28,37,76,150,45,84,24,119,332,80,24,34,65,27,24,53,28,22,23,191,75,23,25,37,40,93,107,52,71,52,51,98,89,50,163,135,32,41,58,50,790,34,35,100,44,183,71,30,34,75,55,33,96,33,64,22,32,128,45,62,85,32,89,63,28,41,110,53,31,27,79,22,40,58,54,84,15,105,30,108,92,87,15,51,50,63,34,160,29,41,68,91,2,66,135,30,35,35,25,23,32,76,64,133,55,124,46,120,72,56,53,49,51,29,37,67,41,92,30,68,46,87,95,23,34,59,158,72,76,65,58,14,27,141,53,52,31,39,83,34,22,88,61,150,123,24,32,22,49,108,119,34,38,26,32,149,117,45,55,38,80,54,62,52,81,36,431,62,375,158,52,137,42,63,22,38,50,83,84,39,73,53,94,38,38,75,62,59,23,37,45,51,24,42,123,43,35,46,35,59,32,50,27,40,37,84,125,45,32,52,39,32,52,40,96,31,276,50,26,36,99,44,23,63,60,41,133,27,42,40,17,81,38,48,35,136,363,40,47,154,31,11,44,88,47,64,24,95,134,23,32,175,38,35,147,51,107,38,60,37,157,185,28,157,79,40,113,30,42,41,113,382,87,49,26,28,26,49,39,38,31,160,25,154,22,34,45,70,77,32,50,30,113,588,114,114,50,141,158,56,29,39,32,37,159,29,48,59,29,24,31,37,193,45,154,3,32,131,52,142,104,43,72,104,54,108,77,41,130,42,22,30,38,54,54,66,65,93,132,112,21,68,119,58,60,54,45,66,67,77,76,77,175,76,102,39,32,30,108,141,130,58,28,77,158,88,127,110,51,30,25,96,64,23,70,31,113,110,36,28,23,155,54,39,154,36,64,36,71,51,17,22,26,144,63,22,89,42,28,135,78,33,26,52,29,33,23,85,101,110,27,58,44,26,91,125,25,69,71,48,28,66,127,62,26,78,23,85,34,41,134,25,30,45,5,23,93,7,24,129,45,65,48,18,24,33,25,51,92,69,25,107,51,65,141,7,41,67,30,37,47,36,29,36,281,27,52,66,121,56,92,66,43,127,43,446,98,88,103,24,95,74,158,482,53,119,31,22,22,38,22,89,66,191,27,67,103,96,38,40,25,24,26,39,54,73,80,21,148,444,41,99,33,27,116,24,75,47,80,115,52,83,41,22,46,57,45,67,26,100,53,629,235,26,114,44,78,51,81,28,85,46,183,22,105,28,25,23,74,50,28,44,88,25,29,39,46,64,15,126,105,49,30,23,84,67,14,68,37,25,84,29,22,201,137,33,101,45,124,84,42,78,70,121,81,42,245,66,139,167,51,55,30,36,28,306,202,160,36,20,6,5,150,73,19,153,45,54,22,22,67,42,179,22,80,22,163,46,158,32,71,34,104,9,95,29,155,24,41,106,32,112,47,27,30,289,80,70,122,59,58,20,27,34,31,66,65,95,32,23,36,55,140,144,30,28,83,40,32,53,116,36,36,37,54,46,65,37,39,44,82,23,155,153,44,117,55,124,109,65,16,50,46,4,34,95,57,132,56,62,25,38,46,32,49,243,42,41,51,81,9,136,9,25,27,45,115,65,139,28,30,53,59,44,26,85,23,27,47,49,126,32,22,107,46,96,157,50,63,29,87,27,33,33,27,26,5,33,34,29,30,140,34,117,45,27,153,41,136,56,64,50,444,27,106,66,53,88,4,54,56,27,95,95,52,80,62,73,165,169,57,56,113,50,23,24,179,101,54,96,59,166,14,46,9,46,84,71,19,44,46,35,28,53,82,25,48,29,41,99,55,22,15,119,154,25,28,29,28,89,56,53,37,25,129,69,21,89,37,37,102,42,63,50,163,200,40,38,26,29,16,23,46,31,28,118,29,63,106,121,44,22,22,116,78,57,43,116,57,45,142,32,69,79,149,63,155,29,145,22,32,10,61,57,36,52,163,133,55,57,68,123,111,37,74,47,9,149,44,23,26,35,29,131,28,23,52,53,131,11,27,88,166,42,32,588,74,39,26,57,53,94,276,81,160,151,60,51,137,104,75,29,142,40,166,130,14,31,52,234,50,103,25,49,47,27,77,27,34,22,95,22,54,67,73,56,32,25,65,43,121,55,122,27,141,109,109,6,142,46,32,89,64,77,47,42,29,37,85,47,33,23,67,32,31,25,11,128,33,30,183,156,47,32,135,101,59,43,95,141,38,327,29,36,87,35,62,32,24,112,57,26,110,147,32,151,40,30,94,28,164,38,46,23,316,65,24,42,45,54,26,60,141,151,35,32,142,59,96,30,126,41,30,157,71,112,43,14,49,47,42,26,23,30,108,119,37,74,46,50,461,127,44,34,72,30,27,48,90,50,47,22,41,37,173,93,69,27,47,93,32,46,63,73,295,39,120,42,169,101,32,149,40,85,2,131,49,32,29,24,74,242,40,66,25,26,27,23,38,33,55,46,22,42,35,53,112,39,38,129,67,147,61,38,82,14,153,42,154,50,52,54,49,67,139,110,37,40,25,113,28,48,58,66,26,297,148,149,154,78,35,31,70,32,35,23,76,24,41,48,59,53,19,51,122,53,22,155,25,39,119,104,45,18,19,30,91,156,45,42,116,113,136,38,43,29,61,5,33,41,60,44,32,87,66,148,56,148,55,35,31,38,59,27,54,30,33,92,59,160,130,110,52,65,59,23,41,136,35,69,67,68,49,96,46,47,50,28,110,97,46,90,13,41,65,134,145,131,33,14,105,42,40,47,80,72,150,33,33,31,281,44,102,34,73,149,19,22,92,86,28,40,132,47,66,63,147,47,151,37,41,32,24,27,50,35,38,41,118,57,115,51,82,29,23,72,72,33,111,34,86,121,61,14,120,78,50,27,444,79,82,62,33,68,107,37,132,69,83,38,114,151,79,80,158,35,165,42,153,320,93,148,50,71,55,158,54,113,70,77,71,33,31,91,22,148,145,126,28,52,35,126,47,27,41,128,83,41,28,34,39,54,90,35,34,91,52,45,54,77,22,22,368,28,82,54,68,29,114,67,96,25,104,44,18,47,22,31,39,40,69,79,117,38,65,23,2,151,58,24,31,33,54,60,9,71,28,41,29,34,31,11,129,11,28,47,59,31,140,44,62,22,80,158,119,131,40,52,34,23,29,48,38,31,86,33,54,193,34,124,152,65,101,51,29,25,78,30,135,44,89,141,49,54,18,34,107,24,274,118,158,28,127,52,131,155,73,8,57,106,56,49,27,176,90,31,38,156,66,180,63,59,25,24,149,165,63,32,29,35,22,103,3,126,31,75,121,75,95,114,26,48,25,38,7,125,188,124,55,38,29,46,62,32,192,287,37,42,70,76,114,15,49,53,159,33,87,36,134,22,26,24,97,153,139,45,69,40,29,40,84,25,138,123,85,69,23,25,24,30,28,43,39,83,73,47,322,59,42,31,30,36,29,59,154,47,83,126,128,12,53,41,176,99,72,123,69,39,17,22,48,38,30,38,25,28,46,72,41,31,59,28,30,131,55,32,138,125,12,81,155,74,34,84,190,41,37,38,87,43,73,65,36,38,27,21,73,191,100,34,31,154,98,107,27,59,57,136,56,77,44,46,53,32,31,55,40,51,39,43,35,132,158,48,37,169,135,33,52,29,29,102,55,24,53,43,23,51,40,153,82,26,38,82,38,26,25,24,58,46,90,128,70,30,44,67,41,21,158,127,38,47,65,36,36,37,31,18,84,159,92,39,28,66,35,37,38,34,34,30,45,137,24,51,293,28,37,33,30,49,263,50,26,39,58,62,70,50,38,60,152,158,45,22,26,43,48,48,162,30,110,34,65,23,35,22,96,75,81,37,71,21,126,25,301,23,198,31,30,39,98,14,27,69,157,54,39,76,45,144,180,165,61,39,41,74,204,88,74,37,39,35,43,42,37,30,82,32,28,55,67,244,24,159,159,70,57,139,40,86,116,3,53,42,54,32,30,70,92,62,72,142,85,66,32,55,58,16,70,38,44,77,148,32,85,22,38,32,198,102,44,42,61,43,46,76,61,74,46,61,22,50,44,257,159,58,76,95,29,63,53,34,33,65,30,19,36,40,61,4,50,28,57,32,38,86,37,116,77,17,156,37,13,88,63,205,112,78,121,25,46,26,126,46,23,82,72,30,22,48,24,46,86,158,30,25,35,106,48,60,97,36,71,83,153,38,81,94,52,83,33,42,24,54,23,45,37,28,44,73,202,137,13,29,51,132,35,96,73,55,60,83,111,40,141,104,133,26,53,70,67,22,63,33,74,60,144,220,54,127,27,162,111,30,3,61,39,103,44,34,37,89,31,21,35,23,45,42,38,28,84,52,78,54,23,92,24,51,22,23,65,21,29,66,32,34,153,23,32,69,180,255,31,59,138,67,37,122,29,97,75,84,56,36,84,128,96,35,46,276,25,46,153,74,27,63,147,154,70,157,24,85,48,26,46,35,24,49,48,80,39,29,32,75,25,60,154,230,27,92,87,116,126,28,160,60,153,55,22,42,36,34,153,147,55,54,34,22,103,159,87,153,67,48,57,157,139,158,90,28,22,38,92,84,74,40,63,134,35,35,54,27,111,157,124,22,77,37,71,74,28,34,34,67,41,33,83,38,61,32,62,79,22,158,37,23,43,108,23,81,154,84,54,22,34,68,74,102,22,32,76,26,29,52,60,44,77,263,65,31,73,127,131,31,24,71,23,79,24,97,71,38,44,88,155,36,7,71,27,49,46,23,183,118,92,38,87,29,154,45,24,69,140,114,131,85,75,31,37,122,19,106,67,51,40,40,28,152,17,138,60,28,142,139,79,34,290,25,5,63,153,104,82,74,15,77,37,129,54,63,66,329,40,86,82,24,111,155,36,35,111,72,61,27,30,46,32,43,154,55,27,35,37,70,115,68,29,27,34,66,20,139,150,49,19,40,113,43,51,156,33,157,32,46,142,35,116,90,52,180,39,87,47,70,121,14,142,23,64,25,45,36,99,38,142,51,163,145,27,41,25,151,85,30,60,74,61,22,408,56,31,44,138,22,38,53,93,283,36,60,36,154,103,65,149,199,26,122,31,64,39,83,42,35,23,41,72,66,43,46,116,56,55,166,29,96,36,49,61,39,141,30,29,31,73,25,29,379,69,26,36,324,116,50,89,237,236,95,85,44,95,23,145,26,160,97,39,24,33,76,49,15,22,51,28,69,159,44,24,20,126,41,40,162,171,28,62,71,109,135,2,17,21,25,23,74,26,148,24,29,62,132,43,42,58,125,94,104,94,39,26,60,21,158,58,120,47,110,205,73,31,29,152,42,48,137,105,155,45,35,77,159,123,49,73,161,50,137,118,54,151,23,52,90,23,24,156,25,73,34,158,208,56,112,35,119,30,24,45,34,142,75,95,77,79,229,44,117,70,53,106,30,86,38,66,39,96,153,73,35,72,133,106,35,22,31,18,54,29,101,21,89,75,34,27,34,37,170,52,24,54,56,41,89,34,43,43,42,26,55,66,55,49,7,27,28,33,157,38,159,135,22,48,32,80,26,106,51,56,13,33,30,31,35,24,26,48,159,59,64,107,25,23,36,55,36,66,25,37,44,160,63,33,17,40,43,10,51,154,113,147,50,62,26,8,22,10,124,32,24,95,35,59,73,88,77,64,74,54,26,112,77,53,102,77,42,59,32,70,70,124,21,77,25,35,75,36,48,175,237,23,101,62,37,52,18,42,79,133,91,99,62,34,40,157,133,56,89,31,26,83,76,22,42,120,62,24,158,46,61,156,53,73,87,74,58,79,32,147,51,45,28,157,56,68,22,22,84,43,62,46,47,151,240,45,30,110,32,43,110,201,151,86,46,41,84,27,98,86,15,37,42,7,111,42,29,68,62,69,139,38,46,29,121,33,42,89,74,71,45,37,33,54,69,43,81,53,76,22,27,109,12,44,57,5,121,152,22,58,40,297,39,92,158,82,35,65,26,32,85,126,75,92,27,35,145,113,31,22,166,276,171,76,158,22,24,44,51,44,47,44,32,415,32,22,40,24,160,80,27,237,133,33,80,45,48,148,156,37,47,38,48,22,96,149,37,22,33,83,24,38,129,85,45,87,106,95,86,107,40,33,146,136,100,64,73,146,39,32,65,41,152,9,34,66,133,125,132,44,42,142,62,54,54,54,89,111,22,22,57,24,38,32,70,25,96,95,27,150,42,61,51,28,22,26,78,51,42,247,80,15,28,28,78,60,59,59,146,73,45,152,31,66,19,57,100,22,44,67,84,48,43,69,27,72,28,133,98,70,41,111,97,89,31,89,155,43,46,111,27,175,42,138,50,30,49,91,36,30,63,119,26,82,23,53,66,62,74,93,350,256,50,21,51,85,94,22,31,24,46,65,32,120,36,70,70,166,32,40,98,446,150,47,57,154,33,27,91,39,52,88,28,43,32,69,30,154,107,101,31,49,281,37,70,113,116,47,27,87,87,228,102,133,88,36,77,104,87,28,130,79,184,53,31,85,77,23,76,28,30,75,36,23,31,99,24,65,24,84,28,46,4,55,93,70,85,100,157,49,25,35,48,43,27,18,4,22,69,37,39,134,83,116,42,40,23,61,43,109,30,329,91,31,29,22,40,29,38,41,51,35,89,51,40,108,141,45,71,35,29,143,48,21,98,136,32,43,48,25,19,133,66,58,119,53,38,45,99,77,55,23,21,33,46,23,82,127,74,23,65,324,26,152,44,80,51,45,152,42,101,29,63,168,109,35,38,49,31,24,40,113,119,50,23,47,38,51,32,125,36,55,23,35,87,71,94,95,51,23,162,82,32,146,121,40,27,28,97,159,28,36,64,30,26,189,160,26,29,24,29,47,72,37,125,52,192,126,39,25,35,33,38,77,38,16,130,133,40,11,45,67,40,82,96,145,30,2,125,133,56,42,70,50,135,45,38,46,44,212,51,116,80,48,64,88,159,147,24,101,40,36,26,23,59,104,41,50,40,29,49,45,157,86,129,40,69,28,34,160,23,39,82,36,80,81,10,90,112,40,72,82,37,40,39,22,84,40,45,32,97,102,34,22,51,59,33,26,28,32,44,45,90,99,70,68,104,37,51,23,251,40,38,44,101,27,22,120,51,17,49,87,7,26,3,79,34,122,54,74,50,25,61,35,31,78,169,135,33,23,43,23,65,65,155,118,58,34,45,155,36,82,40,127,149,38,58,61,24,37,25,69,32,245,139,166,122,56,32,35,35,23,103,68,49,25,64,60,40,112,28,329,54,158,26,21,40,38,154,45,42,34,87,43,51,91,27,98,153,63,273,22,66,33,70,96,19,67,12,36,57,125,26],\"xaxis\":\"x\",\"xbins\":{\"end\":910.0,\"size\":20,\"start\":2.0},\"yaxis\":\"y\",\"type\":\"histogram\"},{\"autobinx\":false,\"histnorm\":\"probability density\",\"legendgroup\":\"spam\",\"marker\":{\"color\":\"#ffa600\"},\"name\":\"spam\",\"opacity\":0.7,\"x\":[155,147,157,154,136,155,149,155,158,172,120,160,152,159,78,137,158,158,151,144,156,156,125,162,155,159,124,145,152,155,156,147,72,142,137,157,145,150,154,121,159,133,155,159,146,138,133,157,128,158,111,150,148,165,129,157,149,155,156,49,106,159,162,136,157,162,175,161,159,146,160,7,147,146,89,144,158,111,145,96,158,69,99,149,126,142,148,86,134,140,130,148,143,136,97,59,93,153,158,111,155,160,37,7,145,101,148,131,102,65,95,159,149,99,129,157,160,152,162,141,148,133,156,161,147,152,149,155,160,152,158,144,160,149,134,154,156,136,132,143,127,158,162,155,139,158,148,132,137,41,156,141,147,150,158,156,101,104,135,152,143,134,156,90,152,145,141,159,69,156,153,156,104,120,158,115,139,155,159,154,49,145,148,50,143,145,159,122,81,120,146,66,162,155,138,125,154,101,151,153,159,143,163,143,150,71,140,141,159,153,81,152,158,160,130,154,122,121,157,158,150,156,145,149,136,145,143,153,132,71,146,161,155,160,122,146,159,157,73,172,114,125,148,145,138,223,158,155,142,162,33,154,162,154,132,154,151,161,158,153,115,84,155,132,154,152,163,156,143,158,144,141,159,160,156,74,131,103,153,129,143,118,157,155,152,158,161,149,161,30,155,159,144,159,154,157,161,159,7,137,154,161,147,156,152,158,159,154,156,181,159,156,155,160,121,33,159,48,183,160,145,160,150,157,114,166,160,118,82,149,161,158,157,109,161,152,158,152,157,152,121,159,116,167,149,158,99,101,156,70,160,153,133,130,153,136,154,173,106,153,146,130,165,162,130,136,157,152,158,24,156,160,118,135,151,165,158,155,141,124,123,126,33,157,160,136,152,157,160,110,157,151,52,152,140,152,163,139,136,148,48,100,119,147,135,159,106,147,122,134,110,162,110,152,152,141,147,121,140,112,143,139,156,144,145,160,151,101,114,158,153,146,158,157,136,142,156,173,50,138,105,156,134,40,146,140,78,149,160,81,126,152,157,136,157,152,64,160,157,160,106,139,153,153,101,156,148,140,161,156,149,157,152,161,156,68,130,133,144,149,142,155,157,114,165,156,152,155,155,150,177,157,114,197,156,13,147,101,109,158,136,158,86,155,156,158,158,118,160,161,151,138,109,106,96,151,150,153,120,128,145,86,157,100,114,137,134,146,160,18,63,137,95,143,158,161,147,73,158,158,147,45,156,154,158,148,140,106,114,154,148,135,166,132,122,141,157,152,146,160,159,144,154,112,157,143,149,158,155,147,157,72,157,159,135,105,74,156,152,136,163,157,74,155,81,138,160,134,161,145,163,126,135,132,145,144,156,72,132,81,137,159,149,47,65,123,158,73,51,161,162,160,143,156,142,115,159,152,126,158,158,155,144,108,137,165,143,155,155,136,152,160,154,132,153,143,154,106,160,155,143,138,89,146,135,158,153,69,151,152,135,134,159,95,137,147,148,132,145,134,181,155,153,159,124,118,137,140,153,159,135,138,175,165,154,154,146,133,126,149,135,109,159,145,130,160,135,130,158,149,153,47,158,156,44,162,162,155,160,119,142,156,149,151,162,160,136,146,158,154,126,144,143,155,154,154,156,156,112,106,155,156,139,90,159,42,106,162,70,108,157,147,83,155,142,148,145,160,158,148,152,134,90,158,160,147,160],\"xaxis\":\"x\",\"xbins\":{\"end\":223.0,\"size\":20,\"start\":7.0},\"yaxis\":\"y\",\"type\":\"histogram\"},{\"legendgroup\":\"ham\",\"marker\":{\"color\":\"#003f5c\"},\"mode\":\"lines\",\"name\":\"ham\",\"showlegend\":false,\"x\":[2.0,3.816,5.632,7.448,9.264,11.08,12.896,14.712,16.528,18.344,20.16,21.976,23.792,25.608,27.424,29.24,31.056,32.872,34.688,36.504,38.32,40.136,41.952,43.768,45.584,47.4,49.216,51.032,52.848,54.664,56.48,58.296,60.112,61.928,63.744,65.56,67.376,69.192,71.008,72.824,74.64,76.456,78.272,80.088,81.904,83.72,85.536,87.352,89.168,90.984,92.8,94.616,96.432,98.248,100.064,101.88,103.696,105.512,107.328,109.144,110.96,112.776,114.592,116.408,118.224,120.04,121.856,123.672,125.488,127.304,129.12,130.936,132.752,134.568,136.384,138.2,140.016,141.832,143.648,145.464,147.28,149.096,150.912,152.728,154.544,156.36,158.176,159.992,161.808,163.624,165.44,167.256,169.072,170.888,172.704,174.52,176.336,178.152,179.968,181.784,183.6,185.416,187.232,189.048,190.864,192.68,194.496,196.312,198.128,199.944,201.76,203.576,205.392,207.208,209.024,210.84,212.656,214.472,216.288,218.104,219.92,221.736,223.552,225.368,227.184,229.0,230.816,232.632,234.448,236.264,238.08,239.896,241.712,243.528,245.344,247.16,248.976,250.792,252.608,254.424,256.24,258.056,259.872,261.688,263.504,265.32,267.136,268.952,270.768,272.584,274.4,276.216,278.032,279.848,281.664,283.48,285.296,287.112,288.928,290.744,292.56,294.376,296.192,298.008,299.824,301.64,303.456,305.272,307.088,308.904,310.72,312.536,314.352,316.168,317.984,319.8,321.616,323.432,325.248,327.064,328.88,330.696,332.512,334.328,336.144,337.96,339.776,341.592,343.408,345.224,347.04,348.856,350.672,352.488,354.304,356.12,357.936,359.752,361.568,363.384,365.2,367.016,368.832,370.648,372.464,374.28,376.096,377.912,379.728,381.544,383.36,385.176,386.992,388.808,390.624,392.44,394.256,396.072,397.888,399.704,401.52,403.336,405.152,406.968,408.784,410.6,412.416,414.232,416.048,417.864,419.68,421.496,423.312,425.128,426.944,428.76,430.576,432.392,434.208,436.024,437.84,439.656,441.472,443.288,445.104,446.92,448.736,450.552,452.368,454.184,456.0,457.816,459.632,461.448,463.264,465.08,466.896,468.712,470.528,472.344,474.16,475.976,477.792,479.608,481.424,483.24,485.056,486.872,488.688,490.504,492.32,494.136,495.952,497.768,499.584,501.4,503.216,505.032,506.848,508.664,510.48,512.296,514.112,515.928,517.744,519.56,521.376,523.192,525.008,526.824,528.64,530.456,532.272,534.088,535.904,537.72,539.536,541.352,543.168,544.984,546.8,548.616,550.432,552.248,554.064,555.88,557.696,559.512,561.328,563.144,564.96,566.776,568.592,570.408,572.224,574.04,575.856,577.672,579.488,581.304,583.12,584.936,586.752,588.568,590.384,592.2,594.016,595.832,597.648,599.464,601.28,603.096,604.912,606.728,608.544,610.36,612.176,613.992,615.808,617.624,619.44,621.256,623.072,624.888,626.704,628.52,630.336,632.152,633.968,635.784,637.6,639.416,641.232,643.048,644.864,646.68,648.496,650.312,652.128,653.944,655.76,657.576,659.392,661.208,663.024,664.84,666.656,668.472,670.288,672.104,673.92,675.736,677.552,679.368,681.184,683.0,684.816,686.632,688.448,690.264,692.08,693.896,695.712,697.528,699.344,701.16,702.976,704.792,706.608,708.424,710.24,712.056,713.872,715.688,717.504,719.32,721.136,722.952,724.768,726.584,728.4,730.216,732.032,733.848,735.664,737.48,739.296,741.112,742.928,744.744,746.56,748.376,750.192,752.008,753.824,755.64,757.456,759.272,761.088,762.904,764.72,766.536,768.352,770.168,771.984,773.8,775.616,777.432,779.248,781.064,782.88,784.696,786.512,788.328,790.144,791.96,793.776,795.592,797.408,799.224,801.04,802.856,804.672,806.488,808.304,810.12,811.936,813.752,815.568,817.384,819.2,821.016,822.832,824.648,826.464,828.28,830.096,831.912,833.728,835.544,837.36,839.176,840.992,842.808,844.624,846.44,848.256,850.072,851.888,853.704,855.52,857.336,859.152,860.968,862.784,864.6,866.416,868.232,870.048,871.864,873.68,875.496,877.312,879.128,880.944,882.76,884.576,886.392,888.208,890.024,891.84,893.656,895.472,897.288,899.104,900.92,902.736,904.552,906.368,908.184],\"xaxis\":\"x\",\"y\":[0.0014650754074906345,0.001853635452953256,0.002322509141650671,0.002879577519395942,0.0035296374483900937,0.0042729274253783854,0.00510382924833599,0.006010007280445927,0.006972219558020795,0.007964950407777251,0.008957884243281344,0.009918090318025657,0.010812651941190635,0.011611383580922046,0.012289257727849704,0.012828215928412146,0.013218152204083213,0.013457004809210093,0.013550040025390588,0.01350852825949457,0.013348077389467115,0.013086894830164383,0.012744205936777506,0.012338979857765466,0.011889026579050303,0.011410450700582239,0.01091739251832042,0.010421961395416502,0.00993426867358036,0.009462490175458584,0.009012921283862224,0.008590020050710861,0.008196457409916983,0.007833203776497032,0.007499677861758033,0.007193969912528031,0.006913133561440162,0.006653524197518583,0.006411151936691676,0.006182015958269446,0.005962393330981915,0.005749066385665806,0.005539484167116963,0.005331862016869364,0.005125227066982342,0.00491941661543766,0.004715032983314594,0.004513355269310667,0.00431620778544136,0.0041257879539374,0.0039444624907036124,0.003774547840238933,0.0036180964985212446,0.003476712844711589,0.003351419306568195,0.003242586499116617,0.0031499311169360784,0.0030725752811643853,0.0030091531447030656,0.0029579464696846223,0.0029170310329154517,0.002884419287646244,0.002858190053958691,0.002836601202482743,0.002818184766367925,0.002801824878299128,0.0027868175131506873,0.0027729081017862714,0.002760299937690985,0.0027496241984341636,0.002741862342765543,0.0027382142184401116,0.0027399106270048486,0.002747977165040815,0.0027629662903748383,0.0027846855639815523,0.0028119599961906705,0.002842472805765145,0.0028727288102677996,0.0028981756957661346,0.002913499612140932,0.0029130843153583703,0.0028915915850688694,0.0028445913292681336,0.0027691500082889643,0.0026642820395742155,0.0025311838204486593,0.0023732025656203544,0.002195536312591507,0.00200470788670102,0.001807894088460123,0.0016122134458819444,0.0014240772174129864,0.0012486897018051807,0.0010897507233945329,0.0009493737454087321,0.0008281962892441637,0.0007256323528434387,0.0006402032516099697,0.0005698840188628211,0.0005124143873809568,0.0004655417778098401,0.00042718359258048515,0.00039551322287623185,0.00036898584626868925,0.0003463254059272296,0.00032649371372069866,0.00030865801265926655,0.0002921666059287135,0.00027653527667266184,0.0002614417232398259,0.0002467220360930495,0.00023236259466614283,0.00021848231992260738,0.0002053032038701208,0.00019311046389714544,0.0001822065850634633,0.00017286521711096982,0.00016529107904110626,0.00015959081291064113,0.0001557575829170857,0.00015366977243617903,0.0001531020028133489,0.00015374530739937828,0.0001552327937197808,0.00015716740395966896,0.00015914915015849548,0.00016080011124438169,0.00016178624785613858,0.00016183556150730987,0.00016075228847309836,0.00015842678344678185,0.00015484067484784175,0.00015006690761171034,0.0001442645033716808,0.00013766823893298768,0.0001305738667933294,0.00012331983803120814,0.00011626663260449858,0.00010977473811863674,0.00010418213684823107,9.97820296939266e-05,9.680161066958694e-05,9.538307703533002e-05,9.556862718096446e-05,9.729170687042122e-05,0.00010037687602721616,0.00010455009655350532,0.00010945989585879911,0.00011470793277232884,0.00011988544194470611,0.00012461046136372916,0.000128560200486108,0.0001314936723776849,0.00013326169883733026,0.0001338041283611404,0.00013313685971608457,0.00013133328650333147,0.00012850552114797732,0.00012479004044247362,0.000120340456676433,0.00011532753279146129,0.00010994406096855842,0.00010441049259425388,9.897668871133682e-05,9.39159599087498e-05,8.9509447722403e-05,8.602137614749032e-05,8.366816926440113e-05,8.258632561339069e-05,8.280485841107238e-05,8.422787666022342e-05,8.663155446750272e-05,8.96775699481533e-05,9.294247867838728e-05,9.595986815515502e-05,9.826996078655182e-05,9.946996790769114e-05,9.92581986982272e-05,9.746577980602904e-05,9.407172997665821e-05,8.919974769348099e-05,8.309794285658825e-05,7.610534124621319e-05,6.861082339479634e-05,6.101089630474595e-05,5.367224375547541e-05,4.690352356234759e-05,4.093875514361714e-05,3.593235826087533e-05,3.196394401146253e-05,2.90496802731798e-05,2.7156620204507457e-05,2.6216748287122082e-05,2.6138445621178046e-05,2.6814290569109665e-05,2.8125272695484892e-05,2.9942361252217612e-05,3.212680978369691e-05,3.453060024258086e-05,3.699813673117815e-05,3.9369840183217583e-05,4.148781133914609e-05,4.320331252790292e-05,4.438550190678197e-05,4.493062592487249e-05,4.4770713139393905e-05,4.388070862737301e-05,4.228296779650877e-05,4.0048138900049144e-05,3.729174900271106e-05,3.416627794377257e-05,3.0849113362837816e-05,2.7527427271328608e-05,2.438157031202167e-05,2.1568919368941156e-05,1.9210155916285444e-05,1.737967976364947e-05,1.61013252006231e-05,1.534984194794859e-05,1.5057850539153783e-05,1.512729375269153e-05,1.5443872040680014e-05,1.589263076517759e-05,1.6372789501788417e-05,1.6810069324015197e-05,1.7165154885133682e-05,1.743746666194729e-05,1.766403037236696e-05,1.791381545863744e-05,1.8278379284625768e-05,1.8859938380983984e-05,1.9758087189187595e-05,2.1056350271017018e-05,2.2809673469345227e-05,2.5033913792527068e-05,2.7698403948834172e-05,3.0722690954501603e-05,3.397845337047769e-05,3.729724490939568e-05,4.048401129245675e-05,4.333533264559583e-05,4.566026260822761e-05,4.730078684892337e-05,4.814863151516694e-05,4.815561286005042e-05,4.733590239231433e-05,4.576021007835867e-05,4.354351509912462e-05,4.082913484956043e-05,3.7772300644394895e-05,3.452594523321138e-05,3.1230319608142446e-05,2.8006748023595995e-05,2.4954737158838794e-05,2.2151091956914585e-05,1.964974990064828e-05,1.7481590558586978e-05,1.565421689029559e-05,1.4152315716933868e-05,1.2939450771443146e-05,1.1961947418039972e-05,1.1154986830791845e-05,1.0450350047272645e-05,9.784682624083156e-06,9.106880192985372e-06,8.383306044801302e-06,7.600001259565986e-06,6.761694589723397e-06,5.888076924954287e-06,5.008302728497619e-06,4.1549105519792206e-06,3.3582943563328416e-06,2.6425638992534318e-06,2.023213655982425e-06,1.5065957474724166e-06,1.090860806706172e-06,7.678453643421542e-07,5.25350704236566e-07,3.493438115527424e-07,2.2576395249987792e-07,1.417857115918765e-07,8.653094609141031e-08,5.131694572938869e-08,2.9572833888066614e-08,1.656009339329525e-08,9.01089837087151e-09,4.764471677849986e-09,2.4481993290383045e-09,1.223230648146621e-09,5.960831227724987e-10,2.8780510870002564e-10,1.485754800084944e-10,1.0601323289006862e-10,1.3810566348392153e-10,2.6537061181365115e-10,5.611083350325038e-10,1.18328411203876e-09,2.436811789362185e-09,4.88074623459199e-09,9.500604619076878e-09,1.797030222711726e-08,3.302838933974689e-08,5.898554549683541e-08,1.0235999983391693e-07,1.7260061379344016e-07,2.828024604917168e-07,4.502511806432327e-07,6.9656284326141e-07,1.0471375738648189e-06,1.529647145016653e-06,2.1713588555738017e-06,2.9952795216012855e-06,4.015379625853559e-06,5.231489632279613e-06,6.624772783515068e-06,8.154870925506403e-06,9.75979226648678e-06,1.13592984758421e-05,1.2861958555938652e-05,1.4175261529263233e-05,1.5217391326622457e-05,1.5928677875282952e-05,1.628054046849012e-05,1.6280040657955105e-05,1.596894014187113e-05,1.5417255337044123e-05,1.4712454564000787e-05,1.3946365730192931e-05,1.3202314397950858e-05,1.2544878103175414e-05,1.2013961630536304e-05,1.162385166667768e-05,1.1366770855253255e-05,1.1219508833531901e-05,1.1151186936541146e-05,1.1130219115057038e-05,1.1129025480366218e-05,1.1125870046107563e-05,1.1104086340666146e-05,1.1049672156311259e-05,1.0948590136741958e-05,1.0785031352081744e-05,1.0541442538937471e-05,1.0200449706319401e-05,9.748148619357347e-06,9.177776262044114e-06,8.492649228977464e-06,7.707468109624635e-06,6.847550065573859e-06,5.946107575787008e-06,5.040171740104676e-06,4.166037717941717e-06,3.355136811487021e-06,2.63104264622439e-06,2.0079842633081174e-06,1.49087563379348e-06,1.0765746597651199e-06,7.559127792468116e-07,5.160009138895692e-07,3.423929150717831e-07,2.2082712884924506e-07,1.3842087649052524e-07,8.432342658850706e-08,4.991996372677447e-08,2.8718779902553435e-08,1.6055104408254707e-08,8.721836954172781e-09,4.604098900903943e-09,2.361667688454434e-09,1.1771372217921205e-09,5.701210469714745e-10,2.6831000209524723e-10,1.2269731301449284e-10,5.452059467456292e-11,2.3540336301569007e-11,9.876218499467535e-12,4.026189516401919e-12,1.5948612135492132e-12,6.138701028470139e-13,2.2959095829708e-13,8.343680139428155e-14,2.9463543253488374e-14,1.0109663410497899e-14,3.3706447032708372e-15,1.0919848105279875e-15,3.4378241636217976e-16,1.0528708101964069e-16,3.179195640386785e-17,1.1020908943335667e-17,9.68234611712749e-18,2.5579043060569922e-17,8.436764986913998e-17,2.7673641311240356e-16,8.836527481216401e-16,2.742103800929385e-15,8.268280447804137e-15,2.422540364926365e-14,6.896853569485522e-14,1.9078978596947074e-13,5.128417414555259e-13,1.339478482685695e-12,3.399478091172639e-12,8.38325895428252e-12,2.0088043778923984e-11,4.677206458458719e-11,1.0581800391789347e-10,2.3262517837923524e-10,4.969103047767443e-10,1.031391188724245e-09,2.080141892401863e-09,4.0764923702758075e-09,7.762550472721187e-09,1.4363040002010048e-08,2.5823341157394023e-08,4.511309525042048e-08,7.658027964284384e-08,1.263151377871484e-07,2.024500937465322e-07,3.15286005353051e-07,4.771067223840665e-07,7.015368804987057e-07,1.002327413873227e-06,1.391530852168037e-06,1.8771552855057673e-06,2.4605471487674694e-06,3.133915713135639e-06,3.878529171798481e-06,4.66413317620982e-06,5.450030747385648e-06,6.18801121648529e-06,6.82696005615988e-06,7.318595786064373e-06,7.623462889104537e-06,7.716155115437725e-06,7.588811027630259e-06,7.2522147713733485e-06,6.7342883095948135e-06,6.076267485419936e-06,5.3272881962909336e-06,4.5383671795613e-06,3.7567924079540423e-06,3.0217525349388124e-06,2.3616999611772505e-06,1.793554919894475e-06,1.3235146917759357e-06,9.490016846168856e-07,6.611946486294499e-07,4.476265175361948e-07,2.9446007107338947e-07,1.8821799752948963e-07,1.1690148133905769e-07,7.055097339141616e-08,4.137234480809829e-08,2.357444031302639e-08,1.3052592390374551e-08,7.022250071562733e-09,3.670962416341748e-09,1.8646946631261577e-09,9.203642338972987e-10,4.414041807573069e-10,2.0570322952669138e-10,9.315270329220128e-11,4.100572075195604e-11,1.7585439645146382e-11,7.455286655953966e-12,3.4129815297944187e-12,2.3950997295364007e-12,3.600033503095227e-12,7.975070723506412e-12,1.8821376527602073e-11,4.3806617201185984e-11,9.929547870380004e-11,2.1877114791413193e-10,4.683782623319297e-10,9.743855623640088e-10,1.9696523246593174e-09,3.8687664176639305e-09,7.383794251910814e-09,1.3693384260974284e-08,2.4675509811672307e-08,4.320615336710424e-08,7.351047032300574e-08,1.2152816201069745e-07,1.9522201353383208e-07,3.047226775364358e-07,4.62173343652911e-07,6.811286387275884e-07,9.75388247304921e-07,1.3572192960623814e-06,1.8350447624639714e-06,2.410834675075273e-06,3.0776010814597085e-06,3.8175202752931e-06,4.601235994732358e-06,5.388796638658289e-06,6.132438625899764e-06,6.7810782525571915e-06,7.285987663484309e-06,7.60680418667477e-06],\"yaxis\":\"y\",\"type\":\"scatter\"},{\"legendgroup\":\"spam\",\"marker\":{\"color\":\"#ffa600\"},\"mode\":\"lines\",\"name\":\"spam\",\"showlegend\":false,\"x\":[7.0,7.432,7.864,8.296,8.728,9.16,9.592,10.024000000000001,10.456,10.888,11.32,11.751999999999999,12.184000000000001,12.616,13.048,13.48,13.911999999999999,14.344000000000001,14.776,15.208,15.64,16.072,16.503999999999998,16.936,17.368000000000002,17.8,18.232,18.664,19.096,19.528,19.96,20.392,20.823999999999998,21.256,21.688000000000002,22.119999999999997,22.552,22.984,23.416,23.848,24.28,24.712,25.144,25.576,26.008,26.44,26.872,27.304,27.736,28.168,28.6,29.032,29.464,29.896,30.328,30.76,31.192,31.624,32.056,32.488,32.92,33.352000000000004,33.784,34.216,34.647999999999996,35.08,35.512,35.944,36.376000000000005,36.808,37.239999999999995,37.672,38.104,38.536,38.968,39.4,39.832,40.264,40.696,41.128,41.56,41.992,42.424,42.856,43.288,43.72,44.152,44.584,45.016,45.448,45.88,46.312,46.744,47.176,47.608,48.04,48.472,48.904,49.336,49.768,50.2,50.632,51.064,51.496,51.928,52.36,52.792,53.224,53.656,54.088,54.52,54.952,55.384,55.816,56.248,56.68,57.112,57.544,57.976,58.408,58.84,59.272,59.704,60.136,60.568,61.0,61.432,61.864,62.296,62.728,63.16,63.592,64.024,64.456,64.888,65.32,65.75200000000001,66.184,66.616,67.048,67.47999999999999,67.912,68.344,68.77600000000001,69.208,69.64,70.072,70.50399999999999,70.936,71.368,71.8,72.232,72.664,73.096,73.528,73.96,74.392,74.824,75.256,75.688,76.12,76.552,76.984,77.416,77.848,78.28,78.712,79.144,79.576,80.008,80.44,80.872,81.304,81.736,82.168,82.6,83.032,83.464,83.896,84.328,84.76,85.192,85.624,86.056,86.488,86.92,87.352,87.784,88.216,88.648,89.08,89.512,89.944,90.376,90.808,91.24,91.672,92.104,92.536,92.968,93.4,93.832,94.264,94.696,95.128,95.56,95.992,96.424,96.856,97.288,97.72,98.152,98.584,99.016,99.448,99.88,100.312,100.744,101.176,101.608,102.04,102.472,102.904,103.336,103.768,104.2,104.632,105.064,105.496,105.928,106.36,106.792,107.224,107.656,108.088,108.52,108.952,109.384,109.816,110.248,110.68,111.112,111.544,111.976,112.408,112.84,113.272,113.704,114.136,114.568,115.0,115.432,115.864,116.296,116.728,117.16,117.592,118.024,118.456,118.888,119.32,119.752,120.184,120.616,121.048,121.48,121.912,122.344,122.776,123.208,123.64,124.072,124.504,124.936,125.368,125.8,126.232,126.664,127.096,127.528,127.96,128.392,128.824,129.256,129.688,130.12,130.55200000000002,130.98399999999998,131.416,131.848,132.28,132.712,133.144,133.576,134.00799999999998,134.44,134.872,135.304,135.736,136.168,136.6,137.032,137.464,137.896,138.328,138.76,139.192,139.624,140.056,140.488,140.92,141.352,141.784,142.216,142.648,143.08,143.512,143.944,144.376,144.808,145.24,145.672,146.104,146.536,146.968,147.4,147.832,148.264,148.696,149.128,149.56,149.992,150.424,150.856,151.288,151.72,152.152,152.584,153.016,153.448,153.88,154.312,154.744,155.176,155.608,156.04,156.472,156.904,157.336,157.768,158.2,158.632,159.064,159.496,159.928,160.36,160.792,161.224,161.656,162.088,162.52,162.952,163.384,163.816,164.248,164.68,165.112,165.544,165.976,166.408,166.84,167.272,167.704,168.136,168.568,169.0,169.432,169.864,170.296,170.728,171.16,171.592,172.024,172.456,172.888,173.32,173.752,174.184,174.616,175.048,175.48,175.912,176.344,176.776,177.208,177.64,178.072,178.504,178.936,179.368,179.8,180.232,180.664,181.096,181.528,181.96,182.392,182.824,183.256,183.688,184.12,184.552,184.984,185.416,185.848,186.28,186.712,187.144,187.576,188.008,188.44,188.872,189.304,189.736,190.168,190.6,191.032,191.464,191.896,192.328,192.76,193.192,193.624,194.056,194.488,194.92,195.352,195.784,196.216,196.648,197.08,197.512,197.944,198.376,198.808,199.24,199.672,200.104,200.536,200.968,201.4,201.832,202.264,202.696,203.128,203.56,203.992,204.424,204.856,205.288,205.72,206.152,206.584,207.016,207.448,207.88,208.312,208.744,209.176,209.608,210.04,210.472,210.904,211.336,211.768,212.2,212.632,213.064,213.496,213.928,214.36,214.792,215.224,215.656,216.088,216.52,216.952,217.384,217.816,218.248,218.68,219.112,219.544,219.976,220.408,220.84,221.272,221.704,222.136,222.568],\"xaxis\":\"x\",\"y\":[0.0002860917306815518,0.0002910002697469307,0.0002954435709316359,0.0002994185764090098,0.0003029270063385482,0.0003059753565719444,0.0003085748372859566,0.0003107412545571069,0.00031249483783700205,0.00031386001712867934,0.0003148651543867072,0.00031554223425427465,0.00031592651970146314,0.00031605617843743784,0.0003159718861374445,0.0003157164125596604,0.00031533419653761204,0.00031487091563491703,0.0003143730559569614,0.0003138874872471377,0.00031346104797258913,0.00031314014464524874,0.00031297036914670803,0.00031299613734681405,0.0003132603518402818,0.0003138040911845792,0.00031466632761416015,0.0003158836748355875,0.0003174901671765066,0.000319517071066706,0.0003219927295665039,0.0003249424404187569,0.0003283883678762116,0.0003323494883348327,0.0003368415695747956,0.00034187718316301875,0.00034746574929467056,0.00035361361303811844,0.00036032415059316145,0.00036759790377406177,0.00037543274048855977,0.00038382403850730087,0.00039276488931442726,0.00040224631831292825,0.00041225751714456086,0.0004227860833937163,0.00043381826249972274,0.00044533918632648056,0.00045733310255624695,0.00046978358890954953,0.00048267374616767374,0.0004959863641073335,0.000509704054764549,0.0005238093479373361,0.0005382847445197579,0.0005531127241322792,0.0005682757045674694,0.000583755951791196,0.0005995354406059537,0.0006155956675663788,0.0006319174193027481,0.0006484805010162469,0.0006652634315153785,0.0006822431127182628,0.0006993944830008844,0.0007166901650763996,0.0007341001201962796,0.0007515913213241635,0.0007691274585057951,0.0007866686899075334,0.0008041714518929961,0.0008215883410324548,0.0008388680800824719,0.0008559555787340278,0.0008727920983171478,0.0008893155276910878,0.0009054607752745576,0.0009211602796239726,0.0009363446382025776,0.0009509433510611495,0.0009648856731407873,0.0009781015658839574,0.0009905227358790836,0.001002083745445257,0.0010127231774650278,0.0010223848344694285,0.0010310189500397921,0.0010385833890776276,0.0010450448124592364,0.0010503797810776233,0.0010545757743094515,0.0010576320985449033,0.0010595606625845386,0.0010603865984263744,0.0010601487082108373,0.0010588997208196248,0.0010567063447828127,0.0010536491076712036,0.0010498219759630396,0.0010453317533929934,0.0010402972599287802,0.0010348482976859537,0.0010291244141926793,0.00102327347736413,0.0010174500802551012,0.0010118137970505836,0.0010065273147566807,0.0010017544676077979,0.000997658203260842,0.0009943985113660156,0.0009921303460618336,0.0009910015743271419,0.0009911509819357659,0.0009927063680119398,0.0009957827579004266,0.0010004807622769156,0.0010068851081736915,0.0010150633649309744,0.001025064885060047,0.001036919976678284,0.0010506393206094128,0.00106621364149682,0.0010836136384158855,0.0011027901765547463,0.0011236747376215917,0.0011461801227884622,0.0011702013982517435,0.0011956170699305658,0.0012222904704852556,0.0012500713387647326,0.0012787975690271233,0.0013082971048604725,0.0013383899506961036,0.0013688902721868282,0.0013996085555429277,0.0014303537952028715,0.001460935678979354,0.0014911667400752887,0.0015208644461121676,0.0015498531965509653,0.0015779662016009554,0.0016050472178834238,0.0016309521187147316,0.0016555502798563937,0.001678725764899281,0.001700378298046211,0.0017204240158649824,0.001738795993527918,0.0017554445450544724,0.0017703373010454918,0.0017834590712557227,0.0017948115030084959,0.0018044125498298514,0.0018122957676908432,0.0018185094588250214,0.0018231156851732924,0.0018261891750513562,0.0018278161476014637,0.0018280930799608266,0.001827125441850632,0.0018250264214756565,0.0018219156652548964,0.0018179180520241235,0.0018131625200216797,0.0018077809622620777,0.0018019072029010002,0.0017956760639910789,0.0017892225287164368,0.001782681003872803,0.0017761846811264741,0.0017698649935313083,0.001763851160994191,0.0017582698159321836,0.00175324469832227,0.0017488964077586094,0.0017453421990374087,0.0017426958072062513,0.0017410672879466832,0.0017405628595944162,0.0017412847340138697,0.0017433309248926596,0.0017467950237543789,0.001751765936042149,0.0017583275719303163,0.0017665584890008545,0.001776531486495647,0.0017883131534452328,0.0018019633755008658,0.0018175348076846921,0.0018350723224542804,0.0018546124443910975,0.001876182784416066,0.0018998014876662791,0.001925476710005934,0.0019532061385698417,0.001982976571743546,0.00201476357357162,0.0020485312167706185,0.002084231927328385,0.0021218064421308263,0.0021611838892121094,0.002202281998120723,0.0022450074455869795,0.0022892563392214746,0.002334914839428441,0.002381859917142094,0.0024299602424454263,0.002479077196666854,0.0025290659982226903,0.0025797769303318027,0.002631056656815992,0.0026827496105528447,0.0027346994377977817,0.0027867504805625027,0.002838749278543865,0.002890546071751003,0.002941996284978579,0.0029929619756197917,0.003043313226987412,0.0030929294703026878,0.00314170071979197,0.003189528706875917,0.0032363279012097247,0.003282026408300536,0.003326566735550327,0.0033699064208054827,0.0034120185197953922,0.0034528919511655027,0.003492531700109038,0.0035309588838309046,0.003568210684190058,0.0036043401548214306,0.0036394159117906326,0.0036735217183472054,0.0037067559755802723,0.0037392311317117496,0.003771073023364296,0.0038024201623951277,0.0038334229817809404,0.0038642430535727277,0.003895052291118186,0.003926032146589987,0.003957372813387597,0.00398927244123496,0.004021936369823423,0.004055576384705631,0.004090409996897182,0.004126659745361613,0.004164552519320623,0.004204318895227382,0.004246192481351558,0.004290409261333138,0.004337206926848051,0.004386824188761675,0.0044395000558906895,0.004495473070794228,0.004554980492903873,0.004618257420792532,0.004685535847462226,0.004757043645173308,0.004833003479484802,0.004913631655753423,0.004999136905246479,0.005089719122144254,0.005185568066904824,0.00528686205558961,0.005393766658645192,0.00550643343614454,0.005624998739450061,0.005749582611521919,0.005880287819520081,0.006017199053819725,0.006160382326985917,0.006309884604568203,0.006465733696751869,0.006627938435941863,0.006796489160301448,0.006971358517198715,0.007152502593544344,0.007339862372280508,0.007533365505980653,0.0077329283898415705,0.007938458507511873,0.008149857014432159,0.008367021514895356,0.008589848981098625,0.008818238755269213,0.009052095569708218,0.00929133251448341,0.009535873878662268,0.009785657788537893,0.01004063856532947,0.010300788725399721,0.010566100548132519,0.010836587140234959,0.011112282930326033,0.011393243534175576,0.011679544938768445,0.011971281962379593,0.012268565957940993,0.012571521738029022,0.01288028371167819,0.013194991235799867,0.013515783197135322,0.013842791854266455,0.014176135983137736,0.014515913383669459,0.014862192819260132,0.015215005475128995,0.015574336035409714,0.015940113492497975,0.016312201815192565,0.01669039061444797,0.01707438595682077,0.01746380148568504,0.017858150018709554,0.01825683579660788,0.018659147562461967,0.0190642526526187,0.019471192278939172,0.019878878177703556,0.020286090792445977,0.020691479146179338,0.021093562542668684,0.021490734216551264,0.021881267028159495,0.022263321271008878,0.022634954628295657,0.0229941342797744,0.023338751122549874,0.02366663602925672,0.023975578025549494,0.024263344226663847,0.024527701330969678,0.02476643842795967,0.024977390840046066,0.02515846468296429,0.025307661799546233,0.025423104697128114,0.02550306110079801,0.025545967723851717,0.0255504528538239,0.025515357357744146,0.025439753724064002,0.02532296278102385,0.025164567761857385,0.02496442542573206,0.02472267398898783,0.024439737673218737,0.02411632773391783,0.02375343989456835,0.023352348174809138,0.022914595166186318,0.02244197887349567,0.021936536302301284,0.02140052403241084,0.02083639607148301,0.020246779331268647,0.019634447110121335,0.019002290998434403,0.018353291647851475,0.01769048885999734,0.017016951455844673,0.016335747382704654,0.015649914502465088,0.014962432482605731,0.014276196181404507,0.013593990881509843,0.012918469682761018,0.012252133316949215,0.011597312595414404,0.010956153646258175,0.010330606042853218,0.009722413870526143,0.009133109725015838,0.008564011585691382,0.00801622245955967,0.007490632649676836,0.0069879244643964045,0.006508579152480969,0.0060528858238340635,0.005620952096656354,0.0052127161992151245,0.004827960247992884,0.00446632442346975,0.004127321769776381,0.003810353354419093,0.0035147235386238807,0.003239655126909978,0.0029843041855887077,0.0027477743432759412,0.0025291304114964885,0.0023274111893598305,0.002141641342455489,0.0019708422719597178,0.0018140419149353416,0.001670283440490903,0.0015386328284647316,0.001418185337316069,0.001308070885722198,0.0012074583878518919,0.0011155590953439674,0.0010316290096564443,0.0009549704367216272,0.0008849327618452964,0.0008209125266672099,0.0007623528919300162,0.0007087425699809208,0.0006596143095681954,0.0006145430128123467,0.0005731435604496282,0.0005350684167788335,0.0005000050803958735,0.0004676734409661744,0.00043782309613660475,0.00041023067638328156,0.0003846972192658124,0.0003610456283298375,0.0003391182458657859,0.00031877456297278023,0.000299889084954864,0.000282349365039368,0.00026605421478805057,0.00025091209539143016,0.00023683969030705024,0.00022376065642553783,0.00021160454811957596,0.00020030590614021455,0.0001898035013568111,0.00018003972177329508,0.00017096009007242413,0.00016251289811770856,0.00015464894435430245,0.00014732135986821198,0.00014048550895985823,0.00013409895043411783,0.00012812144637491216,0.00012251500592782107,0.00011724395252856622,0.00011227500405785815,0.00010757735654350353,0.00010312276323899255,9.888560215477088e-05,9.484292637642872e-05,9.097449274670348e-05,8.726276569156062e-05,8.36928941128558e-05,8.02526603323282e-05,7.693240103809042e-05,7.372490104279665e-05,7.062526140327939e-05,6.763074406902208e-05,6.474059571940685e-05,6.195585381853902e-05,5.92791381660255e-05,5.671443135980492e-05,5.426685162258602e-05,5.1942421388577256e-05,4.974783491513057e-05,4.7690227988965013e-05,4.577695255343313e-05,4.4015358806384484e-05,4.2412587021552874e-05,4.0975371042854624e-05,3.970985510201519e-05,3.862142532508015e-05,3.771455703023522e-05,3.699267868332791e-05,3.6458053171736086e-05,3.6111676882724804e-05,3.5953196928121074e-05,3.5980846740089954e-05,3.6191400168579743e-05,3.658014413394629e-05,3.714086982191479e-05,3.7865882345523974e-05,3.874602873317473e-05,3.977074402696086e-05,4.0928115185498406e-05,4.220496237599569e-05,4.3586937108336336e-05,4.505863650795706e-05,4.6603732844741645e-05,4.8205117233997104e-05,4.984505620678733e-05,5.150535961588965e-05,5.31675581072566e-05,5.4813088153192176e-05,5.642348242121031e-05,5.798056305097463e-05,5.9466635240116954e-05,6.086467840683323e-05,6.215853211112735e-05,6.333307388419116e-05,6.437438614206471e-05,6.526990944901791e-05,6.600857954951594e-05,6.658094580470032e-05,6.697926894724746e-05,6.719759640237023e-05],\"yaxis\":\"y\",\"type\":\"scatter\"}],                        {\"barmode\":\"overlay\",\"hovermode\":\"closest\",\"legend\":{\"traceorder\":\"reversed\"},\"xaxis\":{\"anchor\":\"y2\",\"domain\":[0.0,1.0],\"zeroline\":false,\"range\":[0,300]},\"yaxis\":{\"anchor\":\"free\",\"domain\":[0.0,1],\"position\":0.0},\"template\":{\"data\":{\"bar\":[{\"error_x\":{\"color\":\"#2a3f5f\"},\"error_y\":{\"color\":\"#2a3f5f\"},\"marker\":{\"line\":{\"color\":\"#E5ECF6\",\"width\":0.5},\"pattern\":{\"fillmode\":\"overlay\",\"size\":10,\"solidity\":0.2}},\"type\":\"bar\"}],\"barpolar\":[{\"marker\":{\"line\":{\"color\":\"#E5ECF6\",\"width\":0.5},\"pattern\":{\"fillmode\":\"overlay\",\"size\":10,\"solidity\":0.2}},\"type\":\"barpolar\"}],\"carpet\":[{\"aaxis\":{\"endlinecolor\":\"#2a3f5f\",\"gridcolor\":\"white\",\"linecolor\":\"white\",\"minorgridcolor\":\"white\",\"startlinecolor\":\"#2a3f5f\"},\"baxis\":{\"endlinecolor\":\"#2a3f5f\",\"gridcolor\":\"white\",\"linecolor\":\"white\",\"minorgridcolor\":\"white\",\"startlinecolor\":\"#2a3f5f\"},\"type\":\"carpet\"}],\"choropleth\":[{\"colorbar\":{\"outlinewidth\":0,\"ticks\":\"\"},\"type\":\"choropleth\"}],\"contour\":[{\"colorbar\":{\"outlinewidth\":0,\"ticks\":\"\"},\"colorscale\":[[0.0,\"#0d0887\"],[0.1111111111111111,\"#46039f\"],[0.2222222222222222,\"#7201a8\"],[0.3333333333333333,\"#9c179e\"],[0.4444444444444444,\"#bd3786\"],[0.5555555555555556,\"#d8576b\"],[0.6666666666666666,\"#ed7953\"],[0.7777777777777778,\"#fb9f3a\"],[0.8888888888888888,\"#fdca26\"],[1.0,\"#f0f921\"]],\"type\":\"contour\"}],\"contourcarpet\":[{\"colorbar\":{\"outlinewidth\":0,\"ticks\":\"\"},\"type\":\"contourcarpet\"}],\"heatmap\":[{\"colorbar\":{\"outlinewidth\":0,\"ticks\":\"\"},\"colorscale\":[[0.0,\"#0d0887\"],[0.1111111111111111,\"#46039f\"],[0.2222222222222222,\"#7201a8\"],[0.3333333333333333,\"#9c179e\"],[0.4444444444444444,\"#bd3786\"],[0.5555555555555556,\"#d8576b\"],[0.6666666666666666,\"#ed7953\"],[0.7777777777777778,\"#fb9f3a\"],[0.8888888888888888,\"#fdca26\"],[1.0,\"#f0f921\"]],\"type\":\"heatmap\"}],\"heatmapgl\":[{\"colorbar\":{\"outlinewidth\":0,\"ticks\":\"\"},\"colorscale\":[[0.0,\"#0d0887\"],[0.1111111111111111,\"#46039f\"],[0.2222222222222222,\"#7201a8\"],[0.3333333333333333,\"#9c179e\"],[0.4444444444444444,\"#bd3786\"],[0.5555555555555556,\"#d8576b\"],[0.6666666666666666,\"#ed7953\"],[0.7777777777777778,\"#fb9f3a\"],[0.8888888888888888,\"#fdca26\"],[1.0,\"#f0f921\"]],\"type\":\"heatmapgl\"}],\"histogram\":[{\"marker\":{\"pattern\":{\"fillmode\":\"overlay\",\"size\":10,\"solidity\":0.2}},\"type\":\"histogram\"}],\"histogram2d\":[{\"colorbar\":{\"outlinewidth\":0,\"ticks\":\"\"},\"colorscale\":[[0.0,\"#0d0887\"],[0.1111111111111111,\"#46039f\"],[0.2222222222222222,\"#7201a8\"],[0.3333333333333333,\"#9c179e\"],[0.4444444444444444,\"#bd3786\"],[0.5555555555555556,\"#d8576b\"],[0.6666666666666666,\"#ed7953\"],[0.7777777777777778,\"#fb9f3a\"],[0.8888888888888888,\"#fdca26\"],[1.0,\"#f0f921\"]],\"type\":\"histogram2d\"}],\"histogram2dcontour\":[{\"colorbar\":{\"outlinewidth\":0,\"ticks\":\"\"},\"colorscale\":[[0.0,\"#0d0887\"],[0.1111111111111111,\"#46039f\"],[0.2222222222222222,\"#7201a8\"],[0.3333333333333333,\"#9c179e\"],[0.4444444444444444,\"#bd3786\"],[0.5555555555555556,\"#d8576b\"],[0.6666666666666666,\"#ed7953\"],[0.7777777777777778,\"#fb9f3a\"],[0.8888888888888888,\"#fdca26\"],[1.0,\"#f0f921\"]],\"type\":\"histogram2dcontour\"}],\"mesh3d\":[{\"colorbar\":{\"outlinewidth\":0,\"ticks\":\"\"},\"type\":\"mesh3d\"}],\"parcoords\":[{\"line\":{\"colorbar\":{\"outlinewidth\":0,\"ticks\":\"\"}},\"type\":\"parcoords\"}],\"pie\":[{\"automargin\":true,\"type\":\"pie\"}],\"scatter\":[{\"marker\":{\"colorbar\":{\"outlinewidth\":0,\"ticks\":\"\"}},\"type\":\"scatter\"}],\"scatter3d\":[{\"line\":{\"colorbar\":{\"outlinewidth\":0,\"ticks\":\"\"}},\"marker\":{\"colorbar\":{\"outlinewidth\":0,\"ticks\":\"\"}},\"type\":\"scatter3d\"}],\"scattercarpet\":[{\"marker\":{\"colorbar\":{\"outlinewidth\":0,\"ticks\":\"\"}},\"type\":\"scattercarpet\"}],\"scattergeo\":[{\"marker\":{\"colorbar\":{\"outlinewidth\":0,\"ticks\":\"\"}},\"type\":\"scattergeo\"}],\"scattergl\":[{\"marker\":{\"colorbar\":{\"outlinewidth\":0,\"ticks\":\"\"}},\"type\":\"scattergl\"}],\"scattermapbox\":[{\"marker\":{\"colorbar\":{\"outlinewidth\":0,\"ticks\":\"\"}},\"type\":\"scattermapbox\"}],\"scatterpolar\":[{\"marker\":{\"colorbar\":{\"outlinewidth\":0,\"ticks\":\"\"}},\"type\":\"scatterpolar\"}],\"scatterpolargl\":[{\"marker\":{\"colorbar\":{\"outlinewidth\":0,\"ticks\":\"\"}},\"type\":\"scatterpolargl\"}],\"scatterternary\":[{\"marker\":{\"colorbar\":{\"outlinewidth\":0,\"ticks\":\"\"}},\"type\":\"scatterternary\"}],\"surface\":[{\"colorbar\":{\"outlinewidth\":0,\"ticks\":\"\"},\"colorscale\":[[0.0,\"#0d0887\"],[0.1111111111111111,\"#46039f\"],[0.2222222222222222,\"#7201a8\"],[0.3333333333333333,\"#9c179e\"],[0.4444444444444444,\"#bd3786\"],[0.5555555555555556,\"#d8576b\"],[0.6666666666666666,\"#ed7953\"],[0.7777777777777778,\"#fb9f3a\"],[0.8888888888888888,\"#fdca26\"],[1.0,\"#f0f921\"]],\"type\":\"surface\"}],\"table\":[{\"cells\":{\"fill\":{\"color\":\"#EBF0F8\"},\"line\":{\"color\":\"white\"}},\"header\":{\"fill\":{\"color\":\"#C8D4E3\"},\"line\":{\"color\":\"white\"}},\"type\":\"table\"}]},\"layout\":{\"annotationdefaults\":{\"arrowcolor\":\"#2a3f5f\",\"arrowhead\":0,\"arrowwidth\":1},\"autotypenumbers\":\"strict\",\"coloraxis\":{\"colorbar\":{\"outlinewidth\":0,\"ticks\":\"\"}},\"colorscale\":{\"diverging\":[[0,\"#8e0152\"],[0.1,\"#c51b7d\"],[0.2,\"#de77ae\"],[0.3,\"#f1b6da\"],[0.4,\"#fde0ef\"],[0.5,\"#f7f7f7\"],[0.6,\"#e6f5d0\"],[0.7,\"#b8e186\"],[0.8,\"#7fbc41\"],[0.9,\"#4d9221\"],[1,\"#276419\"]],\"sequential\":[[0.0,\"#0d0887\"],[0.1111111111111111,\"#46039f\"],[0.2222222222222222,\"#7201a8\"],[0.3333333333333333,\"#9c179e\"],[0.4444444444444444,\"#bd3786\"],[0.5555555555555556,\"#d8576b\"],[0.6666666666666666,\"#ed7953\"],[0.7777777777777778,\"#fb9f3a\"],[0.8888888888888888,\"#fdca26\"],[1.0,\"#f0f921\"]],\"sequentialminus\":[[0.0,\"#0d0887\"],[0.1111111111111111,\"#46039f\"],[0.2222222222222222,\"#7201a8\"],[0.3333333333333333,\"#9c179e\"],[0.4444444444444444,\"#bd3786\"],[0.5555555555555556,\"#d8576b\"],[0.6666666666666666,\"#ed7953\"],[0.7777777777777778,\"#fb9f3a\"],[0.8888888888888888,\"#fdca26\"],[1.0,\"#f0f921\"]]},\"colorway\":[\"#636efa\",\"#EF553B\",\"#00cc96\",\"#ab63fa\",\"#FFA15A\",\"#19d3f3\",\"#FF6692\",\"#B6E880\",\"#FF97FF\",\"#FECB52\"],\"font\":{\"color\":\"#2a3f5f\"},\"geo\":{\"bgcolor\":\"white\",\"lakecolor\":\"white\",\"landcolor\":\"#E5ECF6\",\"showlakes\":true,\"showland\":true,\"subunitcolor\":\"white\"},\"hoverlabel\":{\"align\":\"left\"},\"hovermode\":\"closest\",\"mapbox\":{\"style\":\"light\"},\"paper_bgcolor\":\"white\",\"plot_bgcolor\":\"#E5ECF6\",\"polar\":{\"angularaxis\":{\"gridcolor\":\"white\",\"linecolor\":\"white\",\"ticks\":\"\"},\"bgcolor\":\"#E5ECF6\",\"radialaxis\":{\"gridcolor\":\"white\",\"linecolor\":\"white\",\"ticks\":\"\"}},\"scene\":{\"xaxis\":{\"backgroundcolor\":\"#E5ECF6\",\"gridcolor\":\"white\",\"gridwidth\":2,\"linecolor\":\"white\",\"showbackground\":true,\"ticks\":\"\",\"zerolinecolor\":\"white\"},\"yaxis\":{\"backgroundcolor\":\"#E5ECF6\",\"gridcolor\":\"white\",\"gridwidth\":2,\"linecolor\":\"white\",\"showbackground\":true,\"ticks\":\"\",\"zerolinecolor\":\"white\"},\"zaxis\":{\"backgroundcolor\":\"#E5ECF6\",\"gridcolor\":\"white\",\"gridwidth\":2,\"linecolor\":\"white\",\"showbackground\":true,\"ticks\":\"\",\"zerolinecolor\":\"white\"}},\"shapedefaults\":{\"line\":{\"color\":\"#2a3f5f\"}},\"ternary\":{\"aaxis\":{\"gridcolor\":\"white\",\"linecolor\":\"white\",\"ticks\":\"\"},\"baxis\":{\"gridcolor\":\"white\",\"linecolor\":\"white\",\"ticks\":\"\"},\"bgcolor\":\"#E5ECF6\",\"caxis\":{\"gridcolor\":\"white\",\"linecolor\":\"white\",\"ticks\":\"\"}},\"title\":{\"x\":0.05},\"xaxis\":{\"automargin\":true,\"gridcolor\":\"white\",\"linecolor\":\"white\",\"ticks\":\"\",\"title\":{\"standoff\":15},\"zerolinecolor\":\"white\",\"zerolinewidth\":2},\"yaxis\":{\"automargin\":true,\"gridcolor\":\"white\",\"linecolor\":\"white\",\"ticks\":\"\",\"title\":{\"standoff\":15},\"zerolinecolor\":\"white\",\"zerolinewidth\":2}}},\"title\":{\"text\":\"Distplot with Normal Distribution\"}},                        {\"responsive\": true}                    ).then(function(){\n",
              "                            \n",
              "var gd = document.getElementById('73600984-6da5-4090-91df-b955d07f762d');\n",
              "var x = new MutationObserver(function (mutations, observer) {{\n",
              "        var display = window.getComputedStyle(gd).display;\n",
              "        if (!display || display === 'none') {{\n",
              "            console.log([gd, 'removed!']);\n",
              "            Plotly.purge(gd);\n",
              "            observer.disconnect();\n",
              "        }}\n",
              "}});\n",
              "\n",
              "// Listen for the removal of the full notebook cells\n",
              "var notebookContainer = gd.closest('#notebook-container');\n",
              "if (notebookContainer) {{\n",
              "    x.observe(notebookContainer, {childList: true});\n",
              "}}\n",
              "\n",
              "// Listen for the clearing of the current output cell\n",
              "var outputEl = gd.closest('.output');\n",
              "if (outputEl) {{\n",
              "    x.observe(outputEl, {childList: true});\n",
              "}}\n",
              "\n",
              "                        })                };                            </script>        </div>\n",
              "</body>\n",
              "</html>"
            ]
          },
          "metadata": {}
        }
      ]
    },
    {
      "cell_type": "code",
      "source": [
        "\n",
        "mean_spam=data.length[data['Category']=='spam'].mean()\n",
        "mean_ham=data.length[data['Category']=='ham'].mean()\n",
        "\n",
        "sd_spam=data.length[data['Category']=='spam'].std()\n",
        "sd_ham=data.length[data['Category']=='ham'].std()\n",
        "\n",
        "print('the average length for spam is :',round(mean_spam,2),'with standard deviation :',sd_spam)\n",
        "print('the average length for ham is :',round(mean_ham,2),'with standard deviation :',sd_ham)"
      ],
      "metadata": {
        "colab": {
          "base_uri": "https://localhost:8080/"
        },
        "id": "EXHOs0C2r2bs",
        "outputId": "3bc078f8-575d-4251-d8de-0ffc7726e139"
      },
      "execution_count": 131,
      "outputs": [
        {
          "output_type": "stream",
          "name": "stdout",
          "text": [
            "the average length for spam is : 137.99 with standard deviation : 29.9802865150208\n",
            "the average length for ham is : 71.45 with standard deviation : 58.4348642857575\n"
          ]
        }
      ]
    },
    {
      "cell_type": "markdown",
      "source": [
        "From the above  distributions plot we can observe that *length* is a powerful feature since is able to provide an useful information "
      ],
      "metadata": {
        "id": "ClqOa-ykY-Ic"
      }
    },
    {
      "cell_type": "markdown",
      "source": [
        "#Feature Engineering\n",
        "\n",
        "## Preprocess the data\n",
        "\n",
        "In this phase first I will perform the following steps:\n",
        "- convert tha label feature in numerical feature \n",
        "- convert web addresses into abbreviation 'wb'\n",
        "- convert  phone numbers into abbreviation 'pn'\n",
        "- convert  numbers into abbreviation 'p'\n",
        "-  encode  money symbols into abbreviation 'ms'\n",
        "- remove punctuation and white spaces\n",
        "- convert all text to lowercase"
      ],
      "metadata": {
        "id": "AjvnR5PE0-SJ"
      }
    },
    {
      "cell_type": "code",
      "source": [
        "data['class_label'] = data['Category'].map( {'spam': 1, 'ham': 0})"
      ],
      "metadata": {
        "id": "vj1-NEYC30Ce"
      },
      "execution_count": 132,
      "outputs": []
    },
    {
      "cell_type": "code",
      "source": [
        "# Replace email address with 'emailaddress'\n",
        "\n",
        "data['Message'] = data['Message'].str.replace(r\"[\\w.+-]+@[\\w-]+\\.[\\w.-]+\", '  em  ')\n",
        "\n",
        "# Replace urls with 'webaddress'\n",
        "data['Message'] = data['Message'].str.replace(r'(http|ftp|https):\\/\\/([\\w_-]+(?:(?:\\.[\\w_-]+)+))([\\w.,@?^=%&:\\/~+#-]*[\\w@?^=%&\\/~+#-])', '  wb ')\n",
        "\n",
        "# Replace money symbol with 'money-symbol'\n",
        "data['Message'] = data['Message'].str.replace(r'£|\\$', '  ms  ')\n",
        "\n",
        "# Replace 10 digit phone number with 'phone-number'\n",
        "data['Message'] = data['Message'].str.replace(r'(\\d{3}\\d{3}\\d{4})', '  pn  ' )\n",
        "\n",
        "# Replace normal number with 'number'\n",
        "data['Message'] = data['Message'].str.replace(r'\\d+(\\.\\d+)?', '  n  ')\n",
        "\n",
        "# remove punctuation\n",
        "data['Message'] = data['Message'].str.replace(r'[^\\w\\d\\s]', ' ')\n",
        "\n",
        "# remove whitespace between terms with single space\n",
        "data['Message'] = data['Message'].str.replace(r'\\s+', ' ')\n",
        "\n",
        "# remove leading and trailing whitespace\n",
        "data['Message'] = data['Message'].str.replace(r'^\\s+|\\s*?$', ' ')\n",
        "\n",
        "# change words to lower case\n",
        "data['Message'] = data['Message'].str.lower()"
      ],
      "metadata": {
        "id": "EG4nwPzo4Kxg"
      },
      "execution_count": 133,
      "outputs": []
    },
    {
      "cell_type": "markdown",
      "source": [
        "## Removing StopWords"
      ],
      "metadata": {
        "id": "uFaL5ptka_bD"
      }
    },
    {
      "cell_type": "markdown",
      "source": [
        "Going forward, I'll remove stopwords from the message content. Stop words are words that search engines have been programmed to ignore, such as “the”, “a”, “an”, “in”, \"but\", \"because\" etc.,we can resume stopwords as words that don't have a meaning when they are used alone"
      ],
      "metadata": {
        "id": "l1OUWM36CS9Y"
      }
    },
    {
      "cell_type": "code",
      "source": [
        "data['Message'].iloc[0:10]"
      ],
      "metadata": {
        "colab": {
          "base_uri": "https://localhost:8080/"
        },
        "id": "bWjWDQ4rTo6h",
        "outputId": "06afdc04-0d5d-4196-aca8-e21651997825"
      },
      "execution_count": 134,
      "outputs": [
        {
          "output_type": "execute_result",
          "data": {
            "text/plain": [
              "0    go until jurong point crazy available only in ...\n",
              "1                            ok lar joking wif u oni  \n",
              "2    free entry in n a wkly comp to win fa cup fina...\n",
              "3        u dun say so early hor u c already then say  \n",
              "4    nah i don t think he goes to usf he lives arou...\n",
              "5    freemsg hey there darling it s been n week s n...\n",
              "6    even my brother is not like to speak with me t...\n",
              "7    as per your request melle melle oru minnaminun...\n",
              "8    winner as a valued network customer you have b...\n",
              "9    had your mobile n months or more u r entitled ...\n",
              "Name: Message, dtype: object"
            ]
          },
          "metadata": {},
          "execution_count": 134
        }
      ]
    },
    {
      "cell_type": "code",
      "source": [
        "!pip install nltk"
      ],
      "metadata": {
        "colab": {
          "base_uri": "https://localhost:8080/"
        },
        "id": "6HcBqydSCh1_",
        "outputId": "4f464c43-33bd-4081-a09d-55821251b411"
      },
      "execution_count": 135,
      "outputs": [
        {
          "output_type": "stream",
          "name": "stdout",
          "text": [
            "Looking in indexes: https://pypi.org/simple, https://us-python.pkg.dev/colab-wheels/public/simple/\n",
            "Requirement already satisfied: nltk in /usr/local/lib/python3.7/dist-packages (3.7)\n",
            "Requirement already satisfied: regex>=2021.8.3 in /usr/local/lib/python3.7/dist-packages (from nltk) (2022.6.2)\n",
            "Requirement already satisfied: joblib in /usr/local/lib/python3.7/dist-packages (from nltk) (1.1.0)\n",
            "Requirement already satisfied: click in /usr/local/lib/python3.7/dist-packages (from nltk) (7.1.2)\n",
            "Requirement already satisfied: tqdm in /usr/local/lib/python3.7/dist-packages (from nltk) (4.64.1)\n"
          ]
        }
      ]
    },
    {
      "cell_type": "code",
      "source": [
        "import nltk\n",
        "nltk.download('stopwords')"
      ],
      "metadata": {
        "colab": {
          "base_uri": "https://localhost:8080/"
        },
        "id": "_Cs5ykFoCymB",
        "outputId": "eb276a0e-ac9d-4fa4-90d3-d43517bcbbb7"
      },
      "execution_count": 136,
      "outputs": [
        {
          "output_type": "stream",
          "name": "stderr",
          "text": [
            "[nltk_data] Downloading package stopwords to /root/nltk_data...\n",
            "[nltk_data]   Package stopwords is already up-to-date!\n"
          ]
        },
        {
          "output_type": "execute_result",
          "data": {
            "text/plain": [
              "True"
            ]
          },
          "metadata": {},
          "execution_count": 136
        }
      ]
    },
    {
      "cell_type": "code",
      "source": [
        "from nltk.corpus import stopwords\n",
        "stop_words = set(stopwords.words('english'))\n",
        "data['Message'] = data['Message'].apply(lambda x: ' '.join(term for term in x.split() if term not in stop_words))"
      ],
      "metadata": {
        "id": "ijh7sRZZCZ9R"
      },
      "execution_count": 137,
      "outputs": []
    },
    {
      "cell_type": "markdown",
      "source": [
        "## Stemming"
      ],
      "metadata": {
        "id": "rLecahPWbCqT"
      }
    },
    {
      "cell_type": "markdown",
      "source": [
        "Next, I will extract the base form of words by removing affixes from them. This called stemming,there are numerous stemming algorithms,i'll use Snowball Stemmer\n",
        "\n",
        "\n",
        "<a href=\"https://ibb.co/RpqbT1p\"><img src=\"https://i.ibb.co/nsFmMTs/stopword.png\" alt=\"stopword\" border=\"0\"></a>"
      ],
      "metadata": {
        "id": "9mvgZnwLDAXU"
      }
    },
    {
      "cell_type": "code",
      "source": [
        "ss = nltk.SnowballStemmer(\"english\")\n",
        "data['Message'] = data['Message'].apply(lambda x: ' '.join(ss.stem(term) for term in x.split()))"
      ],
      "metadata": {
        "id": "LKxbXTw5DMpY"
      },
      "execution_count": 138,
      "outputs": []
    },
    {
      "cell_type": "markdown",
      "source": [
        "\n",
        "## Count Vectors\n",
        "\n",
        "Machine learning algorithms cannot work with raw text directly. The text must be converted into numbers.\n",
        "First, we create a Bag of Words (BOW) model to extract features from text:\n",
        "\n",
        "This algorithm is very similar to the one-hot encoding, but it has the advantage of identifying the frequency/counts of the words in the documents they appear.\n",
        "\n",
        "- Step 1:Convert each document into a sequence of words containing that document.\n",
        "\n",
        "- Step 2: From the set of all the words in the corpus, count how often the word occurs in the document.\n",
        "\n",
        "<a href=\"https://ibb.co/xJmcBt6\"><img src=\"https://i.ibb.co/dGb3VwD/bag-of-words.png\" alt=\"bag-of-words\" border=\"0\"></a>"
      ],
      "metadata": {
        "id": "wgFbRDcLDbzw"
      }
    },
    {
      "cell_type": "code",
      "source": [
        "import nltk\n",
        "nltk.download('punkt')"
      ],
      "metadata": {
        "colab": {
          "base_uri": "https://localhost:8080/"
        },
        "id": "G62hdNxcD7k8",
        "outputId": "d5618b3b-8413-4e57-f9e3-ba1c4582908c"
      },
      "execution_count": 139,
      "outputs": [
        {
          "output_type": "stream",
          "name": "stderr",
          "text": [
            "[nltk_data] Downloading package punkt to /root/nltk_data...\n",
            "[nltk_data]   Package punkt is already up-to-date!\n"
          ]
        },
        {
          "output_type": "execute_result",
          "data": {
            "text/plain": [
              "True"
            ]
          },
          "metadata": {},
          "execution_count": 139
        }
      ]
    },
    {
      "cell_type": "code",
      "source": [
        "from sklearn.feature_extraction.text import CountVectorizer\n",
        "\n",
        "sms_df = data['Message']\n",
        "vectorizer = CountVectorizer()\n",
        "X = vectorizer.fit_transform(sms_df)\n",
        "#print(vectorizer.get_feature_names())\n"
      ],
      "metadata": {
        "id": "8JwSqvz_FQ42"
      },
      "execution_count": 140,
      "outputs": []
    },
    {
      "cell_type": "code",
      "source": [
        "\n",
        "print(len(X.toarray()[0]))\n",
        "count_words=pd.DataFrame(X.toarray(),columns=vectorizer.get_feature_names())\n",
        "count_words['label']=data['class_label']\n",
        "count_words.head()\n"
      ],
      "metadata": {
        "colab": {
          "base_uri": "https://localhost:8080/",
          "height": 335
        },
        "id": "CfCYs_9HLWOk",
        "outputId": "8295f32e-c41e-4f31-f3cf-2359185b23e5"
      },
      "execution_count": 141,
      "outputs": [
        {
          "output_type": "stream",
          "name": "stdout",
          "text": [
            "6279\n"
          ]
        },
        {
          "output_type": "execute_result",
          "data": {
            "text/plain": [
              "   ____  aa  aah  aaniy  aaooooright  aathi  ab  abbey  abdomen  abeg  abel  \\\n",
              "0     0   0    0      0            0      0   0      0        0     0     0   \n",
              "1     0   0    0      0            0      0   0      0        0     0     0   \n",
              "2     0   0    0      0            0      0   0      0        0     0     0   \n",
              "3     0   0    0      0            0      0   0      0        0     0     0   \n",
              "4     0   0    0      0            0      0   0      0        0     0     0   \n",
              "\n",
              "   aberdeen  abi  abil  abiola  abj  abl  abnorm  abouta  abroad  absenc  \\\n",
              "0         0    0     0       0    0    0       0       0       0       0   \n",
              "1         0    0     0       0    0    0       0       0       0       0   \n",
              "2         0    0     0       0    0    0       0       0       0       0   \n",
              "3         0    0     0       0    0    0       0       0       0       0   \n",
              "4         0    0     0       0    0    0       0       0       0       0   \n",
              "\n",
              "   absolut  abstract  abt  abta  aburo  abus  ac  academ  acc  accent  \\\n",
              "0        0         0    0     0      0     0   0       0    0       0   \n",
              "1        0         0    0     0      0     0   0       0    0       0   \n",
              "2        0         0    0     0      0     0   0       0    0       0   \n",
              "3        0         0    0     0      0     0   0       0    0       0   \n",
              "4        0         0    0     0      0     0   0       0    0       0   \n",
              "\n",
              "   accentur  accept  access  accid  accident  accommod  accommodationvouch  \\\n",
              "0         0       0       0      0         0         0                   0   \n",
              "1         0       0       0      0         0         0                   0   \n",
              "2         0       0       0      0         0         0                   0   \n",
              "3         0       0       0      0         0         0                   0   \n",
              "4         0       0       0      0         0         0                   0   \n",
              "\n",
              "   accomod  accord  accordin  account  accumul  ach  achan  achiev  acid  \\\n",
              "0        0       0         0        0        0    0      0       0     0   \n",
              "1        0       0         0        0        0    0      0       0     0   \n",
              "2        0       0         0        0        0    0      0       0     0   \n",
              "3        0       0         0        0        0    0      0       0     0   \n",
              "4        0       0         0        0        0    0      0       0     0   \n",
              "\n",
              "   acknowledg  acl  acnt  ...  ymca  yo  yoga  yogasana  yor  yorg  youdo  \\\n",
              "0           0    0     0  ...     0   0     0         0    0     0      0   \n",
              "1           0    0     0  ...     0   0     0         0    0     0      0   \n",
              "2           0    0     0  ...     0   0     0         0    0     0      0   \n",
              "3           0    0     0  ...     0   0     0         0    0     0      0   \n",
              "4           0    0     0  ...     0   0     0         0    0     0      0   \n",
              "\n",
              "   youi  young  younger  youphon  your  yourinclus  yourjob  youuuuu  \\\n",
              "0     0      0        0        0     0           0        0        0   \n",
              "1     0      0        0        0     0           0        0        0   \n",
              "2     0      0        0        0     0           0        0        0   \n",
              "3     0      0        0        0     0           0        0        0   \n",
              "4     0      0        0        0     0           0        0        0   \n",
              "\n",
              "   youwanna  yovill  yowif  yoyyooo  yr  yrs  ystrday  yt  ything  yummi  \\\n",
              "0         0       0      0        0   0    0        0   0       0      0   \n",
              "1         0       0      0        0   0    0        0   0       0      0   \n",
              "2         0       0      0        0   0    0        0   0       0      0   \n",
              "3         0       0      0        0   0    0        0   0       0      0   \n",
              "4         0       0      0        0   0    0        0   0       0      0   \n",
              "\n",
              "   yummmm  yun  yunni  yuo  yuou  yup  yupz  zac  zaher  zealand  zebra  zed  \\\n",
              "0       0    0      0    0     0    0     0    0      0        0      0    0   \n",
              "1       0    0      0    0     0    0     0    0      0        0      0    0   \n",
              "2       0    0      0    0     0    0     0    0      0        0      0    0   \n",
              "3       0    0      0    0     0    0     0    0      0        0      0    0   \n",
              "4       0    0      0    0     0    0     0    0      0        0      0    0   \n",
              "\n",
              "   zero  zf  zhong  zindgi  zoe  zogtorius  zoom  zouk  zs  zyada  èn  〨ud  \\\n",
              "0     0   0      0       0    0          0     0     0   0      0   0    0   \n",
              "1     0   0      0       0    0          0     0     0   0      0   0    0   \n",
              "2     0   0      0       0    0          0     0     0   0      0   0    0   \n",
              "3     0   0      0       0    0          0     0     0   0      0   0    0   \n",
              "4     0   0      0       0    0          0     0     0   0      0   0    0   \n",
              "\n",
              "   label  \n",
              "0      0  \n",
              "1      0  \n",
              "2      1  \n",
              "3      0  \n",
              "4      0  \n",
              "\n",
              "[5 rows x 6280 columns]"
            ],
            "text/html": [
              "\n",
              "  <div id=\"df-59065db1-a157-45fb-8af4-bfd3cb1a1813\">\n",
              "    <div class=\"colab-df-container\">\n",
              "      <div>\n",
              "<style scoped>\n",
              "    .dataframe tbody tr th:only-of-type {\n",
              "        vertical-align: middle;\n",
              "    }\n",
              "\n",
              "    .dataframe tbody tr th {\n",
              "        vertical-align: top;\n",
              "    }\n",
              "\n",
              "    .dataframe thead th {\n",
              "        text-align: right;\n",
              "    }\n",
              "</style>\n",
              "<table border=\"1\" class=\"dataframe\">\n",
              "  <thead>\n",
              "    <tr style=\"text-align: right;\">\n",
              "      <th></th>\n",
              "      <th>____</th>\n",
              "      <th>aa</th>\n",
              "      <th>aah</th>\n",
              "      <th>aaniy</th>\n",
              "      <th>aaooooright</th>\n",
              "      <th>aathi</th>\n",
              "      <th>ab</th>\n",
              "      <th>abbey</th>\n",
              "      <th>abdomen</th>\n",
              "      <th>abeg</th>\n",
              "      <th>abel</th>\n",
              "      <th>aberdeen</th>\n",
              "      <th>abi</th>\n",
              "      <th>abil</th>\n",
              "      <th>abiola</th>\n",
              "      <th>abj</th>\n",
              "      <th>abl</th>\n",
              "      <th>abnorm</th>\n",
              "      <th>abouta</th>\n",
              "      <th>abroad</th>\n",
              "      <th>absenc</th>\n",
              "      <th>absolut</th>\n",
              "      <th>abstract</th>\n",
              "      <th>abt</th>\n",
              "      <th>abta</th>\n",
              "      <th>aburo</th>\n",
              "      <th>abus</th>\n",
              "      <th>ac</th>\n",
              "      <th>academ</th>\n",
              "      <th>acc</th>\n",
              "      <th>accent</th>\n",
              "      <th>accentur</th>\n",
              "      <th>accept</th>\n",
              "      <th>access</th>\n",
              "      <th>accid</th>\n",
              "      <th>accident</th>\n",
              "      <th>accommod</th>\n",
              "      <th>accommodationvouch</th>\n",
              "      <th>accomod</th>\n",
              "      <th>accord</th>\n",
              "      <th>accordin</th>\n",
              "      <th>account</th>\n",
              "      <th>accumul</th>\n",
              "      <th>ach</th>\n",
              "      <th>achan</th>\n",
              "      <th>achiev</th>\n",
              "      <th>acid</th>\n",
              "      <th>acknowledg</th>\n",
              "      <th>acl</th>\n",
              "      <th>acnt</th>\n",
              "      <th>...</th>\n",
              "      <th>ymca</th>\n",
              "      <th>yo</th>\n",
              "      <th>yoga</th>\n",
              "      <th>yogasana</th>\n",
              "      <th>yor</th>\n",
              "      <th>yorg</th>\n",
              "      <th>youdo</th>\n",
              "      <th>youi</th>\n",
              "      <th>young</th>\n",
              "      <th>younger</th>\n",
              "      <th>youphon</th>\n",
              "      <th>your</th>\n",
              "      <th>yourinclus</th>\n",
              "      <th>yourjob</th>\n",
              "      <th>youuuuu</th>\n",
              "      <th>youwanna</th>\n",
              "      <th>yovill</th>\n",
              "      <th>yowif</th>\n",
              "      <th>yoyyooo</th>\n",
              "      <th>yr</th>\n",
              "      <th>yrs</th>\n",
              "      <th>ystrday</th>\n",
              "      <th>yt</th>\n",
              "      <th>ything</th>\n",
              "      <th>yummi</th>\n",
              "      <th>yummmm</th>\n",
              "      <th>yun</th>\n",
              "      <th>yunni</th>\n",
              "      <th>yuo</th>\n",
              "      <th>yuou</th>\n",
              "      <th>yup</th>\n",
              "      <th>yupz</th>\n",
              "      <th>zac</th>\n",
              "      <th>zaher</th>\n",
              "      <th>zealand</th>\n",
              "      <th>zebra</th>\n",
              "      <th>zed</th>\n",
              "      <th>zero</th>\n",
              "      <th>zf</th>\n",
              "      <th>zhong</th>\n",
              "      <th>zindgi</th>\n",
              "      <th>zoe</th>\n",
              "      <th>zogtorius</th>\n",
              "      <th>zoom</th>\n",
              "      <th>zouk</th>\n",
              "      <th>zs</th>\n",
              "      <th>zyada</th>\n",
              "      <th>èn</th>\n",
              "      <th>〨ud</th>\n",
              "      <th>label</th>\n",
              "    </tr>\n",
              "  </thead>\n",
              "  <tbody>\n",
              "    <tr>\n",
              "      <th>0</th>\n",
              "      <td>0</td>\n",
              "      <td>0</td>\n",
              "      <td>0</td>\n",
              "      <td>0</td>\n",
              "      <td>0</td>\n",
              "      <td>0</td>\n",
              "      <td>0</td>\n",
              "      <td>0</td>\n",
              "      <td>0</td>\n",
              "      <td>0</td>\n",
              "      <td>0</td>\n",
              "      <td>0</td>\n",
              "      <td>0</td>\n",
              "      <td>0</td>\n",
              "      <td>0</td>\n",
              "      <td>0</td>\n",
              "      <td>0</td>\n",
              "      <td>0</td>\n",
              "      <td>0</td>\n",
              "      <td>0</td>\n",
              "      <td>0</td>\n",
              "      <td>0</td>\n",
              "      <td>0</td>\n",
              "      <td>0</td>\n",
              "      <td>0</td>\n",
              "      <td>0</td>\n",
              "      <td>0</td>\n",
              "      <td>0</td>\n",
              "      <td>0</td>\n",
              "      <td>0</td>\n",
              "      <td>0</td>\n",
              "      <td>0</td>\n",
              "      <td>0</td>\n",
              "      <td>0</td>\n",
              "      <td>0</td>\n",
              "      <td>0</td>\n",
              "      <td>0</td>\n",
              "      <td>0</td>\n",
              "      <td>0</td>\n",
              "      <td>0</td>\n",
              "      <td>0</td>\n",
              "      <td>0</td>\n",
              "      <td>0</td>\n",
              "      <td>0</td>\n",
              "      <td>0</td>\n",
              "      <td>0</td>\n",
              "      <td>0</td>\n",
              "      <td>0</td>\n",
              "      <td>0</td>\n",
              "      <td>0</td>\n",
              "      <td>...</td>\n",
              "      <td>0</td>\n",
              "      <td>0</td>\n",
              "      <td>0</td>\n",
              "      <td>0</td>\n",
              "      <td>0</td>\n",
              "      <td>0</td>\n",
              "      <td>0</td>\n",
              "      <td>0</td>\n",
              "      <td>0</td>\n",
              "      <td>0</td>\n",
              "      <td>0</td>\n",
              "      <td>0</td>\n",
              "      <td>0</td>\n",
              "      <td>0</td>\n",
              "      <td>0</td>\n",
              "      <td>0</td>\n",
              "      <td>0</td>\n",
              "      <td>0</td>\n",
              "      <td>0</td>\n",
              "      <td>0</td>\n",
              "      <td>0</td>\n",
              "      <td>0</td>\n",
              "      <td>0</td>\n",
              "      <td>0</td>\n",
              "      <td>0</td>\n",
              "      <td>0</td>\n",
              "      <td>0</td>\n",
              "      <td>0</td>\n",
              "      <td>0</td>\n",
              "      <td>0</td>\n",
              "      <td>0</td>\n",
              "      <td>0</td>\n",
              "      <td>0</td>\n",
              "      <td>0</td>\n",
              "      <td>0</td>\n",
              "      <td>0</td>\n",
              "      <td>0</td>\n",
              "      <td>0</td>\n",
              "      <td>0</td>\n",
              "      <td>0</td>\n",
              "      <td>0</td>\n",
              "      <td>0</td>\n",
              "      <td>0</td>\n",
              "      <td>0</td>\n",
              "      <td>0</td>\n",
              "      <td>0</td>\n",
              "      <td>0</td>\n",
              "      <td>0</td>\n",
              "      <td>0</td>\n",
              "      <td>0</td>\n",
              "    </tr>\n",
              "    <tr>\n",
              "      <th>1</th>\n",
              "      <td>0</td>\n",
              "      <td>0</td>\n",
              "      <td>0</td>\n",
              "      <td>0</td>\n",
              "      <td>0</td>\n",
              "      <td>0</td>\n",
              "      <td>0</td>\n",
              "      <td>0</td>\n",
              "      <td>0</td>\n",
              "      <td>0</td>\n",
              "      <td>0</td>\n",
              "      <td>0</td>\n",
              "      <td>0</td>\n",
              "      <td>0</td>\n",
              "      <td>0</td>\n",
              "      <td>0</td>\n",
              "      <td>0</td>\n",
              "      <td>0</td>\n",
              "      <td>0</td>\n",
              "      <td>0</td>\n",
              "      <td>0</td>\n",
              "      <td>0</td>\n",
              "      <td>0</td>\n",
              "      <td>0</td>\n",
              "      <td>0</td>\n",
              "      <td>0</td>\n",
              "      <td>0</td>\n",
              "      <td>0</td>\n",
              "      <td>0</td>\n",
              "      <td>0</td>\n",
              "      <td>0</td>\n",
              "      <td>0</td>\n",
              "      <td>0</td>\n",
              "      <td>0</td>\n",
              "      <td>0</td>\n",
              "      <td>0</td>\n",
              "      <td>0</td>\n",
              "      <td>0</td>\n",
              "      <td>0</td>\n",
              "      <td>0</td>\n",
              "      <td>0</td>\n",
              "      <td>0</td>\n",
              "      <td>0</td>\n",
              "      <td>0</td>\n",
              "      <td>0</td>\n",
              "      <td>0</td>\n",
              "      <td>0</td>\n",
              "      <td>0</td>\n",
              "      <td>0</td>\n",
              "      <td>0</td>\n",
              "      <td>...</td>\n",
              "      <td>0</td>\n",
              "      <td>0</td>\n",
              "      <td>0</td>\n",
              "      <td>0</td>\n",
              "      <td>0</td>\n",
              "      <td>0</td>\n",
              "      <td>0</td>\n",
              "      <td>0</td>\n",
              "      <td>0</td>\n",
              "      <td>0</td>\n",
              "      <td>0</td>\n",
              "      <td>0</td>\n",
              "      <td>0</td>\n",
              "      <td>0</td>\n",
              "      <td>0</td>\n",
              "      <td>0</td>\n",
              "      <td>0</td>\n",
              "      <td>0</td>\n",
              "      <td>0</td>\n",
              "      <td>0</td>\n",
              "      <td>0</td>\n",
              "      <td>0</td>\n",
              "      <td>0</td>\n",
              "      <td>0</td>\n",
              "      <td>0</td>\n",
              "      <td>0</td>\n",
              "      <td>0</td>\n",
              "      <td>0</td>\n",
              "      <td>0</td>\n",
              "      <td>0</td>\n",
              "      <td>0</td>\n",
              "      <td>0</td>\n",
              "      <td>0</td>\n",
              "      <td>0</td>\n",
              "      <td>0</td>\n",
              "      <td>0</td>\n",
              "      <td>0</td>\n",
              "      <td>0</td>\n",
              "      <td>0</td>\n",
              "      <td>0</td>\n",
              "      <td>0</td>\n",
              "      <td>0</td>\n",
              "      <td>0</td>\n",
              "      <td>0</td>\n",
              "      <td>0</td>\n",
              "      <td>0</td>\n",
              "      <td>0</td>\n",
              "      <td>0</td>\n",
              "      <td>0</td>\n",
              "      <td>0</td>\n",
              "    </tr>\n",
              "    <tr>\n",
              "      <th>2</th>\n",
              "      <td>0</td>\n",
              "      <td>0</td>\n",
              "      <td>0</td>\n",
              "      <td>0</td>\n",
              "      <td>0</td>\n",
              "      <td>0</td>\n",
              "      <td>0</td>\n",
              "      <td>0</td>\n",
              "      <td>0</td>\n",
              "      <td>0</td>\n",
              "      <td>0</td>\n",
              "      <td>0</td>\n",
              "      <td>0</td>\n",
              "      <td>0</td>\n",
              "      <td>0</td>\n",
              "      <td>0</td>\n",
              "      <td>0</td>\n",
              "      <td>0</td>\n",
              "      <td>0</td>\n",
              "      <td>0</td>\n",
              "      <td>0</td>\n",
              "      <td>0</td>\n",
              "      <td>0</td>\n",
              "      <td>0</td>\n",
              "      <td>0</td>\n",
              "      <td>0</td>\n",
              "      <td>0</td>\n",
              "      <td>0</td>\n",
              "      <td>0</td>\n",
              "      <td>0</td>\n",
              "      <td>0</td>\n",
              "      <td>0</td>\n",
              "      <td>0</td>\n",
              "      <td>0</td>\n",
              "      <td>0</td>\n",
              "      <td>0</td>\n",
              "      <td>0</td>\n",
              "      <td>0</td>\n",
              "      <td>0</td>\n",
              "      <td>0</td>\n",
              "      <td>0</td>\n",
              "      <td>0</td>\n",
              "      <td>0</td>\n",
              "      <td>0</td>\n",
              "      <td>0</td>\n",
              "      <td>0</td>\n",
              "      <td>0</td>\n",
              "      <td>0</td>\n",
              "      <td>0</td>\n",
              "      <td>0</td>\n",
              "      <td>...</td>\n",
              "      <td>0</td>\n",
              "      <td>0</td>\n",
              "      <td>0</td>\n",
              "      <td>0</td>\n",
              "      <td>0</td>\n",
              "      <td>0</td>\n",
              "      <td>0</td>\n",
              "      <td>0</td>\n",
              "      <td>0</td>\n",
              "      <td>0</td>\n",
              "      <td>0</td>\n",
              "      <td>0</td>\n",
              "      <td>0</td>\n",
              "      <td>0</td>\n",
              "      <td>0</td>\n",
              "      <td>0</td>\n",
              "      <td>0</td>\n",
              "      <td>0</td>\n",
              "      <td>0</td>\n",
              "      <td>0</td>\n",
              "      <td>0</td>\n",
              "      <td>0</td>\n",
              "      <td>0</td>\n",
              "      <td>0</td>\n",
              "      <td>0</td>\n",
              "      <td>0</td>\n",
              "      <td>0</td>\n",
              "      <td>0</td>\n",
              "      <td>0</td>\n",
              "      <td>0</td>\n",
              "      <td>0</td>\n",
              "      <td>0</td>\n",
              "      <td>0</td>\n",
              "      <td>0</td>\n",
              "      <td>0</td>\n",
              "      <td>0</td>\n",
              "      <td>0</td>\n",
              "      <td>0</td>\n",
              "      <td>0</td>\n",
              "      <td>0</td>\n",
              "      <td>0</td>\n",
              "      <td>0</td>\n",
              "      <td>0</td>\n",
              "      <td>0</td>\n",
              "      <td>0</td>\n",
              "      <td>0</td>\n",
              "      <td>0</td>\n",
              "      <td>0</td>\n",
              "      <td>0</td>\n",
              "      <td>1</td>\n",
              "    </tr>\n",
              "    <tr>\n",
              "      <th>3</th>\n",
              "      <td>0</td>\n",
              "      <td>0</td>\n",
              "      <td>0</td>\n",
              "      <td>0</td>\n",
              "      <td>0</td>\n",
              "      <td>0</td>\n",
              "      <td>0</td>\n",
              "      <td>0</td>\n",
              "      <td>0</td>\n",
              "      <td>0</td>\n",
              "      <td>0</td>\n",
              "      <td>0</td>\n",
              "      <td>0</td>\n",
              "      <td>0</td>\n",
              "      <td>0</td>\n",
              "      <td>0</td>\n",
              "      <td>0</td>\n",
              "      <td>0</td>\n",
              "      <td>0</td>\n",
              "      <td>0</td>\n",
              "      <td>0</td>\n",
              "      <td>0</td>\n",
              "      <td>0</td>\n",
              "      <td>0</td>\n",
              "      <td>0</td>\n",
              "      <td>0</td>\n",
              "      <td>0</td>\n",
              "      <td>0</td>\n",
              "      <td>0</td>\n",
              "      <td>0</td>\n",
              "      <td>0</td>\n",
              "      <td>0</td>\n",
              "      <td>0</td>\n",
              "      <td>0</td>\n",
              "      <td>0</td>\n",
              "      <td>0</td>\n",
              "      <td>0</td>\n",
              "      <td>0</td>\n",
              "      <td>0</td>\n",
              "      <td>0</td>\n",
              "      <td>0</td>\n",
              "      <td>0</td>\n",
              "      <td>0</td>\n",
              "      <td>0</td>\n",
              "      <td>0</td>\n",
              "      <td>0</td>\n",
              "      <td>0</td>\n",
              "      <td>0</td>\n",
              "      <td>0</td>\n",
              "      <td>0</td>\n",
              "      <td>...</td>\n",
              "      <td>0</td>\n",
              "      <td>0</td>\n",
              "      <td>0</td>\n",
              "      <td>0</td>\n",
              "      <td>0</td>\n",
              "      <td>0</td>\n",
              "      <td>0</td>\n",
              "      <td>0</td>\n",
              "      <td>0</td>\n",
              "      <td>0</td>\n",
              "      <td>0</td>\n",
              "      <td>0</td>\n",
              "      <td>0</td>\n",
              "      <td>0</td>\n",
              "      <td>0</td>\n",
              "      <td>0</td>\n",
              "      <td>0</td>\n",
              "      <td>0</td>\n",
              "      <td>0</td>\n",
              "      <td>0</td>\n",
              "      <td>0</td>\n",
              "      <td>0</td>\n",
              "      <td>0</td>\n",
              "      <td>0</td>\n",
              "      <td>0</td>\n",
              "      <td>0</td>\n",
              "      <td>0</td>\n",
              "      <td>0</td>\n",
              "      <td>0</td>\n",
              "      <td>0</td>\n",
              "      <td>0</td>\n",
              "      <td>0</td>\n",
              "      <td>0</td>\n",
              "      <td>0</td>\n",
              "      <td>0</td>\n",
              "      <td>0</td>\n",
              "      <td>0</td>\n",
              "      <td>0</td>\n",
              "      <td>0</td>\n",
              "      <td>0</td>\n",
              "      <td>0</td>\n",
              "      <td>0</td>\n",
              "      <td>0</td>\n",
              "      <td>0</td>\n",
              "      <td>0</td>\n",
              "      <td>0</td>\n",
              "      <td>0</td>\n",
              "      <td>0</td>\n",
              "      <td>0</td>\n",
              "      <td>0</td>\n",
              "    </tr>\n",
              "    <tr>\n",
              "      <th>4</th>\n",
              "      <td>0</td>\n",
              "      <td>0</td>\n",
              "      <td>0</td>\n",
              "      <td>0</td>\n",
              "      <td>0</td>\n",
              "      <td>0</td>\n",
              "      <td>0</td>\n",
              "      <td>0</td>\n",
              "      <td>0</td>\n",
              "      <td>0</td>\n",
              "      <td>0</td>\n",
              "      <td>0</td>\n",
              "      <td>0</td>\n",
              "      <td>0</td>\n",
              "      <td>0</td>\n",
              "      <td>0</td>\n",
              "      <td>0</td>\n",
              "      <td>0</td>\n",
              "      <td>0</td>\n",
              "      <td>0</td>\n",
              "      <td>0</td>\n",
              "      <td>0</td>\n",
              "      <td>0</td>\n",
              "      <td>0</td>\n",
              "      <td>0</td>\n",
              "      <td>0</td>\n",
              "      <td>0</td>\n",
              "      <td>0</td>\n",
              "      <td>0</td>\n",
              "      <td>0</td>\n",
              "      <td>0</td>\n",
              "      <td>0</td>\n",
              "      <td>0</td>\n",
              "      <td>0</td>\n",
              "      <td>0</td>\n",
              "      <td>0</td>\n",
              "      <td>0</td>\n",
              "      <td>0</td>\n",
              "      <td>0</td>\n",
              "      <td>0</td>\n",
              "      <td>0</td>\n",
              "      <td>0</td>\n",
              "      <td>0</td>\n",
              "      <td>0</td>\n",
              "      <td>0</td>\n",
              "      <td>0</td>\n",
              "      <td>0</td>\n",
              "      <td>0</td>\n",
              "      <td>0</td>\n",
              "      <td>0</td>\n",
              "      <td>...</td>\n",
              "      <td>0</td>\n",
              "      <td>0</td>\n",
              "      <td>0</td>\n",
              "      <td>0</td>\n",
              "      <td>0</td>\n",
              "      <td>0</td>\n",
              "      <td>0</td>\n",
              "      <td>0</td>\n",
              "      <td>0</td>\n",
              "      <td>0</td>\n",
              "      <td>0</td>\n",
              "      <td>0</td>\n",
              "      <td>0</td>\n",
              "      <td>0</td>\n",
              "      <td>0</td>\n",
              "      <td>0</td>\n",
              "      <td>0</td>\n",
              "      <td>0</td>\n",
              "      <td>0</td>\n",
              "      <td>0</td>\n",
              "      <td>0</td>\n",
              "      <td>0</td>\n",
              "      <td>0</td>\n",
              "      <td>0</td>\n",
              "      <td>0</td>\n",
              "      <td>0</td>\n",
              "      <td>0</td>\n",
              "      <td>0</td>\n",
              "      <td>0</td>\n",
              "      <td>0</td>\n",
              "      <td>0</td>\n",
              "      <td>0</td>\n",
              "      <td>0</td>\n",
              "      <td>0</td>\n",
              "      <td>0</td>\n",
              "      <td>0</td>\n",
              "      <td>0</td>\n",
              "      <td>0</td>\n",
              "      <td>0</td>\n",
              "      <td>0</td>\n",
              "      <td>0</td>\n",
              "      <td>0</td>\n",
              "      <td>0</td>\n",
              "      <td>0</td>\n",
              "      <td>0</td>\n",
              "      <td>0</td>\n",
              "      <td>0</td>\n",
              "      <td>0</td>\n",
              "      <td>0</td>\n",
              "      <td>0</td>\n",
              "    </tr>\n",
              "  </tbody>\n",
              "</table>\n",
              "<p>5 rows × 6280 columns</p>\n",
              "</div>\n",
              "      <button class=\"colab-df-convert\" onclick=\"convertToInteractive('df-59065db1-a157-45fb-8af4-bfd3cb1a1813')\"\n",
              "              title=\"Convert this dataframe to an interactive table.\"\n",
              "              style=\"display:none;\">\n",
              "        \n",
              "  <svg xmlns=\"http://www.w3.org/2000/svg\" height=\"24px\"viewBox=\"0 0 24 24\"\n",
              "       width=\"24px\">\n",
              "    <path d=\"M0 0h24v24H0V0z\" fill=\"none\"/>\n",
              "    <path d=\"M18.56 5.44l.94 2.06.94-2.06 2.06-.94-2.06-.94-.94-2.06-.94 2.06-2.06.94zm-11 1L8.5 8.5l.94-2.06 2.06-.94-2.06-.94L8.5 2.5l-.94 2.06-2.06.94zm10 10l.94 2.06.94-2.06 2.06-.94-2.06-.94-.94-2.06-.94 2.06-2.06.94z\"/><path d=\"M17.41 7.96l-1.37-1.37c-.4-.4-.92-.59-1.43-.59-.52 0-1.04.2-1.43.59L10.3 9.45l-7.72 7.72c-.78.78-.78 2.05 0 2.83L4 21.41c.39.39.9.59 1.41.59.51 0 1.02-.2 1.41-.59l7.78-7.78 2.81-2.81c.8-.78.8-2.07 0-2.86zM5.41 20L4 18.59l7.72-7.72 1.47 1.35L5.41 20z\"/>\n",
              "  </svg>\n",
              "      </button>\n",
              "      \n",
              "  <style>\n",
              "    .colab-df-container {\n",
              "      display:flex;\n",
              "      flex-wrap:wrap;\n",
              "      gap: 12px;\n",
              "    }\n",
              "\n",
              "    .colab-df-convert {\n",
              "      background-color: #E8F0FE;\n",
              "      border: none;\n",
              "      border-radius: 50%;\n",
              "      cursor: pointer;\n",
              "      display: none;\n",
              "      fill: #1967D2;\n",
              "      height: 32px;\n",
              "      padding: 0 0 0 0;\n",
              "      width: 32px;\n",
              "    }\n",
              "\n",
              "    .colab-df-convert:hover {\n",
              "      background-color: #E2EBFA;\n",
              "      box-shadow: 0px 1px 2px rgba(60, 64, 67, 0.3), 0px 1px 3px 1px rgba(60, 64, 67, 0.15);\n",
              "      fill: #174EA6;\n",
              "    }\n",
              "\n",
              "    [theme=dark] .colab-df-convert {\n",
              "      background-color: #3B4455;\n",
              "      fill: #D2E3FC;\n",
              "    }\n",
              "\n",
              "    [theme=dark] .colab-df-convert:hover {\n",
              "      background-color: #434B5C;\n",
              "      box-shadow: 0px 1px 3px 1px rgba(0, 0, 0, 0.15);\n",
              "      filter: drop-shadow(0px 1px 2px rgba(0, 0, 0, 0.3));\n",
              "      fill: #FFFFFF;\n",
              "    }\n",
              "  </style>\n",
              "\n",
              "      <script>\n",
              "        const buttonEl =\n",
              "          document.querySelector('#df-59065db1-a157-45fb-8af4-bfd3cb1a1813 button.colab-df-convert');\n",
              "        buttonEl.style.display =\n",
              "          google.colab.kernel.accessAllowed ? 'block' : 'none';\n",
              "\n",
              "        async function convertToInteractive(key) {\n",
              "          const element = document.querySelector('#df-59065db1-a157-45fb-8af4-bfd3cb1a1813');\n",
              "          const dataTable =\n",
              "            await google.colab.kernel.invokeFunction('convertToInteractive',\n",
              "                                                     [key], {});\n",
              "          if (!dataTable) return;\n",
              "\n",
              "          const docLinkHtml = 'Like what you see? Visit the ' +\n",
              "            '<a target=\"_blank\" href=https://colab.research.google.com/notebooks/data_table.ipynb>data table notebook</a>'\n",
              "            + ' to learn more about interactive tables.';\n",
              "          element.innerHTML = '';\n",
              "          dataTable['output_type'] = 'display_data';\n",
              "          await google.colab.output.renderOutput(dataTable, element);\n",
              "          const docLink = document.createElement('div');\n",
              "          docLink.innerHTML = docLinkHtml;\n",
              "          element.appendChild(docLink);\n",
              "        }\n",
              "      </script>\n",
              "    </div>\n",
              "  </div>\n",
              "  "
            ]
          },
          "metadata": {},
          "execution_count": 141
        }
      ]
    },
    {
      "cell_type": "markdown",
      "source": [
        "##Showing most used word in spam emails"
      ],
      "metadata": {
        "id": "Ns7Nc3CNbysH"
      }
    },
    {
      "cell_type": "code",
      "source": [
        "#Searching  the 100 most frequent words in spam emails\n",
        "\n",
        "df_spam=count_words[count_words['label']==1].sum()\n",
        "df_spam.sort_values(ascending=False,inplace=True)\n",
        "df_spam.drop('label',inplace=True)\n",
        "spam_words=df_spam.iloc[0:100]"
      ],
      "metadata": {
        "id": "l2peWrUWNT5E"
      },
      "execution_count": 142,
      "outputs": []
    },
    {
      "cell_type": "code",
      "source": [
        "#Showing the  100 most used word in spam emails\n",
        "wc = WordCloud(width=1200, height=400, max_words=200).generate_from_frequencies(spam_words.to_dict())\n",
        "\n",
        "plt.figure(figsize=(10, 10))\n",
        "plt.imshow(wc, interpolation='bilinear')\n",
        "plt.axis('off')\n",
        "plt.show()"
      ],
      "metadata": {
        "colab": {
          "base_uri": "https://localhost:8080/",
          "height": 217
        },
        "id": "CB6c_SZZij6P",
        "outputId": "4fe8c360-d14d-4cb6-90dc-757cedf465f5"
      },
      "execution_count": 143,
      "outputs": [
        {
          "output_type": "display_data",
          "data": {
            "text/plain": [
              "<Figure size 720x720 with 1 Axes>"
            ],
            "image/png": "[encoded data removed]"
          },
          "metadata": {
            "needs_background": "light"
          }
        }
      ]
    },
    {
      "cell_type": "markdown",
      "source": [
        "##Showing most used word in ham emails"
      ],
      "metadata": {
        "id": "9sQgy_8vb-7r"
      }
    },
    {
      "cell_type": "code",
      "source": [
        "#Searching  the 100 most frequent words in ham emails\n",
        "\n",
        "df_ham=count_words[count_words['label']==0].sum()\n",
        "df_ham.sort_values(ascending=False,inplace=True)\n",
        "df_ham.drop('label',inplace=True)\n",
        "ham_words=df_ham.iloc[0:100]"
      ],
      "metadata": {
        "id": "Fc_WcLlHU1A_"
      },
      "execution_count": 144,
      "outputs": []
    },
    {
      "cell_type": "code",
      "source": [
        "#Showing the  100 most used word in ham emails\n",
        "wc = WordCloud(width=1200, height=400, max_words=200).generate_from_frequencies(ham_words.to_dict())\n",
        "\n",
        "plt.figure(figsize=(10, 10))\n",
        "plt.imshow(wc, interpolation='bilinear')\n",
        "plt.axis('off')\n",
        "plt.show()"
      ],
      "metadata": {
        "colab": {
          "base_uri": "https://localhost:8080/",
          "height": 217
        },
        "id": "4-p7ClvZkZ-Q",
        "outputId": "c4ef179e-d890-48d4-f66a-d16bd24aa00c"
      },
      "execution_count": 145,
      "outputs": [
        {
          "output_type": "display_data",
          "data": {
            "text/plain": [
              "<Figure size 720x720 with 1 Axes>"
            ],
            "image/png": "[encoded data removed]"
          },
          "metadata": {
            "needs_background": "light"
          }
        }
      ]
    },
    {
      "cell_type": "markdown",
      "source": [
        "After that I searched the most used words for each category ,i will create a Bag of Word only with  that in order to reduce the number of variable that the model should  to handle"
      ],
      "metadata": {
        "id": "XsXlFd0TVgqt"
      }
    },
    {
      "cell_type": "code",
      "source": [
        "#columns to maintain\n",
        "col= [*spam_words.index,*ham_words.index]\n",
        "print(len(col))\n",
        "#removing duplicate word\n",
        "col = [*set(col)]\n",
        "print(len(col))\n"
      ],
      "metadata": {
        "colab": {
          "base_uri": "https://localhost:8080/"
        },
        "id": "GIPnyTjJYeBo",
        "outputId": "566edc65-c6e8-4919-dd29-5e0acb053ae1"
      },
      "execution_count": 146,
      "outputs": [
        {
          "output_type": "stream",
          "name": "stdout",
          "text": [
            "200\n",
            "181\n"
          ]
        }
      ]
    },
    {
      "cell_type": "code",
      "source": [
        "#filtering columns from count_words dataframe\n",
        "count_words=count_words[col]\n",
        "count_words.shape\n"
      ],
      "metadata": {
        "colab": {
          "base_uri": "https://localhost:8080/"
        },
        "id": "FNFUS-zrZMZR",
        "outputId": "99d053d3-45b6-4545-e1b7-2a02b0d377b1"
      },
      "execution_count": 147,
      "outputs": [
        {
          "output_type": "execute_result",
          "data": {
            "text/plain": [
              "(5572, 181)"
            ]
          },
          "metadata": {},
          "execution_count": 147
        }
      ]
    },
    {
      "cell_type": "code",
      "source": [
        "count_words['length']=data['length']\n",
        "count_words['label']=data['class_label']"
      ],
      "metadata": {
        "id": "YqBJjePNdGKf"
      },
      "execution_count": 148,
      "outputs": []
    },
    {
      "cell_type": "code",
      "source": [
        "count_words.shape"
      ],
      "metadata": {
        "colab": {
          "base_uri": "https://localhost:8080/"
        },
        "id": "yfNtLvNsdQ0Y",
        "outputId": "ee14789e-6308-4133-ffbf-7fb5b985ae93"
      },
      "execution_count": 149,
      "outputs": [
        {
          "output_type": "execute_result",
          "data": {
            "text/plain": [
              "(5572, 183)"
            ]
          },
          "metadata": {},
          "execution_count": 149
        }
      ]
    },
    {
      "cell_type": "markdown",
      "source": [
        "# Splitting data"
      ],
      "metadata": {
        "id": "bUDsmbnwlGOe"
      }
    },
    {
      "cell_type": "code",
      "source": [
        "from sklearn.model_selection import train_test_split"
      ],
      "metadata": {
        "id": "PN88QMPReK0L"
      },
      "execution_count": 150,
      "outputs": []
    },
    {
      "cell_type": "code",
      "source": [
        "data.columns"
      ],
      "metadata": {
        "colab": {
          "base_uri": "https://localhost:8080/"
        },
        "id": "fQBd0tW9ZAVt",
        "outputId": "eb754ed5-7ae6-4d25-d5d9-ac12074cf3c5"
      },
      "execution_count": 151,
      "outputs": [
        {
          "output_type": "execute_result",
          "data": {
            "text/plain": [
              "Index(['Category', 'Message', 'length', 'class_label'], dtype='object')"
            ]
          },
          "metadata": {},
          "execution_count": 151
        }
      ]
    },
    {
      "cell_type": "code",
      "source": [
        "\n",
        "Y=data['class_label']\n",
        "X=count_words.drop('label',axis=1)\n"
      ],
      "metadata": {
        "id": "Z6Lli7CFZHf7"
      },
      "execution_count": 152,
      "outputs": []
    },
    {
      "cell_type": "code",
      "source": [
        "X_train, X_test, y_train, y_test = train_test_split(\n",
        "     X, Y, test_size=0.33, random_state=2,stratify=Y)"
      ],
      "metadata": {
        "id": "1Xx0lGzmeTop"
      },
      "execution_count": 153,
      "outputs": []
    },
    {
      "cell_type": "code",
      "source": [
        "X.head()"
      ],
      "metadata": {
        "colab": {
          "base_uri": "https://localhost:8080/",
          "height": 299
        },
        "id": "JT43n27MaHRP",
        "outputId": "ad6c3a22-c61f-4598-aa84-a2e7a07d8e53"
      },
      "execution_count": 154,
      "outputs": [
        {
          "output_type": "execute_result",
          "data": {
            "text/plain": [
              "   game  hrs  sleep  cash  rington  dear  last  sms  lol  got  give  buy  \\\n",
              "0     0    0      0     0        0     0     0    0    0    1     0    0   \n",
              "1     0    0      0     0        0     0     0    0    0    0     0    0   \n",
              "2     0    0      0     0        0     0     0    0    0    0     0    0   \n",
              "3     0    0      0     0        0     0     0    0    0    0     0    0   \n",
              "4     0    0      0     0        0     0     0    0    0    0     0    0   \n",
              "\n",
              "   later  guarante  much  win  send  await  thank  happi  live  po  go  \\\n",
              "0      0         0     0    0     0      0      0      0     0   0   1   \n",
              "1      0         0     0    0     0      0      0      0     0   0   0   \n",
              "2      0         0     0    1     0      0      0      0     0   0   0   \n",
              "3      0         0     0    0     0      0      0      0     0   0   0   \n",
              "4      0         0     0    0     0      0      0      0     1   0   0   \n",
              "\n",
              "   urgent  back  club  thing  show  pleas  award  meet  cos  pic  need  \\\n",
              "0       0     0     0      0     0      0      0     0    0    0     0   \n",
              "1       0     0     0      0     0      0      0     0    0    0     0   \n",
              "2       0     0     0      0     0      0      0     0    0    0     0   \n",
              "3       0     0     0      0     0      0      0     0    0    0     0   \n",
              "4       0     0     0      0     0      0      0     0    0    0     0   \n",
              "\n",
              "   finish  per  nation  ok  home  network  right  said  pm  good  orang  \\\n",
              "0       0    0       0   0     0        0      0     0   0     0      0   \n",
              "1       0    0       0   1     0        0      0     0   0     0      0   \n",
              "2       0    0       0   0     0        0      0     0   0     0      0   \n",
              "3       0    0       0   0     0        0      0     0   0     0      0   \n",
              "4       0    0       0   0     0        0      0     0   0     0      0   \n",
              "\n",
              "   appli  ms  ask  valid  lor  ...  servic  care  life  night  poli  dont  \\\n",
              "0      0   0    0      0    0  ...       0     0     0      0     0     0   \n",
              "1      0   0    0      0    0  ...       0     0     0      0     0     0   \n",
              "2      1   0    0      0    0  ...       0     0     0      0     0     0   \n",
              "3      0   0    0      0    0  ...       0     0     0      0     0     0   \n",
              "4      0   0    0      0    0  ...       0     0     0      0     0     0   \n",
              "\n",
              "   com  call  ur  landlin  video  phone  date  help  leav  latest  code  wat  \\\n",
              "0    0     0   0        0      0      0     0     0     0       0     0    1   \n",
              "1    0     0   0        0      0      0     0     0     0       0     0    0   \n",
              "2    0     0   0        0      0      0     0     0     0       0     0    0   \n",
              "3    0     0   0        0      0      0     0     0     0       0     0    0   \n",
              "4    0     0   0        0      0      0     0     0     0       0     0    0   \n",
              "\n",
              "   tell  collect  line  land  miss  ppm  gud  special  camera  word  charg  \\\n",
              "0     0        0     0     0     0    0    0        0       0     0      0   \n",
              "1     0        0     0     0     0    0    0        0       0     0      0   \n",
              "2     0        0     0     0     0    0    0        0       0     0      0   \n",
              "3     0        0     0     0     0    0    0        0       0     0      0   \n",
              "4     0        0     0     0     0    0    0        0       0     0      0   \n",
              "\n",
              "   hope  msg  well  gt  amp  pls  cs  tomorrow  custom  say  love  pn  morn  \\\n",
              "0     0    0     0   0    0    0   0         0       0    0     0   0     0   \n",
              "1     0    0     0   0    0    0   0         0       0    0     0   0     0   \n",
              "2     0    0     0   0    0    0   0         0       0    0     0   1     0   \n",
              "3     0    0     0   0    0    0   0         0       0    2     0   0     0   \n",
              "4     0    0     0   0    0    0   0         0       0    0     0   0     0   \n",
              "\n",
              "   know  day  yeah  st  nokia  prize  one  length  \n",
              "0     0    0     0   0      0      0    0     111  \n",
              "1     0    0     0   0      0      0    0      29  \n",
              "2     0    0     0   1      0      0    0     155  \n",
              "3     0    0     0   0      0      0    0      49  \n",
              "4     0    0     0   0      0      0    0      61  \n",
              "\n",
              "[5 rows x 182 columns]"
            ],
            "text/html": [
              "\n",
              "  <div id=\"df-538cca3b-8631-4293-87ff-d101d1371fbb\">\n",
              "    <div class=\"colab-df-container\">\n",
              "      <div>\n",
              "<style scoped>\n",
              "    .dataframe tbody tr th:only-of-type {\n",
              "        vertical-align: middle;\n",
              "    }\n",
              "\n",
              "    .dataframe tbody tr th {\n",
              "        vertical-align: top;\n",
              "    }\n",
              "\n",
              "    .dataframe thead th {\n",
              "        text-align: right;\n",
              "    }\n",
              "</style>\n",
              "<table border=\"1\" class=\"dataframe\">\n",
              "  <thead>\n",
              "    <tr style=\"text-align: right;\">\n",
              "      <th></th>\n",
              "      <th>game</th>\n",
              "      <th>hrs</th>\n",
              "      <th>sleep</th>\n",
              "      <th>cash</th>\n",
              "      <th>rington</th>\n",
              "      <th>dear</th>\n",
              "      <th>last</th>\n",
              "      <th>sms</th>\n",
              "      <th>lol</th>\n",
              "      <th>got</th>\n",
              "      <th>give</th>\n",
              "      <th>buy</th>\n",
              "      <th>later</th>\n",
              "      <th>guarante</th>\n",
              "      <th>much</th>\n",
              "      <th>win</th>\n",
              "      <th>send</th>\n",
              "      <th>await</th>\n",
              "      <th>thank</th>\n",
              "      <th>happi</th>\n",
              "      <th>live</th>\n",
              "      <th>po</th>\n",
              "      <th>go</th>\n",
              "      <th>urgent</th>\n",
              "      <th>back</th>\n",
              "      <th>club</th>\n",
              "      <th>thing</th>\n",
              "      <th>show</th>\n",
              "      <th>pleas</th>\n",
              "      <th>award</th>\n",
              "      <th>meet</th>\n",
              "      <th>cos</th>\n",
              "      <th>pic</th>\n",
              "      <th>need</th>\n",
              "      <th>finish</th>\n",
              "      <th>per</th>\n",
              "      <th>nation</th>\n",
              "      <th>ok</th>\n",
              "      <th>home</th>\n",
              "      <th>network</th>\n",
              "      <th>right</th>\n",
              "      <th>said</th>\n",
              "      <th>pm</th>\n",
              "      <th>good</th>\n",
              "      <th>orang</th>\n",
              "      <th>appli</th>\n",
              "      <th>ms</th>\n",
              "      <th>ask</th>\n",
              "      <th>valid</th>\n",
              "      <th>lor</th>\n",
              "      <th>...</th>\n",
              "      <th>servic</th>\n",
              "      <th>care</th>\n",
              "      <th>life</th>\n",
              "      <th>night</th>\n",
              "      <th>poli</th>\n",
              "      <th>dont</th>\n",
              "      <th>com</th>\n",
              "      <th>call</th>\n",
              "      <th>ur</th>\n",
              "      <th>landlin</th>\n",
              "      <th>video</th>\n",
              "      <th>phone</th>\n",
              "      <th>date</th>\n",
              "      <th>help</th>\n",
              "      <th>leav</th>\n",
              "      <th>latest</th>\n",
              "      <th>code</th>\n",
              "      <th>wat</th>\n",
              "      <th>tell</th>\n",
              "      <th>collect</th>\n",
              "      <th>line</th>\n",
              "      <th>land</th>\n",
              "      <th>miss</th>\n",
              "      <th>ppm</th>\n",
              "      <th>gud</th>\n",
              "      <th>special</th>\n",
              "      <th>camera</th>\n",
              "      <th>word</th>\n",
              "      <th>charg</th>\n",
              "      <th>hope</th>\n",
              "      <th>msg</th>\n",
              "      <th>well</th>\n",
              "      <th>gt</th>\n",
              "      <th>amp</th>\n",
              "      <th>pls</th>\n",
              "      <th>cs</th>\n",
              "      <th>tomorrow</th>\n",
              "      <th>custom</th>\n",
              "      <th>say</th>\n",
              "      <th>love</th>\n",
              "      <th>pn</th>\n",
              "      <th>morn</th>\n",
              "      <th>know</th>\n",
              "      <th>day</th>\n",
              "      <th>yeah</th>\n",
              "      <th>st</th>\n",
              "      <th>nokia</th>\n",
              "      <th>prize</th>\n",
              "      <th>one</th>\n",
              "      <th>length</th>\n",
              "    </tr>\n",
              "  </thead>\n",
              "  <tbody>\n",
              "    <tr>\n",
              "      <th>0</th>\n",
              "      <td>0</td>\n",
              "      <td>0</td>\n",
              "      <td>0</td>\n",
              "      <td>0</td>\n",
              "      <td>0</td>\n",
              "      <td>0</td>\n",
              "      <td>0</td>\n",
              "      <td>0</td>\n",
              "      <td>0</td>\n",
              "      <td>1</td>\n",
              "      <td>0</td>\n",
              "      <td>0</td>\n",
              "      <td>0</td>\n",
              "      <td>0</td>\n",
              "      <td>0</td>\n",
              "      <td>0</td>\n",
              "      <td>0</td>\n",
              "      <td>0</td>\n",
              "      <td>0</td>\n",
              "      <td>0</td>\n",
              "      <td>0</td>\n",
              "      <td>0</td>\n",
              "      <td>1</td>\n",
              "      <td>0</td>\n",
              "      <td>0</td>\n",
              "      <td>0</td>\n",
              "      <td>0</td>\n",
              "      <td>0</td>\n",
              "      <td>0</td>\n",
              "      <td>0</td>\n",
              "      <td>0</td>\n",
              "      <td>0</td>\n",
              "      <td>0</td>\n",
              "      <td>0</td>\n",
              "      <td>0</td>\n",
              "      <td>0</td>\n",
              "      <td>0</td>\n",
              "      <td>0</td>\n",
              "      <td>0</td>\n",
              "      <td>0</td>\n",
              "      <td>0</td>\n",
              "      <td>0</td>\n",
              "      <td>0</td>\n",
              "      <td>0</td>\n",
              "      <td>0</td>\n",
              "      <td>0</td>\n",
              "      <td>0</td>\n",
              "      <td>0</td>\n",
              "      <td>0</td>\n",
              "      <td>0</td>\n",
              "      <td>...</td>\n",
              "      <td>0</td>\n",
              "      <td>0</td>\n",
              "      <td>0</td>\n",
              "      <td>0</td>\n",
              "      <td>0</td>\n",
              "      <td>0</td>\n",
              "      <td>0</td>\n",
              "      <td>0</td>\n",
              "      <td>0</td>\n",
              "      <td>0</td>\n",
              "      <td>0</td>\n",
              "      <td>0</td>\n",
              "      <td>0</td>\n",
              "      <td>0</td>\n",
              "      <td>0</td>\n",
              "      <td>0</td>\n",
              "      <td>0</td>\n",
              "      <td>1</td>\n",
              "      <td>0</td>\n",
              "      <td>0</td>\n",
              "      <td>0</td>\n",
              "      <td>0</td>\n",
              "      <td>0</td>\n",
              "      <td>0</td>\n",
              "      <td>0</td>\n",
              "      <td>0</td>\n",
              "      <td>0</td>\n",
              "      <td>0</td>\n",
              "      <td>0</td>\n",
              "      <td>0</td>\n",
              "      <td>0</td>\n",
              "      <td>0</td>\n",
              "      <td>0</td>\n",
              "      <td>0</td>\n",
              "      <td>0</td>\n",
              "      <td>0</td>\n",
              "      <td>0</td>\n",
              "      <td>0</td>\n",
              "      <td>0</td>\n",
              "      <td>0</td>\n",
              "      <td>0</td>\n",
              "      <td>0</td>\n",
              "      <td>0</td>\n",
              "      <td>0</td>\n",
              "      <td>0</td>\n",
              "      <td>0</td>\n",
              "      <td>0</td>\n",
              "      <td>0</td>\n",
              "      <td>0</td>\n",
              "      <td>111</td>\n",
              "    </tr>\n",
              "    <tr>\n",
              "      <th>1</th>\n",
              "      <td>0</td>\n",
              "      <td>0</td>\n",
              "      <td>0</td>\n",
              "      <td>0</td>\n",
              "      <td>0</td>\n",
              "      <td>0</td>\n",
              "      <td>0</td>\n",
              "      <td>0</td>\n",
              "      <td>0</td>\n",
              "      <td>0</td>\n",
              "      <td>0</td>\n",
              "      <td>0</td>\n",
              "      <td>0</td>\n",
              "      <td>0</td>\n",
              "      <td>0</td>\n",
              "      <td>0</td>\n",
              "      <td>0</td>\n",
              "      <td>0</td>\n",
              "      <td>0</td>\n",
              "      <td>0</td>\n",
              "      <td>0</td>\n",
              "      <td>0</td>\n",
              "      <td>0</td>\n",
              "      <td>0</td>\n",
              "      <td>0</td>\n",
              "      <td>0</td>\n",
              "      <td>0</td>\n",
              "      <td>0</td>\n",
              "      <td>0</td>\n",
              "      <td>0</td>\n",
              "      <td>0</td>\n",
              "      <td>0</td>\n",
              "      <td>0</td>\n",
              "      <td>0</td>\n",
              "      <td>0</td>\n",
              "      <td>0</td>\n",
              "      <td>0</td>\n",
              "      <td>1</td>\n",
              "      <td>0</td>\n",
              "      <td>0</td>\n",
              "      <td>0</td>\n",
              "      <td>0</td>\n",
              "      <td>0</td>\n",
              "      <td>0</td>\n",
              "      <td>0</td>\n",
              "      <td>0</td>\n",
              "      <td>0</td>\n",
              "      <td>0</td>\n",
              "      <td>0</td>\n",
              "      <td>0</td>\n",
              "      <td>...</td>\n",
              "      <td>0</td>\n",
              "      <td>0</td>\n",
              "      <td>0</td>\n",
              "      <td>0</td>\n",
              "      <td>0</td>\n",
              "      <td>0</td>\n",
              "      <td>0</td>\n",
              "      <td>0</td>\n",
              "      <td>0</td>\n",
              "      <td>0</td>\n",
              "      <td>0</td>\n",
              "      <td>0</td>\n",
              "      <td>0</td>\n",
              "      <td>0</td>\n",
              "      <td>0</td>\n",
              "      <td>0</td>\n",
              "      <td>0</td>\n",
              "      <td>0</td>\n",
              "      <td>0</td>\n",
              "      <td>0</td>\n",
              "      <td>0</td>\n",
              "      <td>0</td>\n",
              "      <td>0</td>\n",
              "      <td>0</td>\n",
              "      <td>0</td>\n",
              "      <td>0</td>\n",
              "      <td>0</td>\n",
              "      <td>0</td>\n",
              "      <td>0</td>\n",
              "      <td>0</td>\n",
              "      <td>0</td>\n",
              "      <td>0</td>\n",
              "      <td>0</td>\n",
              "      <td>0</td>\n",
              "      <td>0</td>\n",
              "      <td>0</td>\n",
              "      <td>0</td>\n",
              "      <td>0</td>\n",
              "      <td>0</td>\n",
              "      <td>0</td>\n",
              "      <td>0</td>\n",
              "      <td>0</td>\n",
              "      <td>0</td>\n",
              "      <td>0</td>\n",
              "      <td>0</td>\n",
              "      <td>0</td>\n",
              "      <td>0</td>\n",
              "      <td>0</td>\n",
              "      <td>0</td>\n",
              "      <td>29</td>\n",
              "    </tr>\n",
              "    <tr>\n",
              "      <th>2</th>\n",
              "      <td>0</td>\n",
              "      <td>0</td>\n",
              "      <td>0</td>\n",
              "      <td>0</td>\n",
              "      <td>0</td>\n",
              "      <td>0</td>\n",
              "      <td>0</td>\n",
              "      <td>0</td>\n",
              "      <td>0</td>\n",
              "      <td>0</td>\n",
              "      <td>0</td>\n",
              "      <td>0</td>\n",
              "      <td>0</td>\n",
              "      <td>0</td>\n",
              "      <td>0</td>\n",
              "      <td>1</td>\n",
              "      <td>0</td>\n",
              "      <td>0</td>\n",
              "      <td>0</td>\n",
              "      <td>0</td>\n",
              "      <td>0</td>\n",
              "      <td>0</td>\n",
              "      <td>0</td>\n",
              "      <td>0</td>\n",
              "      <td>0</td>\n",
              "      <td>0</td>\n",
              "      <td>0</td>\n",
              "      <td>0</td>\n",
              "      <td>0</td>\n",
              "      <td>0</td>\n",
              "      <td>0</td>\n",
              "      <td>0</td>\n",
              "      <td>0</td>\n",
              "      <td>0</td>\n",
              "      <td>0</td>\n",
              "      <td>0</td>\n",
              "      <td>0</td>\n",
              "      <td>0</td>\n",
              "      <td>0</td>\n",
              "      <td>0</td>\n",
              "      <td>0</td>\n",
              "      <td>0</td>\n",
              "      <td>0</td>\n",
              "      <td>0</td>\n",
              "      <td>0</td>\n",
              "      <td>1</td>\n",
              "      <td>0</td>\n",
              "      <td>0</td>\n",
              "      <td>0</td>\n",
              "      <td>0</td>\n",
              "      <td>...</td>\n",
              "      <td>0</td>\n",
              "      <td>0</td>\n",
              "      <td>0</td>\n",
              "      <td>0</td>\n",
              "      <td>0</td>\n",
              "      <td>0</td>\n",
              "      <td>0</td>\n",
              "      <td>0</td>\n",
              "      <td>0</td>\n",
              "      <td>0</td>\n",
              "      <td>0</td>\n",
              "      <td>0</td>\n",
              "      <td>0</td>\n",
              "      <td>0</td>\n",
              "      <td>0</td>\n",
              "      <td>0</td>\n",
              "      <td>0</td>\n",
              "      <td>0</td>\n",
              "      <td>0</td>\n",
              "      <td>0</td>\n",
              "      <td>0</td>\n",
              "      <td>0</td>\n",
              "      <td>0</td>\n",
              "      <td>0</td>\n",
              "      <td>0</td>\n",
              "      <td>0</td>\n",
              "      <td>0</td>\n",
              "      <td>0</td>\n",
              "      <td>0</td>\n",
              "      <td>0</td>\n",
              "      <td>0</td>\n",
              "      <td>0</td>\n",
              "      <td>0</td>\n",
              "      <td>0</td>\n",
              "      <td>0</td>\n",
              "      <td>0</td>\n",
              "      <td>0</td>\n",
              "      <td>0</td>\n",
              "      <td>0</td>\n",
              "      <td>0</td>\n",
              "      <td>1</td>\n",
              "      <td>0</td>\n",
              "      <td>0</td>\n",
              "      <td>0</td>\n",
              "      <td>0</td>\n",
              "      <td>1</td>\n",
              "      <td>0</td>\n",
              "      <td>0</td>\n",
              "      <td>0</td>\n",
              "      <td>155</td>\n",
              "    </tr>\n",
              "    <tr>\n",
              "      <th>3</th>\n",
              "      <td>0</td>\n",
              "      <td>0</td>\n",
              "      <td>0</td>\n",
              "      <td>0</td>\n",
              "      <td>0</td>\n",
              "      <td>0</td>\n",
              "      <td>0</td>\n",
              "      <td>0</td>\n",
              "      <td>0</td>\n",
              "      <td>0</td>\n",
              "      <td>0</td>\n",
              "      <td>0</td>\n",
              "      <td>0</td>\n",
              "      <td>0</td>\n",
              "      <td>0</td>\n",
              "      <td>0</td>\n",
              "      <td>0</td>\n",
              "      <td>0</td>\n",
              "      <td>0</td>\n",
              "      <td>0</td>\n",
              "      <td>0</td>\n",
              "      <td>0</td>\n",
              "      <td>0</td>\n",
              "      <td>0</td>\n",
              "      <td>0</td>\n",
              "      <td>0</td>\n",
              "      <td>0</td>\n",
              "      <td>0</td>\n",
              "      <td>0</td>\n",
              "      <td>0</td>\n",
              "      <td>0</td>\n",
              "      <td>0</td>\n",
              "      <td>0</td>\n",
              "      <td>0</td>\n",
              "      <td>0</td>\n",
              "      <td>0</td>\n",
              "      <td>0</td>\n",
              "      <td>0</td>\n",
              "      <td>0</td>\n",
              "      <td>0</td>\n",
              "      <td>0</td>\n",
              "      <td>0</td>\n",
              "      <td>0</td>\n",
              "      <td>0</td>\n",
              "      <td>0</td>\n",
              "      <td>0</td>\n",
              "      <td>0</td>\n",
              "      <td>0</td>\n",
              "      <td>0</td>\n",
              "      <td>0</td>\n",
              "      <td>...</td>\n",
              "      <td>0</td>\n",
              "      <td>0</td>\n",
              "      <td>0</td>\n",
              "      <td>0</td>\n",
              "      <td>0</td>\n",
              "      <td>0</td>\n",
              "      <td>0</td>\n",
              "      <td>0</td>\n",
              "      <td>0</td>\n",
              "      <td>0</td>\n",
              "      <td>0</td>\n",
              "      <td>0</td>\n",
              "      <td>0</td>\n",
              "      <td>0</td>\n",
              "      <td>0</td>\n",
              "      <td>0</td>\n",
              "      <td>0</td>\n",
              "      <td>0</td>\n",
              "      <td>0</td>\n",
              "      <td>0</td>\n",
              "      <td>0</td>\n",
              "      <td>0</td>\n",
              "      <td>0</td>\n",
              "      <td>0</td>\n",
              "      <td>0</td>\n",
              "      <td>0</td>\n",
              "      <td>0</td>\n",
              "      <td>0</td>\n",
              "      <td>0</td>\n",
              "      <td>0</td>\n",
              "      <td>0</td>\n",
              "      <td>0</td>\n",
              "      <td>0</td>\n",
              "      <td>0</td>\n",
              "      <td>0</td>\n",
              "      <td>0</td>\n",
              "      <td>0</td>\n",
              "      <td>0</td>\n",
              "      <td>2</td>\n",
              "      <td>0</td>\n",
              "      <td>0</td>\n",
              "      <td>0</td>\n",
              "      <td>0</td>\n",
              "      <td>0</td>\n",
              "      <td>0</td>\n",
              "      <td>0</td>\n",
              "      <td>0</td>\n",
              "      <td>0</td>\n",
              "      <td>0</td>\n",
              "      <td>49</td>\n",
              "    </tr>\n",
              "    <tr>\n",
              "      <th>4</th>\n",
              "      <td>0</td>\n",
              "      <td>0</td>\n",
              "      <td>0</td>\n",
              "      <td>0</td>\n",
              "      <td>0</td>\n",
              "      <td>0</td>\n",
              "      <td>0</td>\n",
              "      <td>0</td>\n",
              "      <td>0</td>\n",
              "      <td>0</td>\n",
              "      <td>0</td>\n",
              "      <td>0</td>\n",
              "      <td>0</td>\n",
              "      <td>0</td>\n",
              "      <td>0</td>\n",
              "      <td>0</td>\n",
              "      <td>0</td>\n",
              "      <td>0</td>\n",
              "      <td>0</td>\n",
              "      <td>0</td>\n",
              "      <td>1</td>\n",
              "      <td>0</td>\n",
              "      <td>0</td>\n",
              "      <td>0</td>\n",
              "      <td>0</td>\n",
              "      <td>0</td>\n",
              "      <td>0</td>\n",
              "      <td>0</td>\n",
              "      <td>0</td>\n",
              "      <td>0</td>\n",
              "      <td>0</td>\n",
              "      <td>0</td>\n",
              "      <td>0</td>\n",
              "      <td>0</td>\n",
              "      <td>0</td>\n",
              "      <td>0</td>\n",
              "      <td>0</td>\n",
              "      <td>0</td>\n",
              "      <td>0</td>\n",
              "      <td>0</td>\n",
              "      <td>0</td>\n",
              "      <td>0</td>\n",
              "      <td>0</td>\n",
              "      <td>0</td>\n",
              "      <td>0</td>\n",
              "      <td>0</td>\n",
              "      <td>0</td>\n",
              "      <td>0</td>\n",
              "      <td>0</td>\n",
              "      <td>0</td>\n",
              "      <td>...</td>\n",
              "      <td>0</td>\n",
              "      <td>0</td>\n",
              "      <td>0</td>\n",
              "      <td>0</td>\n",
              "      <td>0</td>\n",
              "      <td>0</td>\n",
              "      <td>0</td>\n",
              "      <td>0</td>\n",
              "      <td>0</td>\n",
              "      <td>0</td>\n",
              "      <td>0</td>\n",
              "      <td>0</td>\n",
              "      <td>0</td>\n",
              "      <td>0</td>\n",
              "      <td>0</td>\n",
              "      <td>0</td>\n",
              "      <td>0</td>\n",
              "      <td>0</td>\n",
              "      <td>0</td>\n",
              "      <td>0</td>\n",
              "      <td>0</td>\n",
              "      <td>0</td>\n",
              "      <td>0</td>\n",
              "      <td>0</td>\n",
              "      <td>0</td>\n",
              "      <td>0</td>\n",
              "      <td>0</td>\n",
              "      <td>0</td>\n",
              "      <td>0</td>\n",
              "      <td>0</td>\n",
              "      <td>0</td>\n",
              "      <td>0</td>\n",
              "      <td>0</td>\n",
              "      <td>0</td>\n",
              "      <td>0</td>\n",
              "      <td>0</td>\n",
              "      <td>0</td>\n",
              "      <td>0</td>\n",
              "      <td>0</td>\n",
              "      <td>0</td>\n",
              "      <td>0</td>\n",
              "      <td>0</td>\n",
              "      <td>0</td>\n",
              "      <td>0</td>\n",
              "      <td>0</td>\n",
              "      <td>0</td>\n",
              "      <td>0</td>\n",
              "      <td>0</td>\n",
              "      <td>0</td>\n",
              "      <td>61</td>\n",
              "    </tr>\n",
              "  </tbody>\n",
              "</table>\n",
              "<p>5 rows × 182 columns</p>\n",
              "</div>\n",
              "      <button class=\"colab-df-convert\" onclick=\"convertToInteractive('df-538cca3b-8631-4293-87ff-d101d1371fbb')\"\n",
              "              title=\"Convert this dataframe to an interactive table.\"\n",
              "              style=\"display:none;\">\n",
              "        \n",
              "  <svg xmlns=\"http://www.w3.org/2000/svg\" height=\"24px\"viewBox=\"0 0 24 24\"\n",
              "       width=\"24px\">\n",
              "    <path d=\"M0 0h24v24H0V0z\" fill=\"none\"/>\n",
              "    <path d=\"M18.56 5.44l.94 2.06.94-2.06 2.06-.94-2.06-.94-.94-2.06-.94 2.06-2.06.94zm-11 1L8.5 8.5l.94-2.06 2.06-.94-2.06-.94L8.5 2.5l-.94 2.06-2.06.94zm10 10l.94 2.06.94-2.06 2.06-.94-2.06-.94-.94-2.06-.94 2.06-2.06.94z\"/><path d=\"M17.41 7.96l-1.37-1.37c-.4-.4-.92-.59-1.43-.59-.52 0-1.04.2-1.43.59L10.3 9.45l-7.72 7.72c-.78.78-.78 2.05 0 2.83L4 21.41c.39.39.9.59 1.41.59.51 0 1.02-.2 1.41-.59l7.78-7.78 2.81-2.81c.8-.78.8-2.07 0-2.86zM5.41 20L4 18.59l7.72-7.72 1.47 1.35L5.41 20z\"/>\n",
              "  </svg>\n",
              "      </button>\n",
              "      \n",
              "  <style>\n",
              "    .colab-df-container {\n",
              "      display:flex;\n",
              "      flex-wrap:wrap;\n",
              "      gap: 12px;\n",
              "    }\n",
              "\n",
              "    .colab-df-convert {\n",
              "      background-color: #E8F0FE;\n",
              "      border: none;\n",
              "      border-radius: 50%;\n",
              "      cursor: pointer;\n",
              "      display: none;\n",
              "      fill: #1967D2;\n",
              "      height: 32px;\n",
              "      padding: 0 0 0 0;\n",
              "      width: 32px;\n",
              "    }\n",
              "\n",
              "    .colab-df-convert:hover {\n",
              "      background-color: #E2EBFA;\n",
              "      box-shadow: 0px 1px 2px rgba(60, 64, 67, 0.3), 0px 1px 3px 1px rgba(60, 64, 67, 0.15);\n",
              "      fill: #174EA6;\n",
              "    }\n",
              "\n",
              "    [theme=dark] .colab-df-convert {\n",
              "      background-color: #3B4455;\n",
              "      fill: #D2E3FC;\n",
              "    }\n",
              "\n",
              "    [theme=dark] .colab-df-convert:hover {\n",
              "      background-color: #434B5C;\n",
              "      box-shadow: 0px 1px 3px 1px rgba(0, 0, 0, 0.15);\n",
              "      filter: drop-shadow(0px 1px 2px rgba(0, 0, 0, 0.3));\n",
              "      fill: #FFFFFF;\n",
              "    }\n",
              "  </style>\n",
              "\n",
              "      <script>\n",
              "        const buttonEl =\n",
              "          document.querySelector('#df-538cca3b-8631-4293-87ff-d101d1371fbb button.colab-df-convert');\n",
              "        buttonEl.style.display =\n",
              "          google.colab.kernel.accessAllowed ? 'block' : 'none';\n",
              "\n",
              "        async function convertToInteractive(key) {\n",
              "          const element = document.querySelector('#df-538cca3b-8631-4293-87ff-d101d1371fbb');\n",
              "          const dataTable =\n",
              "            await google.colab.kernel.invokeFunction('convertToInteractive',\n",
              "                                                     [key], {});\n",
              "          if (!dataTable) return;\n",
              "\n",
              "          const docLinkHtml = 'Like what you see? Visit the ' +\n",
              "            '<a target=\"_blank\" href=https://colab.research.google.com/notebooks/data_table.ipynb>data table notebook</a>'\n",
              "            + ' to learn more about interactive tables.';\n",
              "          element.innerHTML = '';\n",
              "          dataTable['output_type'] = 'display_data';\n",
              "          await google.colab.output.renderOutput(dataTable, element);\n",
              "          const docLink = document.createElement('div');\n",
              "          docLink.innerHTML = docLinkHtml;\n",
              "          element.appendChild(docLink);\n",
              "        }\n",
              "      </script>\n",
              "    </div>\n",
              "  </div>\n",
              "  "
            ]
          },
          "metadata": {},
          "execution_count": 154
        }
      ]
    },
    {
      "cell_type": "markdown",
      "source": [
        "# Training Models\n",
        "I will use the following models:\n",
        "\n",
        "|Model|Accuracy  test set|\n",
        "|-----|--------|\n",
        "|Naive Bayes| 95,81%|\n",
        "|Logistic Regression| 97.82%|\n",
        "|**Random Forest**| 98.42%| \n",
        "|Support Vector Classifier| 86.56%| \n",
        "|Voting Classifier |97.98%|\n",
        "\n",
        "\n",
        "\n"
      ],
      "metadata": {
        "id": "fcU2Fx-nakbb"
      }
    },
    {
      "cell_type": "code",
      "source": [
        "from sklearn.model_selection import cross_val_score\n",
        "from sklearn.naive_bayes import GaussianNB\n",
        "from sklearn.linear_model import LogisticRegression\n",
        "from sklearn.ensemble import RandomForestClassifier\n",
        "from sklearn.svm import SVC\n",
        "\n",
        "from sklearn import metrics"
      ],
      "metadata": {
        "id": "n1Ho1WrcX5Jn"
      },
      "execution_count": 155,
      "outputs": []
    },
    {
      "cell_type": "code",
      "source": [
        "def clf_metrics(classifier,model_name):\n",
        "    classifier=classifier.fit(X_train,y_train)\n",
        "    #Precision score over 2.5 and under 2.5\n",
        "    y_pred=pd.Series(classifier.predict(X_test))\n",
        "    precision_positive = metrics.precision_score(y_test, y_pred, pos_label=1)*100\n",
        "    precision_negative = metrics.precision_score(y_test, y_pred, pos_label=0)*100\n",
        "    accuracy=metrics.accuracy_score(y_test, y_pred)*100\n",
        "    print(model_name)\n",
        "    print('\\n')\n",
        "    print(f\"Precision score spam:  {precision_positive}\\nPrecision score ham:  {precision_negative}\\nAccuracy:  {accuracy}\")\n"
      ],
      "metadata": {
        "id": "pqLBf07pfaOg"
      },
      "execution_count": 156,
      "outputs": []
    },
    {
      "cell_type": "code",
      "source": [
        "#I usually use Naive Bayes as a baseline for my classification tasks \n",
        "gnb = GaussianNB()\n",
        "cv = cross_val_score(gnb,X_train,y_train,cv=5)\n",
        "print(cv)\n",
        "print(cv.mean())\n",
        "clf_metrics(gnb,'GaussianNB')"
      ],
      "metadata": {
        "colab": {
          "base_uri": "https://localhost:8080/"
        },
        "id": "-Aq6W02lbMDv",
        "outputId": "b036fc3f-6f67-42a7-d3d4-b9683fa64b4a"
      },
      "execution_count": 157,
      "outputs": [
        {
          "output_type": "stream",
          "name": "stdout",
          "text": [
            "[0.96519411 0.95046854 0.95983936 0.94504021 0.9691689 ]\n",
            "0.957942224662726\n",
            "GaussianNB\n",
            "\n",
            "\n",
            "Precision score spam:  78.33333333333333\n",
            "Precision score ham:  99.22027290448344\n",
            "Accuracy:  95.81294181620446\n"
          ]
        }
      ]
    },
    {
      "cell_type": "code",
      "source": [
        "lr = LogisticRegression(max_iter = 2000,random_state=1)\n",
        "cv = cross_val_score(lr,X_train,y_train,cv=5)\n",
        "print(cv)\n",
        "print(cv.mean())\n",
        "clf_metrics(lr,'Logistic Regression')"
      ],
      "metadata": {
        "colab": {
          "base_uri": "https://localhost:8080/"
        },
        "id": "DLhrUTj1cm6V",
        "outputId": "000e024b-7818-43bd-fe4d-3f7ed02ece81"
      },
      "execution_count": 158,
      "outputs": [
        {
          "output_type": "stream",
          "name": "stdout",
          "text": [
            "[0.97991968 0.97188755 0.98393574 0.98927614 0.98123324]\n",
            "0.9812504710531134\n",
            "Logistic Regression\n",
            "\n",
            "\n",
            "Precision score spam:  97.6958525345622\n",
            "Precision score ham:  97.84217016029592\n",
            "Accuracy:  97.82490483958674\n"
          ]
        }
      ]
    },
    {
      "cell_type": "code",
      "source": [
        "rf = RandomForestClassifier(random_state = 1)\n",
        "cv = cross_val_score(rf,X_train,y_train,cv=5)\n",
        "print(cv)\n",
        "print(cv.mean())\n",
        "clf_metrics(rf,'Random Forest')"
      ],
      "metadata": {
        "colab": {
          "base_uri": "https://localhost:8080/"
        },
        "id": "AN3D5Dmsd2b_",
        "outputId": "385baf98-a06c-4ad4-8485-d85ab49d9cbb"
      },
      "execution_count": 159,
      "outputs": [
        {
          "output_type": "stream",
          "name": "stdout",
          "text": [
            "[0.97590361 0.97858099 0.98527443 0.98391421 0.97587131]\n",
            "0.9799089117865565\n",
            "Random Forest\n",
            "\n",
            "\n",
            "Precision score spam:  98.23008849557522\n",
            "Precision score ham:  98.45009299442033\n",
            "Accuracy:  98.42305600870039\n"
          ]
        }
      ]
    },
    {
      "cell_type": "code",
      "source": [
        "svc = SVC(random_state = 1)\n",
        "cv = cross_val_score(svc,X_train,y_train,cv=5)\n",
        "print(cv)\n",
        "print(cv.mean())\n",
        "print('\\n')\n",
        "clf_metrics(svc,'Support Vector Classifier')"
      ],
      "metadata": {
        "colab": {
          "base_uri": "https://localhost:8080/"
        },
        "id": "MPrLVJExeREG",
        "outputId": "e3e0b907-5020-41c2-9754-50becbb2d4df"
      },
      "execution_count": 160,
      "outputs": [
        {
          "output_type": "stream",
          "name": "stdout",
          "text": [
            "[0.86613119 0.86613119 0.86613119 0.86595174 0.86595174]\n",
            "0.8660594119103762\n",
            "\n",
            "\n",
            "Support Vector Classifier\n",
            "\n",
            "\n",
            "Precision score spam:  0.0\n",
            "Precision score ham:  86.56878738444806\n",
            "Accuracy:  86.56878738444806\n"
          ]
        }
      ]
    },
    {
      "cell_type": "code",
      "source": [
        "#Voting classifier takes all of the inputs and averages the results. For a \"hard\" voting classifier each classifier gets 1 vote \"yes\" or \"no\" and the result is just a popular vote. For this, you generally want odd numbers\n",
        "#A \"soft\" classifier averages the confidence of each of the models. If a the average confidence is > 50% that it is a 1 it will be counted as such\n",
        "from sklearn.ensemble import VotingClassifier\n",
        "voting_clf = VotingClassifier(estimators = [('lr',lr),('rf',rf),('svc',svc)], voting = 'hard') \n",
        "cv = cross_val_score(voting_clf,X_train,y_train,cv=5)\n",
        "print(cv)\n",
        "print(cv.mean())\n",
        "clf_metrics(voting_clf,'voting classifeier')"
      ],
      "metadata": {
        "colab": {
          "base_uri": "https://localhost:8080/"
        },
        "id": "2PuD7k51xUDS",
        "outputId": "4bd1dd36-988f-46df-c1d8-60830f7dedc8"
      },
      "execution_count": 161,
      "outputs": [
        {
          "output_type": "stream",
          "name": "stdout",
          "text": [
            "[0.9772423  0.97322624 0.98393574 0.98525469 0.97453083]\n",
            "0.9788379613180156\n",
            "voting classifeier\n",
            "\n",
            "\n",
            "Precision score spam:  99.52830188679245\n",
            "Precision score ham:  97.78733866011063\n",
            "Accuracy:  97.98803697661774\n"
          ]
        }
      ]
    },
    {
      "cell_type": "markdown",
      "source": [
        "At this point before moving on I should choose the model to fit,in\n",
        "this case i will take into account only the accuracy on the test set to choose the model  (but I could also consider 'recall','precision' and others metrics),for this reason i will choose \n",
        "**Random Forest**\n"
      ],
      "metadata": {
        "id": "-OcW5R7ruTTP"
      }
    },
    {
      "cell_type": "markdown",
      "source": [
        "# Fitting the model\n",
        "\n",
        "Fitting Random Forest classifier"
      ],
      "metadata": {
        "id": "Z_MaOMSWm7ee"
      }
    },
    {
      "cell_type": "code",
      "source": [
        "clf_metrics(rf,'Random Forest')"
      ],
      "metadata": {
        "colab": {
          "base_uri": "https://localhost:8080/"
        },
        "id": "ly_I8_2pYTLX",
        "outputId": "95236a10-b5a9-40a4-c5df-fe7d01096072"
      },
      "execution_count": 162,
      "outputs": [
        {
          "output_type": "stream",
          "name": "stdout",
          "text": [
            "Random Forest\n",
            "\n",
            "\n",
            "Precision score spam:  98.23008849557522\n",
            "Precision score ham:  98.45009299442033\n",
            "Accuracy:  98.42305600870039\n"
          ]
        }
      ]
    },
    {
      "cell_type": "code",
      "source": [
        "rf.get_params()"
      ],
      "metadata": {
        "colab": {
          "base_uri": "https://localhost:8080/"
        },
        "id": "-lf1a2zRPpA_",
        "outputId": "2fd99e29-a0a1-41ad-816a-72ca46100c76"
      },
      "execution_count": 163,
      "outputs": [
        {
          "output_type": "execute_result",
          "data": {
            "text/plain": [
              "{'bootstrap': True,\n",
              " 'ccp_alpha': 0.0,\n",
              " 'class_weight': None,\n",
              " 'criterion': 'gini',\n",
              " 'max_depth': None,\n",
              " 'max_features': 'auto',\n",
              " 'max_leaf_nodes': None,\n",
              " 'max_samples': None,\n",
              " 'min_impurity_decrease': 0.0,\n",
              " 'min_samples_leaf': 1,\n",
              " 'min_samples_split': 2,\n",
              " 'min_weight_fraction_leaf': 0.0,\n",
              " 'n_estimators': 100,\n",
              " 'n_jobs': None,\n",
              " 'oob_score': False,\n",
              " 'random_state': 1,\n",
              " 'verbose': 0,\n",
              " 'warm_start': False}"
            ]
          },
          "metadata": {},
          "execution_count": 163
        }
      ]
    },
    {
      "cell_type": "code",
      "source": [
        "best_rf = rf.fit(X_train,y_train)"
      ],
      "metadata": {
        "id": "J8A3aw3sYqGg"
      },
      "execution_count": 164,
      "outputs": []
    },
    {
      "cell_type": "code",
      "source": [
        "feat_importances = pd.Series(best_rf.feature_importances_, index=X_train.columns)\n",
        "feat_importances.nlargest(20).plot(kind='barh')"
      ],
      "metadata": {
        "colab": {
          "base_uri": "https://localhost:8080/",
          "height": 283
        },
        "id": "wrhIKHN8Y8AI",
        "outputId": "68db9a8b-755a-4d17-92cd-2cedb9324b30"
      },
      "execution_count": 165,
      "outputs": [
        {
          "output_type": "execute_result",
          "data": {
            "text/plain": [
              "<matplotlib.axes._subplots.AxesSubplot at 0x7ff4cb0f62d0>"
            ]
          },
          "metadata": {},
          "execution_count": 165
        },
        {
          "output_type": "display_data",
          "data": {
            "text/plain": [
              "<Figure size 432x288 with 1 Axes>"
            ],
            "image/png": "[encoded data removed]"
          },
          "metadata": {
            "needs_background": "light"
          }
        }
      ]
    },
    {
      "cell_type": "code",
      "source": [
        "predrf=best_rf.predict(X_test)"
      ],
      "metadata": {
        "id": "jHTOTH0uU6ej"
      },
      "execution_count": 166,
      "outputs": []
    },
    {
      "cell_type": "code",
      "source": [
        "#Misclassification Error PredB365\n",
        "confusion_matrix = metrics.confusion_matrix(y_test,predrf)\n",
        "cm_display = metrics.ConfusionMatrixDisplay(confusion_matrix = confusion_matrix, display_labels = [False, True])\n",
        "cm_display.plot()\n",
        "plt.show()"
      ],
      "metadata": {
        "colab": {
          "base_uri": "https://localhost:8080/",
          "height": 279
        },
        "id": "U24UzPf8Uwlt",
        "outputId": "75d9e793-e56e-4436-d6d7-cd2fc5e8bfec"
      },
      "execution_count": 167,
      "outputs": [
        {
          "output_type": "display_data",
          "data": {
            "text/plain": [
              "<Figure size 432x288 with 2 Axes>"
            ],
            "image/png": "[encoded data removed]"
          },
          "metadata": {
            "needs_background": "light"
          }
        }
      ]
    },
    {
      "cell_type": "markdown",
      "source": [
        "# Saving model with pickle\n",
        "\n",
        "Pickle is the standard way of serializing objects in Python.\n",
        "\n",
        "We can use the pickle operation to serialize our machine learning algorithms and save the serialized format to a file."
      ],
      "metadata": {
        "id": "-DtoaZi4KxKG"
      }
    },
    {
      "cell_type": "code",
      "source": [
        "import pickle"
      ],
      "metadata": {
        "id": "YndQudvzL1YY"
      },
      "execution_count": 168,
      "outputs": []
    },
    {
      "cell_type": "code",
      "source": [
        "# save the model (98.20 % accuracy) to disk\n",
        "filename = 'spam_classifier_model.sav'\n",
        "pickle.dump(best_rf, open(filename, 'wb'))\n"
      ],
      "metadata": {
        "id": "2JlHPQ-kKwlN"
      },
      "execution_count": 169,
      "outputs": []
    },
    {
      "cell_type": "code",
      "source": [
        "#save also the columns useful for the data\n",
        "col=X.columns\n",
        "with open('columns.sav', 'wb') as f:    #Pickling\n",
        "     pickle.dump(col, f)"
      ],
      "metadata": {
        "id": "To1_kAnpM1Z5"
      },
      "execution_count": 170,
      "outputs": []
    },
    {
      "cell_type": "code",
      "source": [
        "with open(\"columns.sav\", \"rb\") as fp:   #Unpickling\n",
        "    cl = pickle.load(fp)\n"
      ],
      "metadata": {
        "id": "oPHrB54qOIhs"
      },
      "execution_count": 171,
      "outputs": []
    },
    {
      "cell_type": "code",
      "source": [
        "'''\n",
        "# load the model from disk\n",
        "loaded_model = pickle.load(open(filename, 'rb'))\n",
        "result = loaded_model.score(X_test, Y_test)\n",
        "print(result) \n",
        "'''"
      ],
      "metadata": {
        "colab": {
          "base_uri": "https://localhost:8080/",
          "height": 55
        },
        "id": "AKMrb3N0Mn26",
        "outputId": "d85ef114-b832-4381-cc9c-9d13d5405fb1"
      },
      "execution_count": 172,
      "outputs": [
        {
          "output_type": "execute_result",
          "data": {
            "text/plain": [
              "\"\\n# load the model from disk\\nloaded_model = pickle.load(open(filename, 'rb'))\\nresult = loaded_model.score(X_test, Y_test)\\nprint(result) \\n\""
            ],
            "application/vnd.google.colaboratory.intrinsic+json": {
              "type": "string"
            }
          },
          "metadata": {},
          "execution_count": 172
        }
      ]
    },
    {
      "cell_type": "markdown",
      "source": [
        "# Deploying model\n",
        "\n",
        "With this step i want to enclose the code to use the model\n",
        "- We will ask to the user to provide an email to classify\n",
        "- The we will perform a cleaning of the text\n",
        "- we will use a bag of word created before\n",
        "- then we will count the frequency\n",
        "- at the end we will predict the class of the email :\n",
        " - 1 spam\n",
        " - 0 ham"
      ],
      "metadata": {
        "id": "-DTr8jgVZEPH"
      }
    },
    {
      "cell_type": "markdown",
      "source": [
        "## Entering text"
      ],
      "metadata": {
        "id": "SWD3qDQrREDw"
      }
    },
    {
      "cell_type": "code",
      "source": [
        "#email=input(\"Enter your email to classify if it is spam or not: \")\n",
        "email='Hello my name is Giuseppe and i am glad to meet you'"
      ],
      "metadata": {
        "id": "Z5oWxcrfY74s"
      },
      "execution_count": 173,
      "outputs": []
    },
    {
      "cell_type": "markdown",
      "source": [
        "# Cleaning text"
      ],
      "metadata": {
        "id": "5N_hT9hLIFpn"
      }
    },
    {
      "cell_type": "code",
      "source": [
        "data=pd.DataFrame(data={\"Message\":[email]})"
      ],
      "metadata": {
        "id": "b4TRwTRUBPLH"
      },
      "execution_count": 174,
      "outputs": []
    },
    {
      "cell_type": "code",
      "source": [
        "# Replace email address with 'emailaddress'\n",
        "\n",
        "data['Message'] = data['Message'].str.replace(r\"[\\w.+-]+@[\\w-]+\\.[\\w.-]+\", '  em  ')\n",
        "\n",
        "# Replace urls with 'webaddress'\n",
        "data['Message'] = data['Message'].str.replace(r'(http|ftp|https):\\/\\/([\\w_-]+(?:(?:\\.[\\w_-]+)+))([\\w.,@?^=%&:\\/~+#-]*[\\w@?^=%&\\/~+#-])', '  wb ')\n",
        "\n",
        "# Replace money symbol with 'money-symbol'\n",
        "data['Message'] = data['Message'].str.replace(r'£|\\$', '  ms  ')\n",
        "\n",
        "# Replace 10 digit phone number with 'phone-number'\n",
        "data['Message'] = data['Message'].str.replace(r'(\\d{3}\\d{3}\\d{4})', '  pn  ' )\n",
        "\n",
        "# Replace normal number with 'number'\n",
        "data['Message'] = data['Message'].str.replace(r'\\d+(\\.\\d+)?', '  n  ')\n",
        "\n",
        "# remove punctuation\n",
        "data['Message'] = data['Message'].str.replace(r'[^\\w\\d\\s]', ' ')\n",
        "\n",
        "# remove whitespace between terms with single space\n",
        "data['Message'] = data['Message'].str.replace(r'\\s+', ' ')\n",
        "\n",
        "# remove leading and trailing whitespace\n",
        "data['Message'] = data['Message'].str.replace(r'^\\s+|\\s*?$', ' ')\n",
        "\n",
        "# change words to lower case\n",
        "data['Message'] = data['Message'].str.lower()"
      ],
      "metadata": {
        "id": "G3SXwvYXBvgZ"
      },
      "execution_count": 175,
      "outputs": []
    },
    {
      "cell_type": "code",
      "source": [
        "data.head()"
      ],
      "metadata": {
        "colab": {
          "base_uri": "https://localhost:8080/",
          "height": 81
        },
        "id": "kgwDmOuQ94Xy",
        "outputId": "da108519-9af4-44d3-e680-0564dd84df01"
      },
      "execution_count": 176,
      "outputs": [
        {
          "output_type": "execute_result",
          "data": {
            "text/plain": [
              "                                             Message\n",
              "0  hello my name is giuseppe and i am glad to mee..."
            ],
            "text/html": [
              "\n",
              "  <div id=\"df-903518bc-0fe1-4a3b-901b-1e7d66f2966d\">\n",
              "    <div class=\"colab-df-container\">\n",
              "      <div>\n",
              "<style scoped>\n",
              "    .dataframe tbody tr th:only-of-type {\n",
              "        vertical-align: middle;\n",
              "    }\n",
              "\n",
              "    .dataframe tbody tr th {\n",
              "        vertical-align: top;\n",
              "    }\n",
              "\n",
              "    .dataframe thead th {\n",
              "        text-align: right;\n",
              "    }\n",
              "</style>\n",
              "<table border=\"1\" class=\"dataframe\">\n",
              "  <thead>\n",
              "    <tr style=\"text-align: right;\">\n",
              "      <th></th>\n",
              "      <th>Message</th>\n",
              "    </tr>\n",
              "  </thead>\n",
              "  <tbody>\n",
              "    <tr>\n",
              "      <th>0</th>\n",
              "      <td>hello my name is giuseppe and i am glad to mee...</td>\n",
              "    </tr>\n",
              "  </tbody>\n",
              "</table>\n",
              "</div>\n",
              "      <button class=\"colab-df-convert\" onclick=\"convertToInteractive('df-903518bc-0fe1-4a3b-901b-1e7d66f2966d')\"\n",
              "              title=\"Convert this dataframe to an interactive table.\"\n",
              "              style=\"display:none;\">\n",
              "        \n",
              "  <svg xmlns=\"http://www.w3.org/2000/svg\" height=\"24px\"viewBox=\"0 0 24 24\"\n",
              "       width=\"24px\">\n",
              "    <path d=\"M0 0h24v24H0V0z\" fill=\"none\"/>\n",
              "    <path d=\"M18.56 5.44l.94 2.06.94-2.06 2.06-.94-2.06-.94-.94-2.06-.94 2.06-2.06.94zm-11 1L8.5 8.5l.94-2.06 2.06-.94-2.06-.94L8.5 2.5l-.94 2.06-2.06.94zm10 10l.94 2.06.94-2.06 2.06-.94-2.06-.94-.94-2.06-.94 2.06-2.06.94z\"/><path d=\"M17.41 7.96l-1.37-1.37c-.4-.4-.92-.59-1.43-.59-.52 0-1.04.2-1.43.59L10.3 9.45l-7.72 7.72c-.78.78-.78 2.05 0 2.83L4 21.41c.39.39.9.59 1.41.59.51 0 1.02-.2 1.41-.59l7.78-7.78 2.81-2.81c.8-.78.8-2.07 0-2.86zM5.41 20L4 18.59l7.72-7.72 1.47 1.35L5.41 20z\"/>\n",
              "  </svg>\n",
              "      </button>\n",
              "      \n",
              "  <style>\n",
              "    .colab-df-container {\n",
              "      display:flex;\n",
              "      flex-wrap:wrap;\n",
              "      gap: 12px;\n",
              "    }\n",
              "\n",
              "    .colab-df-convert {\n",
              "      background-color: #E8F0FE;\n",
              "      border: none;\n",
              "      border-radius: 50%;\n",
              "      cursor: pointer;\n",
              "      display: none;\n",
              "      fill: #1967D2;\n",
              "      height: 32px;\n",
              "      padding: 0 0 0 0;\n",
              "      width: 32px;\n",
              "    }\n",
              "\n",
              "    .colab-df-convert:hover {\n",
              "      background-color: #E2EBFA;\n",
              "      box-shadow: 0px 1px 2px rgba(60, 64, 67, 0.3), 0px 1px 3px 1px rgba(60, 64, 67, 0.15);\n",
              "      fill: #174EA6;\n",
              "    }\n",
              "\n",
              "    [theme=dark] .colab-df-convert {\n",
              "      background-color: #3B4455;\n",
              "      fill: #D2E3FC;\n",
              "    }\n",
              "\n",
              "    [theme=dark] .colab-df-convert:hover {\n",
              "      background-color: #434B5C;\n",
              "      box-shadow: 0px 1px 3px 1px rgba(0, 0, 0, 0.15);\n",
              "      filter: drop-shadow(0px 1px 2px rgba(0, 0, 0, 0.3));\n",
              "      fill: #FFFFFF;\n",
              "    }\n",
              "  </style>\n",
              "\n",
              "      <script>\n",
              "        const buttonEl =\n",
              "          document.querySelector('#df-903518bc-0fe1-4a3b-901b-1e7d66f2966d button.colab-df-convert');\n",
              "        buttonEl.style.display =\n",
              "          google.colab.kernel.accessAllowed ? 'block' : 'none';\n",
              "\n",
              "        async function convertToInteractive(key) {\n",
              "          const element = document.querySelector('#df-903518bc-0fe1-4a3b-901b-1e7d66f2966d');\n",
              "          const dataTable =\n",
              "            await google.colab.kernel.invokeFunction('convertToInteractive',\n",
              "                                                     [key], {});\n",
              "          if (!dataTable) return;\n",
              "\n",
              "          const docLinkHtml = 'Like what you see? Visit the ' +\n",
              "            '<a target=\"_blank\" href=https://colab.research.google.com/notebooks/data_table.ipynb>data table notebook</a>'\n",
              "            + ' to learn more about interactive tables.';\n",
              "          element.innerHTML = '';\n",
              "          dataTable['output_type'] = 'display_data';\n",
              "          await google.colab.output.renderOutput(dataTable, element);\n",
              "          const docLink = document.createElement('div');\n",
              "          docLink.innerHTML = docLinkHtml;\n",
              "          element.appendChild(docLink);\n",
              "        }\n",
              "      </script>\n",
              "    </div>\n",
              "  </div>\n",
              "  "
            ]
          },
          "metadata": {},
          "execution_count": 176
        }
      ]
    },
    {
      "cell_type": "code",
      "source": [
        "import nltk\n",
        "nltk.download('stopwords')"
      ],
      "metadata": {
        "colab": {
          "base_uri": "https://localhost:8080/"
        },
        "id": "jYK8I0uBHrL0",
        "outputId": "359e9c6d-0c0a-4027-eaf2-c54b8bee0ec0"
      },
      "execution_count": 177,
      "outputs": [
        {
          "output_type": "stream",
          "name": "stderr",
          "text": [
            "[nltk_data] Downloading package stopwords to /root/nltk_data...\n",
            "[nltk_data]   Package stopwords is already up-to-date!\n"
          ]
        },
        {
          "output_type": "execute_result",
          "data": {
            "text/plain": [
              "True"
            ]
          },
          "metadata": {},
          "execution_count": 177
        }
      ]
    },
    {
      "cell_type": "code",
      "source": [
        "from nltk.corpus import stopwords\n",
        "stop_words = set(stopwords.words('english'))\n",
        "data['Message'] = data['Message'].apply(lambda x: ' '.join(term for term in x.split() if term not in stop_words))"
      ],
      "metadata": {
        "id": "mJN6BTwXHrtU"
      },
      "execution_count": 178,
      "outputs": []
    },
    {
      "cell_type": "code",
      "source": [
        "ss = nltk.SnowballStemmer(\"english\")\n",
        "data['Message'] = data['Message'].apply(lambda x: ' '.join(ss.stem(term) for term in x.split()))"
      ],
      "metadata": {
        "id": "Ye86MhkaH7Ac"
      },
      "execution_count": 179,
      "outputs": []
    },
    {
      "cell_type": "code",
      "source": [
        "data.head()"
      ],
      "metadata": {
        "colab": {
          "base_uri": "https://localhost:8080/",
          "height": 81
        },
        "id": "T-BKAJgTWVDt",
        "outputId": "da097dad-779f-449e-a31b-e9f8dbfa0b23"
      },
      "execution_count": 180,
      "outputs": [
        {
          "output_type": "execute_result",
          "data": {
            "text/plain": [
              "                        Message\n",
              "0  hello name giusepp glad meet"
            ],
            "text/html": [
              "\n",
              "  <div id=\"df-0f6b9b26-6a1f-4ad4-ab05-d5d9bd7d63fd\">\n",
              "    <div class=\"colab-df-container\">\n",
              "      <div>\n",
              "<style scoped>\n",
              "    .dataframe tbody tr th:only-of-type {\n",
              "        vertical-align: middle;\n",
              "    }\n",
              "\n",
              "    .dataframe tbody tr th {\n",
              "        vertical-align: top;\n",
              "    }\n",
              "\n",
              "    .dataframe thead th {\n",
              "        text-align: right;\n",
              "    }\n",
              "</style>\n",
              "<table border=\"1\" class=\"dataframe\">\n",
              "  <thead>\n",
              "    <tr style=\"text-align: right;\">\n",
              "      <th></th>\n",
              "      <th>Message</th>\n",
              "    </tr>\n",
              "  </thead>\n",
              "  <tbody>\n",
              "    <tr>\n",
              "      <th>0</th>\n",
              "      <td>hello name giusepp glad meet</td>\n",
              "    </tr>\n",
              "  </tbody>\n",
              "</table>\n",
              "</div>\n",
              "      <button class=\"colab-df-convert\" onclick=\"convertToInteractive('df-0f6b9b26-6a1f-4ad4-ab05-d5d9bd7d63fd')\"\n",
              "              title=\"Convert this dataframe to an interactive table.\"\n",
              "              style=\"display:none;\">\n",
              "        \n",
              "  <svg xmlns=\"http://www.w3.org/2000/svg\" height=\"24px\"viewBox=\"0 0 24 24\"\n",
              "       width=\"24px\">\n",
              "    <path d=\"M0 0h24v24H0V0z\" fill=\"none\"/>\n",
              "    <path d=\"M18.56 5.44l.94 2.06.94-2.06 2.06-.94-2.06-.94-.94-2.06-.94 2.06-2.06.94zm-11 1L8.5 8.5l.94-2.06 2.06-.94-2.06-.94L8.5 2.5l-.94 2.06-2.06.94zm10 10l.94 2.06.94-2.06 2.06-.94-2.06-.94-.94-2.06-.94 2.06-2.06.94z\"/><path d=\"M17.41 7.96l-1.37-1.37c-.4-.4-.92-.59-1.43-.59-.52 0-1.04.2-1.43.59L10.3 9.45l-7.72 7.72c-.78.78-.78 2.05 0 2.83L4 21.41c.39.39.9.59 1.41.59.51 0 1.02-.2 1.41-.59l7.78-7.78 2.81-2.81c.8-.78.8-2.07 0-2.86zM5.41 20L4 18.59l7.72-7.72 1.47 1.35L5.41 20z\"/>\n",
              "  </svg>\n",
              "      </button>\n",
              "      \n",
              "  <style>\n",
              "    .colab-df-container {\n",
              "      display:flex;\n",
              "      flex-wrap:wrap;\n",
              "      gap: 12px;\n",
              "    }\n",
              "\n",
              "    .colab-df-convert {\n",
              "      background-color: #E8F0FE;\n",
              "      border: none;\n",
              "      border-radius: 50%;\n",
              "      cursor: pointer;\n",
              "      display: none;\n",
              "      fill: #1967D2;\n",
              "      height: 32px;\n",
              "      padding: 0 0 0 0;\n",
              "      width: 32px;\n",
              "    }\n",
              "\n",
              "    .colab-df-convert:hover {\n",
              "      background-color: #E2EBFA;\n",
              "      box-shadow: 0px 1px 2px rgba(60, 64, 67, 0.3), 0px 1px 3px 1px rgba(60, 64, 67, 0.15);\n",
              "      fill: #174EA6;\n",
              "    }\n",
              "\n",
              "    [theme=dark] .colab-df-convert {\n",
              "      background-color: #3B4455;\n",
              "      fill: #D2E3FC;\n",
              "    }\n",
              "\n",
              "    [theme=dark] .colab-df-convert:hover {\n",
              "      background-color: #434B5C;\n",
              "      box-shadow: 0px 1px 3px 1px rgba(0, 0, 0, 0.15);\n",
              "      filter: drop-shadow(0px 1px 2px rgba(0, 0, 0, 0.3));\n",
              "      fill: #FFFFFF;\n",
              "    }\n",
              "  </style>\n",
              "\n",
              "      <script>\n",
              "        const buttonEl =\n",
              "          document.querySelector('#df-0f6b9b26-6a1f-4ad4-ab05-d5d9bd7d63fd button.colab-df-convert');\n",
              "        buttonEl.style.display =\n",
              "          google.colab.kernel.accessAllowed ? 'block' : 'none';\n",
              "\n",
              "        async function convertToInteractive(key) {\n",
              "          const element = document.querySelector('#df-0f6b9b26-6a1f-4ad4-ab05-d5d9bd7d63fd');\n",
              "          const dataTable =\n",
              "            await google.colab.kernel.invokeFunction('convertToInteractive',\n",
              "                                                     [key], {});\n",
              "          if (!dataTable) return;\n",
              "\n",
              "          const docLinkHtml = 'Like what you see? Visit the ' +\n",
              "            '<a target=\"_blank\" href=https://colab.research.google.com/notebooks/data_table.ipynb>data table notebook</a>'\n",
              "            + ' to learn more about interactive tables.';\n",
              "          element.innerHTML = '';\n",
              "          dataTable['output_type'] = 'display_data';\n",
              "          await google.colab.output.renderOutput(dataTable, element);\n",
              "          const docLink = document.createElement('div');\n",
              "          docLink.innerHTML = docLinkHtml;\n",
              "          element.appendChild(docLink);\n",
              "        }\n",
              "      </script>\n",
              "    </div>\n",
              "  </div>\n",
              "  "
            ]
          },
          "metadata": {},
          "execution_count": 180
        }
      ]
    },
    {
      "cell_type": "markdown",
      "source": [
        "## Preparing dataset to be provided to the model"
      ],
      "metadata": {
        "id": "35cVPdMgdZJ8"
      }
    },
    {
      "cell_type": "code",
      "source": [
        "#Loading columns for model and create dataframe for the model\n",
        "cl = pickle.load(open('columns.sav', 'rb'))\n",
        "newdata = pd.DataFrame(0, index=np.arange(len(data)), columns=cl)\n",
        "print(newdata.shape)\n",
        "newdata.head()"
      ],
      "metadata": {
        "colab": {
          "base_uri": "https://localhost:8080/",
          "height": 193
        },
        "id": "fWopb6yuYDbN",
        "outputId": "4b14481e-acce-4d0a-e476-feda990ec4c9"
      },
      "execution_count": 181,
      "outputs": [
        {
          "output_type": "stream",
          "name": "stdout",
          "text": [
            "(1, 182)\n"
          ]
        },
        {
          "output_type": "execute_result",
          "data": {
            "text/plain": [
              "   game  hrs  sleep  cash  rington  dear  last  sms  lol  got  give  buy  \\\n",
              "0     0    0      0     0        0     0     0    0    0    0     0    0   \n",
              "\n",
              "   later  guarante  much  win  send  await  thank  happi  live  po  go  \\\n",
              "0      0         0     0    0     0      0      0      0     0   0   0   \n",
              "\n",
              "   urgent  back  club  thing  show  pleas  award  meet  cos  pic  need  \\\n",
              "0       0     0     0      0     0      0      0     0    0    0     0   \n",
              "\n",
              "   finish  per  nation  ok  home  network  right  said  pm  good  orang  \\\n",
              "0       0    0       0   0     0        0      0     0   0     0      0   \n",
              "\n",
              "   appli  ms  ask  valid  lor  ...  servic  care  life  night  poli  dont  \\\n",
              "0      0   0    0      0    0  ...       0     0     0      0     0     0   \n",
              "\n",
              "   com  call  ur  landlin  video  phone  date  help  leav  latest  code  wat  \\\n",
              "0    0     0   0        0      0      0     0     0     0       0     0    0   \n",
              "\n",
              "   tell  collect  line  land  miss  ppm  gud  special  camera  word  charg  \\\n",
              "0     0        0     0     0     0    0    0        0       0     0      0   \n",
              "\n",
              "   hope  msg  well  gt  amp  pls  cs  tomorrow  custom  say  love  pn  morn  \\\n",
              "0     0    0     0   0    0    0   0         0       0    0     0   0     0   \n",
              "\n",
              "   know  day  yeah  st  nokia  prize  one  length  \n",
              "0     0    0     0   0      0      0    0       0  \n",
              "\n",
              "[1 rows x 182 columns]"
            ],
            "text/html": [
              "\n",
              "  <div id=\"df-a4d84fd5-ed9c-4b1c-abc7-534610c847c4\">\n",
              "    <div class=\"colab-df-container\">\n",
              "      <div>\n",
              "<style scoped>\n",
              "    .dataframe tbody tr th:only-of-type {\n",
              "        vertical-align: middle;\n",
              "    }\n",
              "\n",
              "    .dataframe tbody tr th {\n",
              "        vertical-align: top;\n",
              "    }\n",
              "\n",
              "    .dataframe thead th {\n",
              "        text-align: right;\n",
              "    }\n",
              "</style>\n",
              "<table border=\"1\" class=\"dataframe\">\n",
              "  <thead>\n",
              "    <tr style=\"text-align: right;\">\n",
              "      <th></th>\n",
              "      <th>game</th>\n",
              "      <th>hrs</th>\n",
              "      <th>sleep</th>\n",
              "      <th>cash</th>\n",
              "      <th>rington</th>\n",
              "      <th>dear</th>\n",
              "      <th>last</th>\n",
              "      <th>sms</th>\n",
              "      <th>lol</th>\n",
              "      <th>got</th>\n",
              "      <th>give</th>\n",
              "      <th>buy</th>\n",
              "      <th>later</th>\n",
              "      <th>guarante</th>\n",
              "      <th>much</th>\n",
              "      <th>win</th>\n",
              "      <th>send</th>\n",
              "      <th>await</th>\n",
              "      <th>thank</th>\n",
              "      <th>happi</th>\n",
              "      <th>live</th>\n",
              "      <th>po</th>\n",
              "      <th>go</th>\n",
              "      <th>urgent</th>\n",
              "      <th>back</th>\n",
              "      <th>club</th>\n",
              "      <th>thing</th>\n",
              "      <th>show</th>\n",
              "      <th>pleas</th>\n",
              "      <th>award</th>\n",
              "      <th>meet</th>\n",
              "      <th>cos</th>\n",
              "      <th>pic</th>\n",
              "      <th>need</th>\n",
              "      <th>finish</th>\n",
              "      <th>per</th>\n",
              "      <th>nation</th>\n",
              "      <th>ok</th>\n",
              "      <th>home</th>\n",
              "      <th>network</th>\n",
              "      <th>right</th>\n",
              "      <th>said</th>\n",
              "      <th>pm</th>\n",
              "      <th>good</th>\n",
              "      <th>orang</th>\n",
              "      <th>appli</th>\n",
              "      <th>ms</th>\n",
              "      <th>ask</th>\n",
              "      <th>valid</th>\n",
              "      <th>lor</th>\n",
              "      <th>...</th>\n",
              "      <th>servic</th>\n",
              "      <th>care</th>\n",
              "      <th>life</th>\n",
              "      <th>night</th>\n",
              "      <th>poli</th>\n",
              "      <th>dont</th>\n",
              "      <th>com</th>\n",
              "      <th>call</th>\n",
              "      <th>ur</th>\n",
              "      <th>landlin</th>\n",
              "      <th>video</th>\n",
              "      <th>phone</th>\n",
              "      <th>date</th>\n",
              "      <th>help</th>\n",
              "      <th>leav</th>\n",
              "      <th>latest</th>\n",
              "      <th>code</th>\n",
              "      <th>wat</th>\n",
              "      <th>tell</th>\n",
              "      <th>collect</th>\n",
              "      <th>line</th>\n",
              "      <th>land</th>\n",
              "      <th>miss</th>\n",
              "      <th>ppm</th>\n",
              "      <th>gud</th>\n",
              "      <th>special</th>\n",
              "      <th>camera</th>\n",
              "      <th>word</th>\n",
              "      <th>charg</th>\n",
              "      <th>hope</th>\n",
              "      <th>msg</th>\n",
              "      <th>well</th>\n",
              "      <th>gt</th>\n",
              "      <th>amp</th>\n",
              "      <th>pls</th>\n",
              "      <th>cs</th>\n",
              "      <th>tomorrow</th>\n",
              "      <th>custom</th>\n",
              "      <th>say</th>\n",
              "      <th>love</th>\n",
              "      <th>pn</th>\n",
              "      <th>morn</th>\n",
              "      <th>know</th>\n",
              "      <th>day</th>\n",
              "      <th>yeah</th>\n",
              "      <th>st</th>\n",
              "      <th>nokia</th>\n",
              "      <th>prize</th>\n",
              "      <th>one</th>\n",
              "      <th>length</th>\n",
              "    </tr>\n",
              "  </thead>\n",
              "  <tbody>\n",
              "    <tr>\n",
              "      <th>0</th>\n",
              "      <td>0</td>\n",
              "      <td>0</td>\n",
              "      <td>0</td>\n",
              "      <td>0</td>\n",
              "      <td>0</td>\n",
              "      <td>0</td>\n",
              "      <td>0</td>\n",
              "      <td>0</td>\n",
              "      <td>0</td>\n",
              "      <td>0</td>\n",
              "      <td>0</td>\n",
              "      <td>0</td>\n",
              "      <td>0</td>\n",
              "      <td>0</td>\n",
              "      <td>0</td>\n",
              "      <td>0</td>\n",
              "      <td>0</td>\n",
              "      <td>0</td>\n",
              "      <td>0</td>\n",
              "      <td>0</td>\n",
              "      <td>0</td>\n",
              "      <td>0</td>\n",
              "      <td>0</td>\n",
              "      <td>0</td>\n",
              "      <td>0</td>\n",
              "      <td>0</td>\n",
              "      <td>0</td>\n",
              "      <td>0</td>\n",
              "      <td>0</td>\n",
              "      <td>0</td>\n",
              "      <td>0</td>\n",
              "      <td>0</td>\n",
              "      <td>0</td>\n",
              "      <td>0</td>\n",
              "      <td>0</td>\n",
              "      <td>0</td>\n",
              "      <td>0</td>\n",
              "      <td>0</td>\n",
              "      <td>0</td>\n",
              "      <td>0</td>\n",
              "      <td>0</td>\n",
              "      <td>0</td>\n",
              "      <td>0</td>\n",
              "      <td>0</td>\n",
              "      <td>0</td>\n",
              "      <td>0</td>\n",
              "      <td>0</td>\n",
              "      <td>0</td>\n",
              "      <td>0</td>\n",
              "      <td>0</td>\n",
              "      <td>...</td>\n",
              "      <td>0</td>\n",
              "      <td>0</td>\n",
              "      <td>0</td>\n",
              "      <td>0</td>\n",
              "      <td>0</td>\n",
              "      <td>0</td>\n",
              "      <td>0</td>\n",
              "      <td>0</td>\n",
              "      <td>0</td>\n",
              "      <td>0</td>\n",
              "      <td>0</td>\n",
              "      <td>0</td>\n",
              "      <td>0</td>\n",
              "      <td>0</td>\n",
              "      <td>0</td>\n",
              "      <td>0</td>\n",
              "      <td>0</td>\n",
              "      <td>0</td>\n",
              "      <td>0</td>\n",
              "      <td>0</td>\n",
              "      <td>0</td>\n",
              "      <td>0</td>\n",
              "      <td>0</td>\n",
              "      <td>0</td>\n",
              "      <td>0</td>\n",
              "      <td>0</td>\n",
              "      <td>0</td>\n",
              "      <td>0</td>\n",
              "      <td>0</td>\n",
              "      <td>0</td>\n",
              "      <td>0</td>\n",
              "      <td>0</td>\n",
              "      <td>0</td>\n",
              "      <td>0</td>\n",
              "      <td>0</td>\n",
              "      <td>0</td>\n",
              "      <td>0</td>\n",
              "      <td>0</td>\n",
              "      <td>0</td>\n",
              "      <td>0</td>\n",
              "      <td>0</td>\n",
              "      <td>0</td>\n",
              "      <td>0</td>\n",
              "      <td>0</td>\n",
              "      <td>0</td>\n",
              "      <td>0</td>\n",
              "      <td>0</td>\n",
              "      <td>0</td>\n",
              "      <td>0</td>\n",
              "      <td>0</td>\n",
              "    </tr>\n",
              "  </tbody>\n",
              "</table>\n",
              "<p>1 rows × 182 columns</p>\n",
              "</div>\n",
              "      <button class=\"colab-df-convert\" onclick=\"convertToInteractive('df-a4d84fd5-ed9c-4b1c-abc7-534610c847c4')\"\n",
              "              title=\"Convert this dataframe to an interactive table.\"\n",
              "              style=\"display:none;\">\n",
              "        \n",
              "  <svg xmlns=\"http://www.w3.org/2000/svg\" height=\"24px\"viewBox=\"0 0 24 24\"\n",
              "       width=\"24px\">\n",
              "    <path d=\"M0 0h24v24H0V0z\" fill=\"none\"/>\n",
              "    <path d=\"M18.56 5.44l.94 2.06.94-2.06 2.06-.94-2.06-.94-.94-2.06-.94 2.06-2.06.94zm-11 1L8.5 8.5l.94-2.06 2.06-.94-2.06-.94L8.5 2.5l-.94 2.06-2.06.94zm10 10l.94 2.06.94-2.06 2.06-.94-2.06-.94-.94-2.06-.94 2.06-2.06.94z\"/><path d=\"M17.41 7.96l-1.37-1.37c-.4-.4-.92-.59-1.43-.59-.52 0-1.04.2-1.43.59L10.3 9.45l-7.72 7.72c-.78.78-.78 2.05 0 2.83L4 21.41c.39.39.9.59 1.41.59.51 0 1.02-.2 1.41-.59l7.78-7.78 2.81-2.81c.8-.78.8-2.07 0-2.86zM5.41 20L4 18.59l7.72-7.72 1.47 1.35L5.41 20z\"/>\n",
              "  </svg>\n",
              "      </button>\n",
              "      \n",
              "  <style>\n",
              "    .colab-df-container {\n",
              "      display:flex;\n",
              "      flex-wrap:wrap;\n",
              "      gap: 12px;\n",
              "    }\n",
              "\n",
              "    .colab-df-convert {\n",
              "      background-color: #E8F0FE;\n",
              "      border: none;\n",
              "      border-radius: 50%;\n",
              "      cursor: pointer;\n",
              "      display: none;\n",
              "      fill: #1967D2;\n",
              "      height: 32px;\n",
              "      padding: 0 0 0 0;\n",
              "      width: 32px;\n",
              "    }\n",
              "\n",
              "    .colab-df-convert:hover {\n",
              "      background-color: #E2EBFA;\n",
              "      box-shadow: 0px 1px 2px rgba(60, 64, 67, 0.3), 0px 1px 3px 1px rgba(60, 64, 67, 0.15);\n",
              "      fill: #174EA6;\n",
              "    }\n",
              "\n",
              "    [theme=dark] .colab-df-convert {\n",
              "      background-color: #3B4455;\n",
              "      fill: #D2E3FC;\n",
              "    }\n",
              "\n",
              "    [theme=dark] .colab-df-convert:hover {\n",
              "      background-color: #434B5C;\n",
              "      box-shadow: 0px 1px 3px 1px rgba(0, 0, 0, 0.15);\n",
              "      filter: drop-shadow(0px 1px 2px rgba(0, 0, 0, 0.3));\n",
              "      fill: #FFFFFF;\n",
              "    }\n",
              "  </style>\n",
              "\n",
              "      <script>\n",
              "        const buttonEl =\n",
              "          document.querySelector('#df-a4d84fd5-ed9c-4b1c-abc7-534610c847c4 button.colab-df-convert');\n",
              "        buttonEl.style.display =\n",
              "          google.colab.kernel.accessAllowed ? 'block' : 'none';\n",
              "\n",
              "        async function convertToInteractive(key) {\n",
              "          const element = document.querySelector('#df-a4d84fd5-ed9c-4b1c-abc7-534610c847c4');\n",
              "          const dataTable =\n",
              "            await google.colab.kernel.invokeFunction('convertToInteractive',\n",
              "                                                     [key], {});\n",
              "          if (!dataTable) return;\n",
              "\n",
              "          const docLinkHtml = 'Like what you see? Visit the ' +\n",
              "            '<a target=\"_blank\" href=https://colab.research.google.com/notebooks/data_table.ipynb>data table notebook</a>'\n",
              "            + ' to learn more about interactive tables.';\n",
              "          element.innerHTML = '';\n",
              "          dataTable['output_type'] = 'display_data';\n",
              "          await google.colab.output.renderOutput(dataTable, element);\n",
              "          const docLink = document.createElement('div');\n",
              "          docLink.innerHTML = docLinkHtml;\n",
              "          element.appendChild(docLink);\n",
              "        }\n",
              "      </script>\n",
              "    </div>\n",
              "  </div>\n",
              "  "
            ]
          },
          "metadata": {},
          "execution_count": 181
        }
      ]
    },
    {
      "cell_type": "markdown",
      "source": [
        "## Preparing dataset from the text useful to update dataset for the model"
      ],
      "metadata": {
        "id": "kacYhM6ydhpK"
      }
    },
    {
      "cell_type": "code",
      "source": [
        "#create dataframe from the text in input\n",
        "from sklearn.feature_extraction.text import CountVectorizer\n",
        "\n",
        "sms_df = data['Message']\n",
        "vectorizer = CountVectorizer()\n",
        "X = vectorizer.fit_transform(sms_df)\n",
        "#print(vectorizer.get_feature_names())\n",
        "\n"
      ],
      "metadata": {
        "id": "deGBvU-IaAli"
      },
      "execution_count": 182,
      "outputs": []
    },
    {
      "cell_type": "code",
      "source": [
        "print(len(X.toarray()[0]))\n",
        "count_words=pd.DataFrame(X.toarray(),columns=vectorizer.get_feature_names())\n",
        "count_words['length']=len(email)\n",
        "count_words.head()"
      ],
      "metadata": {
        "colab": {
          "base_uri": "https://localhost:8080/",
          "height": 99
        },
        "id": "V0XEvCCdadxC",
        "outputId": "8c057f14-67d7-4a0c-9725-da800d31ce3a"
      },
      "execution_count": 183,
      "outputs": [
        {
          "output_type": "stream",
          "name": "stdout",
          "text": [
            "5\n"
          ]
        },
        {
          "output_type": "execute_result",
          "data": {
            "text/plain": [
              "   giusepp  glad  hello  meet  name  length\n",
              "0        1     1      1     1     1      51"
            ],
            "text/html": [
              "\n",
              "  <div id=\"df-233245c0-01b5-4f74-bb64-ec79fd3baee6\">\n",
              "    <div class=\"colab-df-container\">\n",
              "      <div>\n",
              "<style scoped>\n",
              "    .dataframe tbody tr th:only-of-type {\n",
              "        vertical-align: middle;\n",
              "    }\n",
              "\n",
              "    .dataframe tbody tr th {\n",
              "        vertical-align: top;\n",
              "    }\n",
              "\n",
              "    .dataframe thead th {\n",
              "        text-align: right;\n",
              "    }\n",
              "</style>\n",
              "<table border=\"1\" class=\"dataframe\">\n",
              "  <thead>\n",
              "    <tr style=\"text-align: right;\">\n",
              "      <th></th>\n",
              "      <th>giusepp</th>\n",
              "      <th>glad</th>\n",
              "      <th>hello</th>\n",
              "      <th>meet</th>\n",
              "      <th>name</th>\n",
              "      <th>length</th>\n",
              "    </tr>\n",
              "  </thead>\n",
              "  <tbody>\n",
              "    <tr>\n",
              "      <th>0</th>\n",
              "      <td>1</td>\n",
              "      <td>1</td>\n",
              "      <td>1</td>\n",
              "      <td>1</td>\n",
              "      <td>1</td>\n",
              "      <td>51</td>\n",
              "    </tr>\n",
              "  </tbody>\n",
              "</table>\n",
              "</div>\n",
              "      <button class=\"colab-df-convert\" onclick=\"convertToInteractive('df-233245c0-01b5-4f74-bb64-ec79fd3baee6')\"\n",
              "              title=\"Convert this dataframe to an interactive table.\"\n",
              "              style=\"display:none;\">\n",
              "        \n",
              "  <svg xmlns=\"http://www.w3.org/2000/svg\" height=\"24px\"viewBox=\"0 0 24 24\"\n",
              "       width=\"24px\">\n",
              "    <path d=\"M0 0h24v24H0V0z\" fill=\"none\"/>\n",
              "    <path d=\"M18.56 5.44l.94 2.06.94-2.06 2.06-.94-2.06-.94-.94-2.06-.94 2.06-2.06.94zm-11 1L8.5 8.5l.94-2.06 2.06-.94-2.06-.94L8.5 2.5l-.94 2.06-2.06.94zm10 10l.94 2.06.94-2.06 2.06-.94-2.06-.94-.94-2.06-.94 2.06-2.06.94z\"/><path d=\"M17.41 7.96l-1.37-1.37c-.4-.4-.92-.59-1.43-.59-.52 0-1.04.2-1.43.59L10.3 9.45l-7.72 7.72c-.78.78-.78 2.05 0 2.83L4 21.41c.39.39.9.59 1.41.59.51 0 1.02-.2 1.41-.59l7.78-7.78 2.81-2.81c.8-.78.8-2.07 0-2.86zM5.41 20L4 18.59l7.72-7.72 1.47 1.35L5.41 20z\"/>\n",
              "  </svg>\n",
              "      </button>\n",
              "      \n",
              "  <style>\n",
              "    .colab-df-container {\n",
              "      display:flex;\n",
              "      flex-wrap:wrap;\n",
              "      gap: 12px;\n",
              "    }\n",
              "\n",
              "    .colab-df-convert {\n",
              "      background-color: #E8F0FE;\n",
              "      border: none;\n",
              "      border-radius: 50%;\n",
              "      cursor: pointer;\n",
              "      display: none;\n",
              "      fill: #1967D2;\n",
              "      height: 32px;\n",
              "      padding: 0 0 0 0;\n",
              "      width: 32px;\n",
              "    }\n",
              "\n",
              "    .colab-df-convert:hover {\n",
              "      background-color: #E2EBFA;\n",
              "      box-shadow: 0px 1px 2px rgba(60, 64, 67, 0.3), 0px 1px 3px 1px rgba(60, 64, 67, 0.15);\n",
              "      fill: #174EA6;\n",
              "    }\n",
              "\n",
              "    [theme=dark] .colab-df-convert {\n",
              "      background-color: #3B4455;\n",
              "      fill: #D2E3FC;\n",
              "    }\n",
              "\n",
              "    [theme=dark] .colab-df-convert:hover {\n",
              "      background-color: #434B5C;\n",
              "      box-shadow: 0px 1px 3px 1px rgba(0, 0, 0, 0.15);\n",
              "      filter: drop-shadow(0px 1px 2px rgba(0, 0, 0, 0.3));\n",
              "      fill: #FFFFFF;\n",
              "    }\n",
              "  </style>\n",
              "\n",
              "      <script>\n",
              "        const buttonEl =\n",
              "          document.querySelector('#df-233245c0-01b5-4f74-bb64-ec79fd3baee6 button.colab-df-convert');\n",
              "        buttonEl.style.display =\n",
              "          google.colab.kernel.accessAllowed ? 'block' : 'none';\n",
              "\n",
              "        async function convertToInteractive(key) {\n",
              "          const element = document.querySelector('#df-233245c0-01b5-4f74-bb64-ec79fd3baee6');\n",
              "          const dataTable =\n",
              "            await google.colab.kernel.invokeFunction('convertToInteractive',\n",
              "                                                     [key], {});\n",
              "          if (!dataTable) return;\n",
              "\n",
              "          const docLinkHtml = 'Like what you see? Visit the ' +\n",
              "            '<a target=\"_blank\" href=https://colab.research.google.com/notebooks/data_table.ipynb>data table notebook</a>'\n",
              "            + ' to learn more about interactive tables.';\n",
              "          element.innerHTML = '';\n",
              "          dataTable['output_type'] = 'display_data';\n",
              "          await google.colab.output.renderOutput(dataTable, element);\n",
              "          const docLink = document.createElement('div');\n",
              "          docLink.innerHTML = docLinkHtml;\n",
              "          element.appendChild(docLink);\n",
              "        }\n",
              "      </script>\n",
              "    </div>\n",
              "  </div>\n",
              "  "
            ]
          },
          "metadata": {},
          "execution_count": 183
        }
      ]
    },
    {
      "cell_type": "markdown",
      "source": [
        "##  Updating dataset to be provided to the model"
      ],
      "metadata": {
        "id": "m9gBAOsGdttu"
      }
    },
    {
      "cell_type": "code",
      "source": [
        "#now i will overlap dataframe from text with dataframe for the model\n",
        "newdata.update(count_words)\n",
        "pd.set_option('display.max_columns', 100)\n",
        "newdata.head() \n"
      ],
      "metadata": {
        "colab": {
          "base_uri": "https://localhost:8080/",
          "height": 174
        },
        "id": "FeMf8K-wawYB",
        "outputId": "3a3244db-32d6-414b-df84-61156798e0a7"
      },
      "execution_count": 184,
      "outputs": [
        {
          "output_type": "execute_result",
          "data": {
            "text/plain": [
              "   game  hrs  sleep  cash  rington  dear  last  sms  lol  got  give  buy  \\\n",
              "0     0    0      0     0        0     0     0    0    0    0     0    0   \n",
              "\n",
              "   later  guarante  much  win  send  await  thank  happi  live  po  go  \\\n",
              "0      0         0     0    0     0      0      0      0     0   0   0   \n",
              "\n",
              "   urgent  back  club  thing  show  pleas  award  meet  cos  pic  need  \\\n",
              "0       0     0     0      0     0      0      0     1    0    0     0   \n",
              "\n",
              "   finish  per  nation  ok  home  network  right  said  pm  good  orang  \\\n",
              "0       0    0       0   0     0        0      0     0   0     0      0   \n",
              "\n",
              "   appli  ms  ask  valid  lor  ...  servic  care  life  night  poli  dont  \\\n",
              "0      0   0    0      0    0  ...       0     0     0      0     0     0   \n",
              "\n",
              "   com  call  ur  landlin  video  phone  date  help  leav  latest  code  wat  \\\n",
              "0    0     0   0        0      0      0     0     0     0       0     0    0   \n",
              "\n",
              "   tell  collect  line  land  miss  ppm  gud  special  camera  word  charg  \\\n",
              "0     0        0     0     0     0    0    0        0       0     0      0   \n",
              "\n",
              "   hope  msg  well  gt  amp  pls  cs  tomorrow  custom  say  love  pn  morn  \\\n",
              "0     0    0     0   0    0    0   0         0       0    0     0   0     0   \n",
              "\n",
              "   know  day  yeah  st  nokia  prize  one  length  \n",
              "0     0    0     0   0      0      0    0      51  \n",
              "\n",
              "[1 rows x 182 columns]"
            ],
            "text/html": [
              "\n",
              "  <div id=\"df-ea0fbb9a-202f-4083-85bb-2aaf8d4eaebc\">\n",
              "    <div class=\"colab-df-container\">\n",
              "      <div>\n",
              "<style scoped>\n",
              "    .dataframe tbody tr th:only-of-type {\n",
              "        vertical-align: middle;\n",
              "    }\n",
              "\n",
              "    .dataframe tbody tr th {\n",
              "        vertical-align: top;\n",
              "    }\n",
              "\n",
              "    .dataframe thead th {\n",
              "        text-align: right;\n",
              "    }\n",
              "</style>\n",
              "<table border=\"1\" class=\"dataframe\">\n",
              "  <thead>\n",
              "    <tr style=\"text-align: right;\">\n",
              "      <th></th>\n",
              "      <th>game</th>\n",
              "      <th>hrs</th>\n",
              "      <th>sleep</th>\n",
              "      <th>cash</th>\n",
              "      <th>rington</th>\n",
              "      <th>dear</th>\n",
              "      <th>last</th>\n",
              "      <th>sms</th>\n",
              "      <th>lol</th>\n",
              "      <th>got</th>\n",
              "      <th>give</th>\n",
              "      <th>buy</th>\n",
              "      <th>later</th>\n",
              "      <th>guarante</th>\n",
              "      <th>much</th>\n",
              "      <th>win</th>\n",
              "      <th>send</th>\n",
              "      <th>await</th>\n",
              "      <th>thank</th>\n",
              "      <th>happi</th>\n",
              "      <th>live</th>\n",
              "      <th>po</th>\n",
              "      <th>go</th>\n",
              "      <th>urgent</th>\n",
              "      <th>back</th>\n",
              "      <th>club</th>\n",
              "      <th>thing</th>\n",
              "      <th>show</th>\n",
              "      <th>pleas</th>\n",
              "      <th>award</th>\n",
              "      <th>meet</th>\n",
              "      <th>cos</th>\n",
              "      <th>pic</th>\n",
              "      <th>need</th>\n",
              "      <th>finish</th>\n",
              "      <th>per</th>\n",
              "      <th>nation</th>\n",
              "      <th>ok</th>\n",
              "      <th>home</th>\n",
              "      <th>network</th>\n",
              "      <th>right</th>\n",
              "      <th>said</th>\n",
              "      <th>pm</th>\n",
              "      <th>good</th>\n",
              "      <th>orang</th>\n",
              "      <th>appli</th>\n",
              "      <th>ms</th>\n",
              "      <th>ask</th>\n",
              "      <th>valid</th>\n",
              "      <th>lor</th>\n",
              "      <th>...</th>\n",
              "      <th>servic</th>\n",
              "      <th>care</th>\n",
              "      <th>life</th>\n",
              "      <th>night</th>\n",
              "      <th>poli</th>\n",
              "      <th>dont</th>\n",
              "      <th>com</th>\n",
              "      <th>call</th>\n",
              "      <th>ur</th>\n",
              "      <th>landlin</th>\n",
              "      <th>video</th>\n",
              "      <th>phone</th>\n",
              "      <th>date</th>\n",
              "      <th>help</th>\n",
              "      <th>leav</th>\n",
              "      <th>latest</th>\n",
              "      <th>code</th>\n",
              "      <th>wat</th>\n",
              "      <th>tell</th>\n",
              "      <th>collect</th>\n",
              "      <th>line</th>\n",
              "      <th>land</th>\n",
              "      <th>miss</th>\n",
              "      <th>ppm</th>\n",
              "      <th>gud</th>\n",
              "      <th>special</th>\n",
              "      <th>camera</th>\n",
              "      <th>word</th>\n",
              "      <th>charg</th>\n",
              "      <th>hope</th>\n",
              "      <th>msg</th>\n",
              "      <th>well</th>\n",
              "      <th>gt</th>\n",
              "      <th>amp</th>\n",
              "      <th>pls</th>\n",
              "      <th>cs</th>\n",
              "      <th>tomorrow</th>\n",
              "      <th>custom</th>\n",
              "      <th>say</th>\n",
              "      <th>love</th>\n",
              "      <th>pn</th>\n",
              "      <th>morn</th>\n",
              "      <th>know</th>\n",
              "      <th>day</th>\n",
              "      <th>yeah</th>\n",
              "      <th>st</th>\n",
              "      <th>nokia</th>\n",
              "      <th>prize</th>\n",
              "      <th>one</th>\n",
              "      <th>length</th>\n",
              "    </tr>\n",
              "  </thead>\n",
              "  <tbody>\n",
              "    <tr>\n",
              "      <th>0</th>\n",
              "      <td>0</td>\n",
              "      <td>0</td>\n",
              "      <td>0</td>\n",
              "      <td>0</td>\n",
              "      <td>0</td>\n",
              "      <td>0</td>\n",
              "      <td>0</td>\n",
              "      <td>0</td>\n",
              "      <td>0</td>\n",
              "      <td>0</td>\n",
              "      <td>0</td>\n",
              "      <td>0</td>\n",
              "      <td>0</td>\n",
              "      <td>0</td>\n",
              "      <td>0</td>\n",
              "      <td>0</td>\n",
              "      <td>0</td>\n",
              "      <td>0</td>\n",
              "      <td>0</td>\n",
              "      <td>0</td>\n",
              "      <td>0</td>\n",
              "      <td>0</td>\n",
              "      <td>0</td>\n",
              "      <td>0</td>\n",
              "      <td>0</td>\n",
              "      <td>0</td>\n",
              "      <td>0</td>\n",
              "      <td>0</td>\n",
              "      <td>0</td>\n",
              "      <td>0</td>\n",
              "      <td>1</td>\n",
              "      <td>0</td>\n",
              "      <td>0</td>\n",
              "      <td>0</td>\n",
              "      <td>0</td>\n",
              "      <td>0</td>\n",
              "      <td>0</td>\n",
              "      <td>0</td>\n",
              "      <td>0</td>\n",
              "      <td>0</td>\n",
              "      <td>0</td>\n",
              "      <td>0</td>\n",
              "      <td>0</td>\n",
              "      <td>0</td>\n",
              "      <td>0</td>\n",
              "      <td>0</td>\n",
              "      <td>0</td>\n",
              "      <td>0</td>\n",
              "      <td>0</td>\n",
              "      <td>0</td>\n",
              "      <td>...</td>\n",
              "      <td>0</td>\n",
              "      <td>0</td>\n",
              "      <td>0</td>\n",
              "      <td>0</td>\n",
              "      <td>0</td>\n",
              "      <td>0</td>\n",
              "      <td>0</td>\n",
              "      <td>0</td>\n",
              "      <td>0</td>\n",
              "      <td>0</td>\n",
              "      <td>0</td>\n",
              "      <td>0</td>\n",
              "      <td>0</td>\n",
              "      <td>0</td>\n",
              "      <td>0</td>\n",
              "      <td>0</td>\n",
              "      <td>0</td>\n",
              "      <td>0</td>\n",
              "      <td>0</td>\n",
              "      <td>0</td>\n",
              "      <td>0</td>\n",
              "      <td>0</td>\n",
              "      <td>0</td>\n",
              "      <td>0</td>\n",
              "      <td>0</td>\n",
              "      <td>0</td>\n",
              "      <td>0</td>\n",
              "      <td>0</td>\n",
              "      <td>0</td>\n",
              "      <td>0</td>\n",
              "      <td>0</td>\n",
              "      <td>0</td>\n",
              "      <td>0</td>\n",
              "      <td>0</td>\n",
              "      <td>0</td>\n",
              "      <td>0</td>\n",
              "      <td>0</td>\n",
              "      <td>0</td>\n",
              "      <td>0</td>\n",
              "      <td>0</td>\n",
              "      <td>0</td>\n",
              "      <td>0</td>\n",
              "      <td>0</td>\n",
              "      <td>0</td>\n",
              "      <td>0</td>\n",
              "      <td>0</td>\n",
              "      <td>0</td>\n",
              "      <td>0</td>\n",
              "      <td>0</td>\n",
              "      <td>51</td>\n",
              "    </tr>\n",
              "  </tbody>\n",
              "</table>\n",
              "<p>1 rows × 182 columns</p>\n",
              "</div>\n",
              "      <button class=\"colab-df-convert\" onclick=\"convertToInteractive('df-ea0fbb9a-202f-4083-85bb-2aaf8d4eaebc')\"\n",
              "              title=\"Convert this dataframe to an interactive table.\"\n",
              "              style=\"display:none;\">\n",
              "        \n",
              "  <svg xmlns=\"http://www.w3.org/2000/svg\" height=\"24px\"viewBox=\"0 0 24 24\"\n",
              "       width=\"24px\">\n",
              "    <path d=\"M0 0h24v24H0V0z\" fill=\"none\"/>\n",
              "    <path d=\"M18.56 5.44l.94 2.06.94-2.06 2.06-.94-2.06-.94-.94-2.06-.94 2.06-2.06.94zm-11 1L8.5 8.5l.94-2.06 2.06-.94-2.06-.94L8.5 2.5l-.94 2.06-2.06.94zm10 10l.94 2.06.94-2.06 2.06-.94-2.06-.94-.94-2.06-.94 2.06-2.06.94z\"/><path d=\"M17.41 7.96l-1.37-1.37c-.4-.4-.92-.59-1.43-.59-.52 0-1.04.2-1.43.59L10.3 9.45l-7.72 7.72c-.78.78-.78 2.05 0 2.83L4 21.41c.39.39.9.59 1.41.59.51 0 1.02-.2 1.41-.59l7.78-7.78 2.81-2.81c.8-.78.8-2.07 0-2.86zM5.41 20L4 18.59l7.72-7.72 1.47 1.35L5.41 20z\"/>\n",
              "  </svg>\n",
              "      </button>\n",
              "      \n",
              "  <style>\n",
              "    .colab-df-container {\n",
              "      display:flex;\n",
              "      flex-wrap:wrap;\n",
              "      gap: 12px;\n",
              "    }\n",
              "\n",
              "    .colab-df-convert {\n",
              "      background-color: #E8F0FE;\n",
              "      border: none;\n",
              "      border-radius: 50%;\n",
              "      cursor: pointer;\n",
              "      display: none;\n",
              "      fill: #1967D2;\n",
              "      height: 32px;\n",
              "      padding: 0 0 0 0;\n",
              "      width: 32px;\n",
              "    }\n",
              "\n",
              "    .colab-df-convert:hover {\n",
              "      background-color: #E2EBFA;\n",
              "      box-shadow: 0px 1px 2px rgba(60, 64, 67, 0.3), 0px 1px 3px 1px rgba(60, 64, 67, 0.15);\n",
              "      fill: #174EA6;\n",
              "    }\n",
              "\n",
              "    [theme=dark] .colab-df-convert {\n",
              "      background-color: #3B4455;\n",
              "      fill: #D2E3FC;\n",
              "    }\n",
              "\n",
              "    [theme=dark] .colab-df-convert:hover {\n",
              "      background-color: #434B5C;\n",
              "      box-shadow: 0px 1px 3px 1px rgba(0, 0, 0, 0.15);\n",
              "      filter: drop-shadow(0px 1px 2px rgba(0, 0, 0, 0.3));\n",
              "      fill: #FFFFFF;\n",
              "    }\n",
              "  </style>\n",
              "\n",
              "      <script>\n",
              "        const buttonEl =\n",
              "          document.querySelector('#df-ea0fbb9a-202f-4083-85bb-2aaf8d4eaebc button.colab-df-convert');\n",
              "        buttonEl.style.display =\n",
              "          google.colab.kernel.accessAllowed ? 'block' : 'none';\n",
              "\n",
              "        async function convertToInteractive(key) {\n",
              "          const element = document.querySelector('#df-ea0fbb9a-202f-4083-85bb-2aaf8d4eaebc');\n",
              "          const dataTable =\n",
              "            await google.colab.kernel.invokeFunction('convertToInteractive',\n",
              "                                                     [key], {});\n",
              "          if (!dataTable) return;\n",
              "\n",
              "          const docLinkHtml = 'Like what you see? Visit the ' +\n",
              "            '<a target=\"_blank\" href=https://colab.research.google.com/notebooks/data_table.ipynb>data table notebook</a>'\n",
              "            + ' to learn more about interactive tables.';\n",
              "          element.innerHTML = '';\n",
              "          dataTable['output_type'] = 'display_data';\n",
              "          await google.colab.output.renderOutput(dataTable, element);\n",
              "          const docLink = document.createElement('div');\n",
              "          docLink.innerHTML = docLinkHtml;\n",
              "          element.appendChild(docLink);\n",
              "        }\n",
              "      </script>\n",
              "    </div>\n",
              "  </div>\n",
              "  "
            ]
          },
          "metadata": {},
          "execution_count": 184
        }
      ]
    },
    {
      "cell_type": "markdown",
      "source": [
        "## Loading model"
      ],
      "metadata": {
        "id": "7VMEn3-YWiUi"
      }
    },
    {
      "cell_type": "code",
      "source": [
        "#Loading model saved\n",
        "rfc = pickle.load(open('spam_classifier_model.sav', 'rb'))\n",
        "#result = rfc.score(X, Y)\n",
        "#print(result) "
      ],
      "metadata": {
        "id": "2hK-3jbVWms6"
      },
      "execution_count": 185,
      "outputs": []
    },
    {
      "cell_type": "markdown",
      "source": [
        "## Classifying email"
      ],
      "metadata": {
        "id": "4tY6xvxxdzWv"
      }
    },
    {
      "cell_type": "code",
      "source": [
        "prediction = rfc.predict(newdata)\n",
        "if(prediction ==1): print(\"spam\")\n",
        "else: print('ham')"
      ],
      "metadata": {
        "colab": {
          "base_uri": "https://localhost:8080/"
        },
        "id": "3K79oDaKW5uT",
        "outputId": "af7c452b-4d4c-420a-f2af-636d94ffa1e6"
      },
      "execution_count": 186,
      "outputs": [
        {
          "output_type": "stream",
          "name": "stdout",
          "text": [
            "ham\n"
          ]
        }
      ]
    },
    {
      "cell_type": "markdown",
      "source": [
        "# Conclusion\n",
        "\n",
        "I have obtained an accuracy of 98.42%  with a precision score  for spam emails of  98.23% and of 98.45% for ham emails,I can conclude saying that the model will work well with emails like in the dataset but since that modern emails have a more complex structure this model will not be useful in classifying those"
      ],
      "metadata": {
        "id": "-uO3zdqwZMuU"
      }
    }
  ]
}